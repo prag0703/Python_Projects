{
 "cells": [
  {
   "cell_type": "markdown",
   "metadata": {},
   "source": [
    "<h2>ALY6015_SpringA2020_Pragati_Koladiya_Assignment_3</h2>\n",
    "\n",
    "<p> <b>Week: </b>3</p>\n",
    "<p> <b>Author:</b> Pragati Koladiya </p> \n",
    "<p> <b>Tittle:</b> Assignment 3 </p>\n"
   ]
  },
  {
   "cell_type": "markdown",
   "metadata": {},
   "source": [
    "<h1>Part 2 </h1>\n",
    "<h3>Logistic Regression</h3>\n",
    "<ul>\n",
    "    <li>It is a Machine Learning classification algorithm that is used to predict the probability of a categorical dependent variable. </li>\n",
    "    <li>In logistic regression, the dependent variable is a binary variable that contains data coded as 1 (yes, success, etc.) or 0 (no, failure, etc.). </li>\n",
    "    <li>In other words, the logistic regression model predicts P(Y=1) as a function of X. </li>"
   ]
  },
  {
   "cell_type": "code",
   "execution_count": 34,
   "metadata": {},
   "outputs": [
    {
     "name": "stdout",
     "output_type": "stream",
     "text": [
      "Collecting matplotlib==3.1.0\n",
      "  Downloading matplotlib-3.1.0-cp37-cp37m-macosx_10_6_intel.macosx_10_9_intel.macosx_10_9_x86_64.macosx_10_10_intel.macosx_10_10_x86_64.whl (14.4 MB)\n",
      "\u001b[K     |████████████████████████████████| 14.4 MB 4.5 MB/s eta 0:00:01\n",
      "\u001b[?25hRequirement already satisfied: python-dateutil>=2.1 in /Users/pragatikoladiya/opt/anaconda3/lib/python3.7/site-packages (from matplotlib==3.1.0) (2.8.0)\n",
      "Requirement already satisfied: cycler>=0.10 in /Users/pragatikoladiya/opt/anaconda3/lib/python3.7/site-packages (from matplotlib==3.1.0) (0.10.0)\n",
      "Requirement already satisfied: kiwisolver>=1.0.1 in /Users/pragatikoladiya/opt/anaconda3/lib/python3.7/site-packages (from matplotlib==3.1.0) (1.1.0)\n",
      "Requirement already satisfied: numpy>=1.11 in /Users/pragatikoladiya/opt/anaconda3/lib/python3.7/site-packages (from matplotlib==3.1.0) (1.17.2)\n",
      "Requirement already satisfied: pyparsing!=2.0.4,!=2.1.2,!=2.1.6,>=2.0.1 in /Users/pragatikoladiya/opt/anaconda3/lib/python3.7/site-packages (from matplotlib==3.1.0) (2.4.2)\n",
      "Requirement already satisfied: six>=1.5 in /Users/pragatikoladiya/opt/anaconda3/lib/python3.7/site-packages (from python-dateutil>=2.1->matplotlib==3.1.0) (1.12.0)\n",
      "Requirement already satisfied: setuptools in /Users/pragatikoladiya/opt/anaconda3/lib/python3.7/site-packages (from kiwisolver>=1.0.1->matplotlib==3.1.0) (41.4.0)\n",
      "Installing collected packages: matplotlib\n",
      "  Attempting uninstall: matplotlib\n",
      "    Found existing installation: matplotlib 3.1.1\n",
      "    Uninstalling matplotlib-3.1.1:\n",
      "      Successfully uninstalled matplotlib-3.1.1\n",
      "Successfully installed matplotlib-3.1.0\n"
     ]
    }
   ],
   "source": [
    "#!pip install matplotlib==3.1.0"
   ]
  },
  {
   "cell_type": "markdown",
   "metadata": {},
   "source": [
    "<h3>Import packages</h3>"
   ]
  },
  {
   "cell_type": "code",
   "execution_count": 76,
   "metadata": {},
   "outputs": [
    {
     "data": {
      "text/html": [
       "        <script type=\"text/javascript\">\n",
       "        window.PlotlyConfig = {MathJaxConfig: 'local'};\n",
       "        if (window.MathJax) {MathJax.Hub.Config({SVG: {font: \"STIX-Web\"}});}\n",
       "        if (typeof require !== 'undefined') {\n",
       "        require.undef(\"plotly\");\n",
       "        requirejs.config({\n",
       "            paths: {\n",
       "                'plotly': ['https://cdn.plot.ly/plotly-latest.min']\n",
       "            }\n",
       "        });\n",
       "        require(['plotly'], function(Plotly) {\n",
       "            window._Plotly = Plotly;\n",
       "        });\n",
       "        }\n",
       "        </script>\n",
       "        "
      ]
     },
     "metadata": {},
     "output_type": "display_data"
    }
   ],
   "source": [
    "import plotly.figure_factory as ff\n",
    "from imblearn.over_sampling import SMOTE\n",
    "\n",
    "import matplotlib\n",
    "import matplotlib.pyplot as plt\n",
    "from matplotlib import pyplot as plt\n",
    "from matplotlib.ticker import PercentFormatter\n",
    "\n",
    "import numpy as np\n",
    "import os\n",
    "import pandas as pd\n",
    "from pylab import rcParams\n",
    "import plotly.offline as py\n",
    "import plotly.graph_objs as go\n",
    "py.init_notebook_mode(connected=True)\n",
    "\n",
    "import random\n",
    "from sklearn.metrics import roc_auc_score,make_scorer,classification_report,roc_curve,auc\n",
    "#from scikitplot.metrics import plot_confusion_matrix,plot_precision_recall_curve\n",
    "from sklearn.model_selection import train_test_split,cross_val_predict,cross_val_score\n",
    "from sklearn.model_selection import train_test_split,cross_val_predict,cross_val_score\n",
    "\n",
    "import seaborn as sns\n",
    "from scipy.cluster.hierarchy import dendrogram, linkage\n",
    "\n",
    "import statsmodels.api as sm\n",
    "from sklearn import metrics\n",
    "from sklearn import datasets\n",
    "from sklearn import linear_model\n",
    "from sklearn.linear_model import Ridge\n",
    "from sklearn.linear_model import Lasso\n",
    "from sklearn.feature_selection import RFE\n",
    "from sklearn.metrics import confusion_matrix\n",
    "from sklearn.metrics import mean_squared_error\n",
    "from sklearn.linear_model import LinearRegression\n",
    "from sklearn.metrics import classification_report\n",
    "from sklearn.linear_model import LogisticRegression\n",
    "from sklearn.model_selection import train_test_split\n",
    "from sklearn.linear_model import LassoCV, LassoLarsCV, LassoLarsIC\n",
    "\n",
    "\n",
    "from sklearn import linear_model, decomposition, datasets\n",
    "from sklearn.pipeline import Pipeline\n",
    "from sklearn.model_selection import GridSearchCV, cross_val_score\n",
    "from sklearn.preprocessing import StandardScaler\n",
    "\n",
    "from sklearn.feature_selection import SelectKBest\n",
    "from sklearn.feature_selection import chi2\n",
    "from sklearn.ensemble import ExtraTreesClassifier\n",
    "import matplotlib.pyplot as plt\n",
    "\n",
    "import warnings\n",
    "warnings.filterwarnings('ignore')\n",
    "\n",
    "rcParams['figure.figsize'] = (23, 8)\n",
    "sns.set_style('whitegrid')\n",
    "plt.style.use('fivethirtyeight')\n",
    "\n",
    "%matplotlib inline"
   ]
  },
  {
   "cell_type": "markdown",
   "metadata": {},
   "source": [
    "<h3>Acquire and load the data</h3>"
   ]
  },
  {
   "cell_type": "code",
   "execution_count": 77,
   "metadata": {},
   "outputs": [],
   "source": [
    "#read data from google sheets \n",
    "data_path=\"https://docs.google.com/spreadsheets/d/e/2PACX-1vQ_wRU3xxq0tOV4TOBkUwk7JOoqeD6MAJs88Qn00-1436iuVeW7Jppg50fZE6jXbRl_clbAa6Wy-fFs/pub?gid=1833614880&single=true&output=csv\"\n",
    "df = pd.read_csv(data_path)"
   ]
  },
  {
   "cell_type": "code",
   "execution_count": 78,
   "metadata": {},
   "outputs": [
    {
     "data": {
      "text/plain": [
       "(505, 16)"
      ]
     },
     "execution_count": 78,
     "metadata": {},
     "output_type": "execute_result"
    }
   ],
   "source": [
    "df.shape"
   ]
  },
  {
   "cell_type": "code",
   "execution_count": 79,
   "metadata": {},
   "outputs": [
    {
     "data": {
      "text/html": [
       "<div>\n",
       "<style scoped>\n",
       "    .dataframe tbody tr th:only-of-type {\n",
       "        vertical-align: middle;\n",
       "    }\n",
       "\n",
       "    .dataframe tbody tr th {\n",
       "        vertical-align: top;\n",
       "    }\n",
       "\n",
       "    .dataframe thead th {\n",
       "        text-align: right;\n",
       "    }\n",
       "</style>\n",
       "<table border=\"1\" class=\"dataframe\">\n",
       "  <thead>\n",
       "    <tr style=\"text-align: right;\">\n",
       "      <th></th>\n",
       "      <th>row</th>\n",
       "      <th>transaction</th>\n",
       "      <th>salary_usd</th>\n",
       "      <th>is_male</th>\n",
       "      <th>is_married</th>\n",
       "      <th>is_college</th>\n",
       "      <th>is_professional</th>\n",
       "      <th>is_senior</th>\n",
       "      <th>is_employed</th>\n",
       "      <th>is_single_income</th>\n",
       "      <th>children_present</th>\n",
       "      <th>is_renter</th>\n",
       "      <th>lives_in_house</th>\n",
       "      <th>is_english_primary_language</th>\n",
       "      <th>previously_disney_customer</th>\n",
       "      <th>previous_streaming_service_customer</th>\n",
       "    </tr>\n",
       "  </thead>\n",
       "  <tbody>\n",
       "    <tr>\n",
       "      <td>0</td>\n",
       "      <td>653</td>\n",
       "      <td>0</td>\n",
       "      <td>25000</td>\n",
       "      <td>1</td>\n",
       "      <td>0</td>\n",
       "      <td>0</td>\n",
       "      <td>0</td>\n",
       "      <td>0</td>\n",
       "      <td>0</td>\n",
       "      <td>1</td>\n",
       "      <td>0</td>\n",
       "      <td>1</td>\n",
       "      <td>0</td>\n",
       "      <td>1</td>\n",
       "      <td>0</td>\n",
       "      <td>0</td>\n",
       "    </tr>\n",
       "    <tr>\n",
       "      <td>1</td>\n",
       "      <td>546</td>\n",
       "      <td>0</td>\n",
       "      <td>7000</td>\n",
       "      <td>0</td>\n",
       "      <td>0</td>\n",
       "      <td>0</td>\n",
       "      <td>0</td>\n",
       "      <td>0</td>\n",
       "      <td>0</td>\n",
       "      <td>1</td>\n",
       "      <td>1</td>\n",
       "      <td>1</td>\n",
       "      <td>1</td>\n",
       "      <td>1</td>\n",
       "      <td>0</td>\n",
       "      <td>0</td>\n",
       "    </tr>\n",
       "    <tr>\n",
       "      <td>2</td>\n",
       "      <td>463</td>\n",
       "      <td>0</td>\n",
       "      <td>25000</td>\n",
       "      <td>1</td>\n",
       "      <td>0</td>\n",
       "      <td>0</td>\n",
       "      <td>1</td>\n",
       "      <td>0</td>\n",
       "      <td>0</td>\n",
       "      <td>1</td>\n",
       "      <td>1</td>\n",
       "      <td>1</td>\n",
       "      <td>0</td>\n",
       "      <td>1</td>\n",
       "      <td>1</td>\n",
       "      <td>0</td>\n",
       "    </tr>\n",
       "    <tr>\n",
       "      <td>3</td>\n",
       "      <td>93</td>\n",
       "      <td>1</td>\n",
       "      <td>124000</td>\n",
       "      <td>0</td>\n",
       "      <td>1</td>\n",
       "      <td>1</td>\n",
       "      <td>1</td>\n",
       "      <td>0</td>\n",
       "      <td>0</td>\n",
       "      <td>0</td>\n",
       "      <td>0</td>\n",
       "      <td>0</td>\n",
       "      <td>1</td>\n",
       "      <td>1</td>\n",
       "      <td>0</td>\n",
       "      <td>0</td>\n",
       "    </tr>\n",
       "    <tr>\n",
       "      <td>4</td>\n",
       "      <td>672</td>\n",
       "      <td>1</td>\n",
       "      <td>84000</td>\n",
       "      <td>0</td>\n",
       "      <td>1</td>\n",
       "      <td>0</td>\n",
       "      <td>1</td>\n",
       "      <td>0</td>\n",
       "      <td>0</td>\n",
       "      <td>0</td>\n",
       "      <td>1</td>\n",
       "      <td>0</td>\n",
       "      <td>1</td>\n",
       "      <td>1</td>\n",
       "      <td>0</td>\n",
       "      <td>0</td>\n",
       "    </tr>\n",
       "  </tbody>\n",
       "</table>\n",
       "</div>"
      ],
      "text/plain": [
       "   row  transaction  salary_usd  is_male  is_married  is_college  \\\n",
       "0  653            0       25000        1           0           0   \n",
       "1  546            0        7000        0           0           0   \n",
       "2  463            0       25000        1           0           0   \n",
       "3   93            1      124000        0           1           1   \n",
       "4  672            1       84000        0           1           0   \n",
       "\n",
       "   is_professional  is_senior  is_employed  is_single_income  \\\n",
       "0                0          0            0                 1   \n",
       "1                0          0            0                 1   \n",
       "2                1          0            0                 1   \n",
       "3                1          0            0                 0   \n",
       "4                1          0            0                 0   \n",
       "\n",
       "   children_present  is_renter  lives_in_house  is_english_primary_language  \\\n",
       "0                 0          1               0                            1   \n",
       "1                 1          1               1                            1   \n",
       "2                 1          1               0                            1   \n",
       "3                 0          0               1                            1   \n",
       "4                 1          0               1                            1   \n",
       "\n",
       "   previously_disney_customer  previous_streaming_service_customer  \n",
       "0                           0                                    0  \n",
       "1                           0                                    0  \n",
       "2                           1                                    0  \n",
       "3                           0                                    0  \n",
       "4                           0                                    0  "
      ]
     },
     "execution_count": 79,
     "metadata": {},
     "output_type": "execute_result"
    }
   ],
   "source": [
    "df.head()"
   ]
  },
  {
   "cell_type": "markdown",
   "metadata": {},
   "source": [
    "<h1>Data Exploration</h1>"
   ]
  },
  {
   "cell_type": "markdown",
   "metadata": {},
   "source": [
    "- <p>Checking for missing values</p>"
   ]
  },
  {
   "cell_type": "code",
   "execution_count": 80,
   "metadata": {},
   "outputs": [
    {
     "data": {
      "text/plain": [
       "row                                    0\n",
       "transaction                            0\n",
       "salary_usd                             0\n",
       "is_male                                0\n",
       "is_married                             0\n",
       "is_college                             0\n",
       "is_professional                        0\n",
       "is_senior                              0\n",
       "is_employed                            0\n",
       "is_single_income                       0\n",
       "children_present                       0\n",
       "is_renter                              0\n",
       "lives_in_house                         0\n",
       "is_english_primary_language            0\n",
       "previously_disney_customer             0\n",
       "previous_streaming_service_customer    0\n",
       "dtype: int64"
      ]
     },
     "execution_count": 80,
     "metadata": {},
     "output_type": "execute_result"
    }
   ],
   "source": [
    "df.isnull().sum()"
   ]
  },
  {
   "cell_type": "markdown",
   "metadata": {},
   "source": [
    "=> <i>Null values not found</i>"
   ]
  },
  {
   "cell_type": "code",
   "execution_count": 200,
   "metadata": {},
   "outputs": [
    {
     "data": {
      "text/plain": [
       "row                                    int64\n",
       "transaction                            int64\n",
       "salary_usd                             int64\n",
       "is_male                                int64\n",
       "is_married                             int64\n",
       "is_college                             int64\n",
       "is_professional                        int64\n",
       "is_senior                              int64\n",
       "is_employed                            int64\n",
       "is_single_income                       int64\n",
       "children_present                       int64\n",
       "is_renter                              int64\n",
       "lives_in_house                         int64\n",
       "is_english_primary_language            int64\n",
       "previously_disney_customer             int64\n",
       "previous_streaming_service_customer    int64\n",
       "dtype: object"
      ]
     },
     "execution_count": 200,
     "metadata": {},
     "output_type": "execute_result"
    }
   ],
   "source": [
    "df.dtypes"
   ]
  },
  {
   "cell_type": "markdown",
   "metadata": {},
   "source": [
    "- <p>Describing quantitative variable</p>"
   ]
  },
  {
   "cell_type": "code",
   "execution_count": 202,
   "metadata": {},
   "outputs": [
    {
     "data": {
      "text/html": [
       "<div>\n",
       "<style scoped>\n",
       "    .dataframe tbody tr th:only-of-type {\n",
       "        vertical-align: middle;\n",
       "    }\n",
       "\n",
       "    .dataframe tbody tr th {\n",
       "        vertical-align: top;\n",
       "    }\n",
       "\n",
       "    .dataframe thead th {\n",
       "        text-align: right;\n",
       "    }\n",
       "</style>\n",
       "<table border=\"1\" class=\"dataframe\">\n",
       "  <thead>\n",
       "    <tr style=\"text-align: right;\">\n",
       "      <th></th>\n",
       "      <th>row</th>\n",
       "      <th>transaction</th>\n",
       "      <th>salary_usd</th>\n",
       "      <th>is_male</th>\n",
       "      <th>is_married</th>\n",
       "      <th>is_college</th>\n",
       "      <th>is_professional</th>\n",
       "      <th>is_senior</th>\n",
       "      <th>is_employed</th>\n",
       "      <th>is_single_income</th>\n",
       "      <th>children_present</th>\n",
       "      <th>is_renter</th>\n",
       "      <th>lives_in_house</th>\n",
       "      <th>is_english_primary_language</th>\n",
       "      <th>previously_disney_customer</th>\n",
       "      <th>previous_streaming_service_customer</th>\n",
       "    </tr>\n",
       "  </thead>\n",
       "  <tbody>\n",
       "    <tr>\n",
       "      <td>count</td>\n",
       "      <td>505.000000</td>\n",
       "      <td>505.000000</td>\n",
       "      <td>505.000000</td>\n",
       "      <td>505.000000</td>\n",
       "      <td>505.000000</td>\n",
       "      <td>505.000000</td>\n",
       "      <td>505.000000</td>\n",
       "      <td>505.000000</td>\n",
       "      <td>505.000000</td>\n",
       "      <td>505.000000</td>\n",
       "      <td>505.000000</td>\n",
       "      <td>505.000000</td>\n",
       "      <td>505.000000</td>\n",
       "      <td>505.000000</td>\n",
       "      <td>505.000000</td>\n",
       "      <td>505.000000</td>\n",
       "    </tr>\n",
       "    <tr>\n",
       "      <td>mean</td>\n",
       "      <td>337.425743</td>\n",
       "      <td>0.186139</td>\n",
       "      <td>58223.762376</td>\n",
       "      <td>0.443564</td>\n",
       "      <td>0.366337</td>\n",
       "      <td>0.308911</td>\n",
       "      <td>0.352475</td>\n",
       "      <td>0.063366</td>\n",
       "      <td>0.029703</td>\n",
       "      <td>0.762376</td>\n",
       "      <td>0.364356</td>\n",
       "      <td>0.605941</td>\n",
       "      <td>0.673267</td>\n",
       "      <td>0.900990</td>\n",
       "      <td>0.075248</td>\n",
       "      <td>0.079208</td>\n",
       "    </tr>\n",
       "    <tr>\n",
       "      <td>std</td>\n",
       "      <td>196.318960</td>\n",
       "      <td>0.389604</td>\n",
       "      <td>39098.058320</td>\n",
       "      <td>0.497297</td>\n",
       "      <td>0.482281</td>\n",
       "      <td>0.462502</td>\n",
       "      <td>0.478215</td>\n",
       "      <td>0.243862</td>\n",
       "      <td>0.169935</td>\n",
       "      <td>0.426049</td>\n",
       "      <td>0.481726</td>\n",
       "      <td>0.489132</td>\n",
       "      <td>0.469484</td>\n",
       "      <td>0.298971</td>\n",
       "      <td>0.264052</td>\n",
       "      <td>0.270331</td>\n",
       "    </tr>\n",
       "    <tr>\n",
       "      <td>min</td>\n",
       "      <td>1.000000</td>\n",
       "      <td>0.000000</td>\n",
       "      <td>0.000000</td>\n",
       "      <td>0.000000</td>\n",
       "      <td>0.000000</td>\n",
       "      <td>0.000000</td>\n",
       "      <td>0.000000</td>\n",
       "      <td>0.000000</td>\n",
       "      <td>0.000000</td>\n",
       "      <td>0.000000</td>\n",
       "      <td>0.000000</td>\n",
       "      <td>0.000000</td>\n",
       "      <td>0.000000</td>\n",
       "      <td>0.000000</td>\n",
       "      <td>0.000000</td>\n",
       "      <td>0.000000</td>\n",
       "    </tr>\n",
       "    <tr>\n",
       "      <td>25%</td>\n",
       "      <td>162.000000</td>\n",
       "      <td>0.000000</td>\n",
       "      <td>25000.000000</td>\n",
       "      <td>0.000000</td>\n",
       "      <td>0.000000</td>\n",
       "      <td>0.000000</td>\n",
       "      <td>0.000000</td>\n",
       "      <td>0.000000</td>\n",
       "      <td>0.000000</td>\n",
       "      <td>1.000000</td>\n",
       "      <td>0.000000</td>\n",
       "      <td>0.000000</td>\n",
       "      <td>0.000000</td>\n",
       "      <td>1.000000</td>\n",
       "      <td>0.000000</td>\n",
       "      <td>0.000000</td>\n",
       "    </tr>\n",
       "    <tr>\n",
       "      <td>50%</td>\n",
       "      <td>338.000000</td>\n",
       "      <td>0.000000</td>\n",
       "      <td>55000.000000</td>\n",
       "      <td>0.000000</td>\n",
       "      <td>0.000000</td>\n",
       "      <td>0.000000</td>\n",
       "      <td>0.000000</td>\n",
       "      <td>0.000000</td>\n",
       "      <td>0.000000</td>\n",
       "      <td>1.000000</td>\n",
       "      <td>0.000000</td>\n",
       "      <td>1.000000</td>\n",
       "      <td>1.000000</td>\n",
       "      <td>1.000000</td>\n",
       "      <td>0.000000</td>\n",
       "      <td>0.000000</td>\n",
       "    </tr>\n",
       "    <tr>\n",
       "      <td>75%</td>\n",
       "      <td>506.000000</td>\n",
       "      <td>0.000000</td>\n",
       "      <td>86000.000000</td>\n",
       "      <td>1.000000</td>\n",
       "      <td>1.000000</td>\n",
       "      <td>1.000000</td>\n",
       "      <td>1.000000</td>\n",
       "      <td>0.000000</td>\n",
       "      <td>0.000000</td>\n",
       "      <td>1.000000</td>\n",
       "      <td>1.000000</td>\n",
       "      <td>1.000000</td>\n",
       "      <td>1.000000</td>\n",
       "      <td>1.000000</td>\n",
       "      <td>0.000000</td>\n",
       "      <td>0.000000</td>\n",
       "    </tr>\n",
       "    <tr>\n",
       "      <td>max</td>\n",
       "      <td>672.000000</td>\n",
       "      <td>1.000000</td>\n",
       "      <td>124000.000000</td>\n",
       "      <td>1.000000</td>\n",
       "      <td>1.000000</td>\n",
       "      <td>1.000000</td>\n",
       "      <td>1.000000</td>\n",
       "      <td>1.000000</td>\n",
       "      <td>1.000000</td>\n",
       "      <td>1.000000</td>\n",
       "      <td>1.000000</td>\n",
       "      <td>1.000000</td>\n",
       "      <td>1.000000</td>\n",
       "      <td>1.000000</td>\n",
       "      <td>1.000000</td>\n",
       "      <td>1.000000</td>\n",
       "    </tr>\n",
       "  </tbody>\n",
       "</table>\n",
       "</div>"
      ],
      "text/plain": [
       "              row  transaction     salary_usd     is_male  is_married  \\\n",
       "count  505.000000   505.000000     505.000000  505.000000  505.000000   \n",
       "mean   337.425743     0.186139   58223.762376    0.443564    0.366337   \n",
       "std    196.318960     0.389604   39098.058320    0.497297    0.482281   \n",
       "min      1.000000     0.000000       0.000000    0.000000    0.000000   \n",
       "25%    162.000000     0.000000   25000.000000    0.000000    0.000000   \n",
       "50%    338.000000     0.000000   55000.000000    0.000000    0.000000   \n",
       "75%    506.000000     0.000000   86000.000000    1.000000    1.000000   \n",
       "max    672.000000     1.000000  124000.000000    1.000000    1.000000   \n",
       "\n",
       "       is_college  is_professional   is_senior  is_employed  is_single_income  \\\n",
       "count  505.000000       505.000000  505.000000   505.000000        505.000000   \n",
       "mean     0.308911         0.352475    0.063366     0.029703          0.762376   \n",
       "std      0.462502         0.478215    0.243862     0.169935          0.426049   \n",
       "min      0.000000         0.000000    0.000000     0.000000          0.000000   \n",
       "25%      0.000000         0.000000    0.000000     0.000000          1.000000   \n",
       "50%      0.000000         0.000000    0.000000     0.000000          1.000000   \n",
       "75%      1.000000         1.000000    0.000000     0.000000          1.000000   \n",
       "max      1.000000         1.000000    1.000000     1.000000          1.000000   \n",
       "\n",
       "       children_present   is_renter  lives_in_house  \\\n",
       "count        505.000000  505.000000      505.000000   \n",
       "mean           0.364356    0.605941        0.673267   \n",
       "std            0.481726    0.489132        0.469484   \n",
       "min            0.000000    0.000000        0.000000   \n",
       "25%            0.000000    0.000000        0.000000   \n",
       "50%            0.000000    1.000000        1.000000   \n",
       "75%            1.000000    1.000000        1.000000   \n",
       "max            1.000000    1.000000        1.000000   \n",
       "\n",
       "       is_english_primary_language  previously_disney_customer  \\\n",
       "count                   505.000000                  505.000000   \n",
       "mean                      0.900990                    0.075248   \n",
       "std                       0.298971                    0.264052   \n",
       "min                       0.000000                    0.000000   \n",
       "25%                       1.000000                    0.000000   \n",
       "50%                       1.000000                    0.000000   \n",
       "75%                       1.000000                    0.000000   \n",
       "max                       1.000000                    1.000000   \n",
       "\n",
       "       previous_streaming_service_customer  \n",
       "count                           505.000000  \n",
       "mean                              0.079208  \n",
       "std                               0.270331  \n",
       "min                               0.000000  \n",
       "25%                               0.000000  \n",
       "50%                               0.000000  \n",
       "75%                               0.000000  \n",
       "max                               1.000000  "
      ]
     },
     "execution_count": 202,
     "metadata": {},
     "output_type": "execute_result"
    }
   ],
   "source": [
    "df.describe()"
   ]
  },
  {
   "cell_type": "markdown",
   "metadata": {},
   "source": [
    "- <i>Exploring numerical columns</i>"
   ]
  },
  {
   "cell_type": "code",
   "execution_count": 82,
   "metadata": {},
   "outputs": [
    {
     "data": {
      "text/plain": [
       "array([653, 546, 463,  93, 672, 273, 278, 204, 456, 414, 378, 519, 408,\n",
       "       450, 655, 582, 221,  53, 243, 453, 474, 303, 574, 439, 125, 108,\n",
       "         6, 372,  13, 102, 625,  86, 440, 477, 412, 137, 294, 542,  28,\n",
       "       624, 445, 205, 252,  61,  69, 491,  71, 591, 106, 322, 224, 362,\n",
       "       359, 163, 481, 381, 334, 338, 220, 182,  20, 180, 332, 457, 268,\n",
       "       271,  97, 598, 466, 391,  66,  84,   1, 434, 279, 569, 418, 162,\n",
       "       586,  50, 621, 160, 458,  96, 114, 631, 348, 310, 233, 387, 178,\n",
       "       349,  43, 245, 475, 260, 103, 217, 150, 236, 446, 179, 361, 223,\n",
       "       511, 352,  89, 242, 375, 560, 124, 139, 640, 532, 231,  67,   4,\n",
       "       556,  91, 572, 609, 543, 351, 528, 288, 559, 530, 356, 199,  68,\n",
       "       512, 465,  22, 525, 295, 153, 659, 121,  76, 568, 433, 368, 668,\n",
       "       249, 343, 656, 128, 427, 154, 225, 144, 379,  90, 632, 470,  11,\n",
       "       623, 637, 584, 630, 170, 237, 417, 161, 330,  74,  83, 555, 145,\n",
       "       410, 218, 402, 643,  56, 571, 592, 570,  52, 292, 358, 563, 416,\n",
       "       238, 350, 518, 281, 167, 256, 449, 587, 305,  33,  25, 398, 667,\n",
       "       136, 400, 662, 629, 222, 270,  87, 426, 607,  62, 604, 545,  27,\n",
       "       576, 419, 507, 293, 494, 509, 116, 298, 589, 134, 506, 665, 471,\n",
       "       473, 142, 399, 415, 239, 197,  26, 495, 151, 660, 553,   2, 247,\n",
       "       337, 306, 331, 264, 641, 384, 175, 255, 649, 652, 374,  32, 646,\n",
       "       432, 176,  72, 186, 192, 113, 111, 307,  15, 616, 284, 112,  54,\n",
       "       535, 611, 394, 482, 363, 191, 622, 257, 248, 316, 424, 272, 520,\n",
       "       183, 280, 355, 377, 658, 516, 583,   9, 608, 409, 600, 636, 588,\n",
       "        79, 552, 638, 156,   3, 642, 339, 201, 326, 184, 300, 386, 251,\n",
       "       468, 313, 443,  75, 464, 202, 335, 666, 503, 321, 573, 274,  21,\n",
       "       173, 308, 309, 597, 130, 500, 628, 143, 594, 566, 429, 585, 366,\n",
       "       206, 265, 497, 396, 297, 110, 211, 234,  38, 228, 612, 447, 172,\n",
       "        24,  40, 250,  46, 488, 169,  95, 212,  82, 544, 140, 138, 364,\n",
       "       129, 657, 152, 230,  34, 141, 132, 619, 423, 441, 504, 523,  85,\n",
       "       420,   5, 538, 430, 320,  45, 301, 490, 618, 593,  58,  70, 196,\n",
       "       650, 149, 669, 671, 483, 493, 581, 117, 501, 454,  94, 213, 232,\n",
       "       578, 120, 437,  12, 459, 431, 627, 115, 210, 253, 502, 634, 565,\n",
       "       451, 602, 529, 539, 135, 467, 198, 403, 314,  29, 567, 455,  10,\n",
       "       323, 405,  51, 290, 360, 579, 550, 393, 647, 299, 613, 428, 639,\n",
       "       282, 226, 540, 438, 353, 422,   8, 289, 397, 605, 562, 344, 406,\n",
       "       554,  78,  30, 558, 147, 118, 380,  18,  80, 407, 244, 188, 291,\n",
       "       311,  73, 561,  44,  60, 266, 564, 277, 208, 146, 369, 498, 259,\n",
       "       390, 461, 601, 452, 101, 123, 537,  59, 524, 460, 177, 241, 448,\n",
       "       203, 515, 287, 603, 633, 155,  42,  23, 159, 505, 411, 333, 327,\n",
       "       262, 425, 122, 421, 648,  16, 606, 354, 148,  47, 590])"
      ]
     },
     "execution_count": 82,
     "metadata": {},
     "output_type": "execute_result"
    }
   ],
   "source": [
    "df['row'].unique()"
   ]
  },
  {
   "cell_type": "code",
   "execution_count": 83,
   "metadata": {},
   "outputs": [
    {
     "data": {
      "text/plain": [
       "array([ 25000,   7000, 124000,  84000,  66000,  41000,  35000,  40000,\n",
       "       116000,  64000,  20000,  68000,  73000,  23000,  30000,   3000,\n",
       "        13000,  21000,  58000, 102000, 121000,  76000,  78000,  17000,\n",
       "        28000,  81000,  69000,  61000,   2000,  55000,  63000,  33000,\n",
       "       101000,  46000,   5000,  45000, 111000,  15000,  79000,  36000,\n",
       "       114000,   8000,  38000,  50000,  12000,  43000,  74000,  31000,\n",
       "        10000,  89000, 109000,  83000, 107000,  56000,  96000,  86000,\n",
       "       106000,  18000,  98000,  71000, 119000,  60000,  48000,      0,\n",
       "       112000,  88000,  91000,  53000,  99000,  94000,  26000,  51000])"
      ]
     },
     "execution_count": 83,
     "metadata": {},
     "output_type": "execute_result"
    }
   ],
   "source": [
    "df['salary_usd'].unique()"
   ]
  },
  {
   "cell_type": "markdown",
   "metadata": {},
   "source": [
    "- <i>Exploring Binary columns</i>"
   ]
  },
  {
   "cell_type": "code",
   "execution_count": 84,
   "metadata": {},
   "outputs": [
    {
     "data": {
      "text/plain": [
       "0    411\n",
       "1     94\n",
       "Name: transaction, dtype: int64"
      ]
     },
     "execution_count": 84,
     "metadata": {},
     "output_type": "execute_result"
    }
   ],
   "source": [
    "df['transaction'].value_counts()"
   ]
  },
  {
   "cell_type": "code",
   "execution_count": 85,
   "metadata": {},
   "outputs": [
    {
     "data": {
      "text/plain": [
       "0    281\n",
       "1    224\n",
       "Name: is_male, dtype: int64"
      ]
     },
     "execution_count": 85,
     "metadata": {},
     "output_type": "execute_result"
    }
   ],
   "source": [
    "df['is_male'].value_counts()"
   ]
  },
  {
   "cell_type": "code",
   "execution_count": 86,
   "metadata": {},
   "outputs": [
    {
     "data": {
      "text/plain": [
       "0    320\n",
       "1    185\n",
       "Name: is_married, dtype: int64"
      ]
     },
     "execution_count": 86,
     "metadata": {},
     "output_type": "execute_result"
    }
   ],
   "source": [
    "df['is_married'].value_counts()"
   ]
  },
  {
   "cell_type": "code",
   "execution_count": 87,
   "metadata": {},
   "outputs": [
    {
     "data": {
      "text/plain": [
       "0    349\n",
       "1    156\n",
       "Name: is_college, dtype: int64"
      ]
     },
     "execution_count": 87,
     "metadata": {},
     "output_type": "execute_result"
    }
   ],
   "source": [
    "df['is_college'].value_counts()"
   ]
  },
  {
   "cell_type": "code",
   "execution_count": 88,
   "metadata": {},
   "outputs": [
    {
     "data": {
      "text/plain": [
       "0    327\n",
       "1    178\n",
       "Name: is_professional, dtype: int64"
      ]
     },
     "execution_count": 88,
     "metadata": {},
     "output_type": "execute_result"
    }
   ],
   "source": [
    "df['is_professional'].value_counts()"
   ]
  },
  {
   "cell_type": "code",
   "execution_count": 89,
   "metadata": {},
   "outputs": [
    {
     "data": {
      "text/plain": [
       "0    473\n",
       "1     32\n",
       "Name: is_senior, dtype: int64"
      ]
     },
     "execution_count": 89,
     "metadata": {},
     "output_type": "execute_result"
    }
   ],
   "source": [
    "df['is_senior'].value_counts()"
   ]
  },
  {
   "cell_type": "code",
   "execution_count": 90,
   "metadata": {},
   "outputs": [
    {
     "data": {
      "text/plain": [
       "0    490\n",
       "1     15\n",
       "Name: is_employed, dtype: int64"
      ]
     },
     "execution_count": 90,
     "metadata": {},
     "output_type": "execute_result"
    }
   ],
   "source": [
    "df['is_employed'].value_counts()"
   ]
  },
  {
   "cell_type": "code",
   "execution_count": 91,
   "metadata": {},
   "outputs": [
    {
     "data": {
      "text/plain": [
       "1    385\n",
       "0    120\n",
       "Name: is_single_income, dtype: int64"
      ]
     },
     "execution_count": 91,
     "metadata": {},
     "output_type": "execute_result"
    }
   ],
   "source": [
    "df['is_single_income'].value_counts()"
   ]
  },
  {
   "cell_type": "code",
   "execution_count": 92,
   "metadata": {},
   "outputs": [
    {
     "data": {
      "text/plain": [
       "0    321\n",
       "1    184\n",
       "Name: children_present, dtype: int64"
      ]
     },
     "execution_count": 92,
     "metadata": {},
     "output_type": "execute_result"
    }
   ],
   "source": [
    "df['children_present'].value_counts()"
   ]
  },
  {
   "cell_type": "code",
   "execution_count": 93,
   "metadata": {},
   "outputs": [
    {
     "data": {
      "text/plain": [
       "1    306\n",
       "0    199\n",
       "Name: is_renter, dtype: int64"
      ]
     },
     "execution_count": 93,
     "metadata": {},
     "output_type": "execute_result"
    }
   ],
   "source": [
    "df['is_renter'].value_counts()"
   ]
  },
  {
   "cell_type": "code",
   "execution_count": 94,
   "metadata": {},
   "outputs": [
    {
     "data": {
      "text/plain": [
       "1    340\n",
       "0    165\n",
       "Name: lives_in_house, dtype: int64"
      ]
     },
     "execution_count": 94,
     "metadata": {},
     "output_type": "execute_result"
    }
   ],
   "source": [
    "df['lives_in_house'].value_counts()"
   ]
  },
  {
   "cell_type": "code",
   "execution_count": 95,
   "metadata": {},
   "outputs": [
    {
     "data": {
      "text/plain": [
       "1    455\n",
       "0     50\n",
       "Name: is_english_primary_language, dtype: int64"
      ]
     },
     "execution_count": 95,
     "metadata": {},
     "output_type": "execute_result"
    }
   ],
   "source": [
    "df['is_english_primary_language'].value_counts()"
   ]
  },
  {
   "cell_type": "code",
   "execution_count": 96,
   "metadata": {},
   "outputs": [
    {
     "data": {
      "text/plain": [
       "0    467\n",
       "1     38\n",
       "Name: previously_disney_customer, dtype: int64"
      ]
     },
     "execution_count": 96,
     "metadata": {},
     "output_type": "execute_result"
    }
   ],
   "source": [
    "df['previously_disney_customer'].value_counts()\n"
   ]
  },
  {
   "cell_type": "code",
   "execution_count": 97,
   "metadata": {},
   "outputs": [
    {
     "data": {
      "text/plain": [
       "0    465\n",
       "1     40\n",
       "Name: previous_streaming_service_customer, dtype: int64"
      ]
     },
     "execution_count": 97,
     "metadata": {},
     "output_type": "execute_result"
    }
   ],
   "source": [
    "df['previous_streaming_service_customer'].value_counts()\n"
   ]
  },
  {
   "cell_type": "markdown",
   "metadata": {},
   "source": [
    "<h3>Feature Selection</h3>"
   ]
  },
  {
   "cell_type": "markdown",
   "metadata": {},
   "source": [
    "- <i>It helps to identify the import features from the dataset by providing scores</i>"
   ]
  },
  {
   "cell_type": "code",
   "execution_count": 98,
   "metadata": {},
   "outputs": [
    {
     "name": "stdout",
     "output_type": "stream",
     "text": [
      "                                 Disney         Score\n",
      "1                            salary_usd  6.019215e+06\n",
      "3                            is_married  5.034928e+01\n",
      "10                            is_renter  2.946581e+01\n",
      "5                       is_professional  2.112519e+01\n",
      "4                            is_college  1.859386e+01\n",
      "8                      is_single_income  1.312086e+01\n",
      "13           previously_disney_customer  1.091485e+01\n",
      "11                       lives_in_house  7.544560e+00\n",
      "0                                   row  4.478699e+00\n",
      "7                           is_employed  3.430657e+00\n",
      "14  previous_streaming_service_customer  3.423151e+00\n",
      "2                               is_male  2.227969e+00\n",
      "6                             is_senior  7.895765e-01\n",
      "12          is_english_primary_language  7.745896e-01\n",
      "9                      children_present  2.020649e-02\n"
     ]
    }
   ],
   "source": [
    "#X = data.iloc[:,0:20]  #independent columns\n",
    "#y = data.iloc[:,-1]    #target column i.e price range\n",
    "\n",
    "X =df.iloc[:,df.columns != 'transaction' ]\n",
    "y =df.transaction\n",
    "X.head()\n",
    "\n",
    "#apply SelectKBest class to extract top 10 best features\n",
    "bestfeatures = SelectKBest(score_func=chi2, k=10)\n",
    "fit = bestfeatures.fit(X,y)\n",
    "dfscores = pd.DataFrame(fit.scores_)\n",
    "dfcolumns = pd.DataFrame(X.columns)\n",
    "\n",
    "#concat two dataframes for better visualization \n",
    "featureScores = pd.concat([dfcolumns,dfscores],axis=1)\n",
    "featureScores.columns = ['Disney','Score']  #naming the dataframe columns\n",
    "print(featureScores.nlargest(16,'Score'))  #print 10 best features\n"
   ]
  },
  {
   "cell_type": "markdown",
   "metadata": {},
   "source": [
    "- <i>Graphical representaion of feature importance for predicting attrition</i>"
   ]
  },
  {
   "cell_type": "code",
   "execution_count": 99,
   "metadata": {},
   "outputs": [
    {
     "name": "stdout",
     "output_type": "stream",
     "text": [
      "[0.14172116 0.42105809 0.03368901 0.05770788 0.04510742 0.0295991\n",
      " 0.00965765 0.00196342 0.05126074 0.03233819 0.08615741 0.02258269\n",
      " 0.01857111 0.02611394 0.02247217]\n"
     ]
    },
    {
     "data": {
      "image/png": "[encoded data removed]",
      "text/plain": [
       "<Figure size 1008x504 with 1 Axes>"
      ]
     },
     "metadata": {},
     "output_type": "display_data"
    }
   ],
   "source": [
    "model = ExtraTreesClassifier()\n",
    "model.fit(X,y)\n",
    "print(model.feature_importances_) #use inbuilt class feature_importances of tree based classifiers\n",
    "\n",
    "#plot graph of feature importances for better visualization\n",
    "sns.set_style('whitegrid')\n",
    "plt.figure(figsize=(14,7))\n",
    "sns.set(style='whitegrid')\n",
    "sns.set(palette='husl')\n",
    "\n",
    "\n",
    "feat_importances = pd.Series(model.feature_importances_, index=X.columns)\n",
    "feat_importances.nlargest(16).plot(kind='barh')\n",
    "\n",
    "plt.xlabel(\"Importance of Feature\", labelpad = 15, fontsize=15)\n",
    "plt.ylabel(\"Different Features\", labelpad = 15, fontsize=15);\n",
    "plt.title(\"Feature Importance plot\", fontsize=20)\n",
    "\n",
    "plt.show()"
   ]
  },
  {
   "cell_type": "markdown",
   "metadata": {},
   "source": [
    "=> After observing the above graph features like is_male, children_present,previously_disney_customer and previous_streaming_service_customer are not having much influence on the transaction of Disney subscription. So, I have decided to drop this coloumns for performing transaction."
   ]
  },
  {
   "cell_type": "markdown",
   "metadata": {},
   "source": [
    "- <i>Selected Features for further analysis</i>"
   ]
  },
  {
   "cell_type": "code",
   "execution_count": 175,
   "metadata": {},
   "outputs": [],
   "source": [
    "Imp_feat = df[['row','transaction','salary_usd','is_married','is_college','is_professional','is_senior','is_employed','is_single_income','is_renter','lives_in_house','is_english_primary_language']].copy()\n"
   ]
  },
  {
   "cell_type": "code",
   "execution_count": 176,
   "metadata": {},
   "outputs": [
    {
     "data": {
      "text/html": [
       "<div>\n",
       "<style scoped>\n",
       "    .dataframe tbody tr th:only-of-type {\n",
       "        vertical-align: middle;\n",
       "    }\n",
       "\n",
       "    .dataframe tbody tr th {\n",
       "        vertical-align: top;\n",
       "    }\n",
       "\n",
       "    .dataframe thead th {\n",
       "        text-align: right;\n",
       "    }\n",
       "</style>\n",
       "<table border=\"1\" class=\"dataframe\">\n",
       "  <thead>\n",
       "    <tr style=\"text-align: right;\">\n",
       "      <th></th>\n",
       "      <th>row</th>\n",
       "      <th>transaction</th>\n",
       "      <th>salary_usd</th>\n",
       "      <th>is_married</th>\n",
       "      <th>is_college</th>\n",
       "      <th>is_professional</th>\n",
       "      <th>is_senior</th>\n",
       "      <th>is_employed</th>\n",
       "      <th>is_single_income</th>\n",
       "      <th>is_renter</th>\n",
       "      <th>lives_in_house</th>\n",
       "      <th>is_english_primary_language</th>\n",
       "    </tr>\n",
       "  </thead>\n",
       "  <tbody>\n",
       "    <tr>\n",
       "      <td>count</td>\n",
       "      <td>505.000000</td>\n",
       "      <td>505.000000</td>\n",
       "      <td>505.000000</td>\n",
       "      <td>505.000000</td>\n",
       "      <td>505.000000</td>\n",
       "      <td>505.000000</td>\n",
       "      <td>505.000000</td>\n",
       "      <td>505.000000</td>\n",
       "      <td>505.000000</td>\n",
       "      <td>505.000000</td>\n",
       "      <td>505.000000</td>\n",
       "      <td>505.000000</td>\n",
       "    </tr>\n",
       "    <tr>\n",
       "      <td>mean</td>\n",
       "      <td>337.425743</td>\n",
       "      <td>0.186139</td>\n",
       "      <td>58223.762376</td>\n",
       "      <td>0.366337</td>\n",
       "      <td>0.308911</td>\n",
       "      <td>0.352475</td>\n",
       "      <td>0.063366</td>\n",
       "      <td>0.029703</td>\n",
       "      <td>0.762376</td>\n",
       "      <td>0.605941</td>\n",
       "      <td>0.673267</td>\n",
       "      <td>0.900990</td>\n",
       "    </tr>\n",
       "    <tr>\n",
       "      <td>std</td>\n",
       "      <td>196.318960</td>\n",
       "      <td>0.389604</td>\n",
       "      <td>39098.058320</td>\n",
       "      <td>0.482281</td>\n",
       "      <td>0.462502</td>\n",
       "      <td>0.478215</td>\n",
       "      <td>0.243862</td>\n",
       "      <td>0.169935</td>\n",
       "      <td>0.426049</td>\n",
       "      <td>0.489132</td>\n",
       "      <td>0.469484</td>\n",
       "      <td>0.298971</td>\n",
       "    </tr>\n",
       "    <tr>\n",
       "      <td>min</td>\n",
       "      <td>1.000000</td>\n",
       "      <td>0.000000</td>\n",
       "      <td>0.000000</td>\n",
       "      <td>0.000000</td>\n",
       "      <td>0.000000</td>\n",
       "      <td>0.000000</td>\n",
       "      <td>0.000000</td>\n",
       "      <td>0.000000</td>\n",
       "      <td>0.000000</td>\n",
       "      <td>0.000000</td>\n",
       "      <td>0.000000</td>\n",
       "      <td>0.000000</td>\n",
       "    </tr>\n",
       "    <tr>\n",
       "      <td>25%</td>\n",
       "      <td>162.000000</td>\n",
       "      <td>0.000000</td>\n",
       "      <td>25000.000000</td>\n",
       "      <td>0.000000</td>\n",
       "      <td>0.000000</td>\n",
       "      <td>0.000000</td>\n",
       "      <td>0.000000</td>\n",
       "      <td>0.000000</td>\n",
       "      <td>1.000000</td>\n",
       "      <td>0.000000</td>\n",
       "      <td>0.000000</td>\n",
       "      <td>1.000000</td>\n",
       "    </tr>\n",
       "    <tr>\n",
       "      <td>50%</td>\n",
       "      <td>338.000000</td>\n",
       "      <td>0.000000</td>\n",
       "      <td>55000.000000</td>\n",
       "      <td>0.000000</td>\n",
       "      <td>0.000000</td>\n",
       "      <td>0.000000</td>\n",
       "      <td>0.000000</td>\n",
       "      <td>0.000000</td>\n",
       "      <td>1.000000</td>\n",
       "      <td>1.000000</td>\n",
       "      <td>1.000000</td>\n",
       "      <td>1.000000</td>\n",
       "    </tr>\n",
       "    <tr>\n",
       "      <td>75%</td>\n",
       "      <td>506.000000</td>\n",
       "      <td>0.000000</td>\n",
       "      <td>86000.000000</td>\n",
       "      <td>1.000000</td>\n",
       "      <td>1.000000</td>\n",
       "      <td>1.000000</td>\n",
       "      <td>0.000000</td>\n",
       "      <td>0.000000</td>\n",
       "      <td>1.000000</td>\n",
       "      <td>1.000000</td>\n",
       "      <td>1.000000</td>\n",
       "      <td>1.000000</td>\n",
       "    </tr>\n",
       "    <tr>\n",
       "      <td>max</td>\n",
       "      <td>672.000000</td>\n",
       "      <td>1.000000</td>\n",
       "      <td>124000.000000</td>\n",
       "      <td>1.000000</td>\n",
       "      <td>1.000000</td>\n",
       "      <td>1.000000</td>\n",
       "      <td>1.000000</td>\n",
       "      <td>1.000000</td>\n",
       "      <td>1.000000</td>\n",
       "      <td>1.000000</td>\n",
       "      <td>1.000000</td>\n",
       "      <td>1.000000</td>\n",
       "    </tr>\n",
       "  </tbody>\n",
       "</table>\n",
       "</div>"
      ],
      "text/plain": [
       "              row  transaction     salary_usd  is_married  is_college  \\\n",
       "count  505.000000   505.000000     505.000000  505.000000  505.000000   \n",
       "mean   337.425743     0.186139   58223.762376    0.366337    0.308911   \n",
       "std    196.318960     0.389604   39098.058320    0.482281    0.462502   \n",
       "min      1.000000     0.000000       0.000000    0.000000    0.000000   \n",
       "25%    162.000000     0.000000   25000.000000    0.000000    0.000000   \n",
       "50%    338.000000     0.000000   55000.000000    0.000000    0.000000   \n",
       "75%    506.000000     0.000000   86000.000000    1.000000    1.000000   \n",
       "max    672.000000     1.000000  124000.000000    1.000000    1.000000   \n",
       "\n",
       "       is_professional   is_senior  is_employed  is_single_income   is_renter  \\\n",
       "count       505.000000  505.000000   505.000000        505.000000  505.000000   \n",
       "mean          0.352475    0.063366     0.029703          0.762376    0.605941   \n",
       "std           0.478215    0.243862     0.169935          0.426049    0.489132   \n",
       "min           0.000000    0.000000     0.000000          0.000000    0.000000   \n",
       "25%           0.000000    0.000000     0.000000          1.000000    0.000000   \n",
       "50%           0.000000    0.000000     0.000000          1.000000    1.000000   \n",
       "75%           1.000000    0.000000     0.000000          1.000000    1.000000   \n",
       "max           1.000000    1.000000     1.000000          1.000000    1.000000   \n",
       "\n",
       "       lives_in_house  is_english_primary_language  \n",
       "count      505.000000                   505.000000  \n",
       "mean         0.673267                     0.900990  \n",
       "std          0.469484                     0.298971  \n",
       "min          0.000000                     0.000000  \n",
       "25%          0.000000                     1.000000  \n",
       "50%          1.000000                     1.000000  \n",
       "75%          1.000000                     1.000000  \n",
       "max          1.000000                     1.000000  "
      ]
     },
     "execution_count": 176,
     "metadata": {},
     "output_type": "execute_result"
    }
   ],
   "source": [
    "Imp_feat.describe()"
   ]
  },
  {
   "cell_type": "markdown",
   "metadata": {},
   "source": [
    "- <i>Heat map to represent corelation between selected features</i>"
   ]
  },
  {
   "cell_type": "code",
   "execution_count": 186,
   "metadata": {},
   "outputs": [
    {
     "data": {
      "text/plain": [
       "Text(0.5, 2, 'Heatmap to observe corelation between selected features and transaction ')"
      ]
     },
     "execution_count": 186,
     "metadata": {},
     "output_type": "execute_result"
    },
    {
     "data": {
      "image/png": "[encoded data removed]",
      "text/plain": [
       "<Figure size 1440x1440 with 2 Axes>"
      ]
     },
     "metadata": {},
     "output_type": "display_data"
    }
   ],
   "source": [
    "#get correlations of each features in dataset\n",
    "corrmat = Imp_feat.corr()\n",
    "top_corr_features = corrmat.index\n",
    "plt.figure(figsize=(20,20))\n",
    "\n",
    "#matplotlib.rc('xtick', labelsize=15) \n",
    "#matplotlib.rc('ytick', labelsize=15) \n",
    "\n",
    "sns.set(font_scale=2)\n",
    "#plot heat map\n",
    "\n",
    "ax=sns.heatmap(Imp_feat[top_corr_features].corr(),annot=True,cmap=\"YlGnBu\", annot_kws={\"size\":18})\n",
    "\n",
    "ax.xaxis.set_label_position(\"top\")\n",
    "plt.tight_layout()\n",
    "plt.title('Heatmap to observe corelation between selected features and transaction ', y=2, fontsize=25)\n",
    "#plt.title('Correlation plot',fontsize=17)"
   ]
  },
  {
   "cell_type": "markdown",
   "metadata": {},
   "source": [
    "<h1>Graphs</h1>\n"
   ]
  },
  {
   "cell_type": "markdown",
   "metadata": {},
   "source": [
    "- <i>Bar plot to show the transaction</i>\n",
    "<p>Reference: https://www.kaggle.com/lakshmi25npathi/santander-customer-transaction-prediction-python</p>"
   ]
  },
  {
   "cell_type": "code",
   "execution_count": 106,
   "metadata": {},
   "outputs": [
    {
     "data": {
      "application/vnd.plotly.v1+json": {
       "config": {
        "linkText": "Export to plot.ly",
        "plotlyServerURL": "https://plot.ly",
        "showLink": false
       },
       "data": [
        {
         "marker": {
          "color": [
           "#DAF7A6",
           "#76D7C4"
          ],
          "line": {
           "color": "#000000",
           "width": 1
          }
         },
         "opacity": 0.8,
         "orientation": "v",
         "type": "bar",
         "x": [
          "Yes_transaction",
          "No_transaction"
         ],
         "y": [
          94,
          411
         ]
        }
       ],
       "layout": {
        "template": {
         "data": {
          "bar": [
           {
            "error_x": {
             "color": "#2a3f5f"
            },
            "error_y": {
             "color": "#2a3f5f"
            },
            "marker": {
             "line": {
              "color": "#E5ECF6",
              "width": 0.5
             }
            },
            "type": "bar"
           }
          ],
          "barpolar": [
           {
            "marker": {
             "line": {
              "color": "#E5ECF6",
              "width": 0.5
             }
            },
            "type": "barpolar"
           }
          ],
          "carpet": [
           {
            "aaxis": {
             "endlinecolor": "#2a3f5f",
             "gridcolor": "white",
             "linecolor": "white",
             "minorgridcolor": "white",
             "startlinecolor": "#2a3f5f"
            },
            "baxis": {
             "endlinecolor": "#2a3f5f",
             "gridcolor": "white",
             "linecolor": "white",
             "minorgridcolor": "white",
             "startlinecolor": "#2a3f5f"
            },
            "type": "carpet"
           }
          ],
          "choropleth": [
           {
            "colorbar": {
             "outlinewidth": 0,
             "ticks": ""
            },
            "type": "choropleth"
           }
          ],
          "contour": [
           {
            "colorbar": {
             "outlinewidth": 0,
             "ticks": ""
            },
            "colorscale": [
             [
              0,
              "#0d0887"
             ],
             [
              0.1111111111111111,
              "#46039f"
             ],
             [
              0.2222222222222222,
              "#7201a8"
             ],
             [
              0.3333333333333333,
              "#9c179e"
             ],
             [
              0.4444444444444444,
              "#bd3786"
             ],
             [
              0.5555555555555556,
              "#d8576b"
             ],
             [
              0.6666666666666666,
              "#ed7953"
             ],
             [
              0.7777777777777778,
              "#fb9f3a"
             ],
             [
              0.8888888888888888,
              "#fdca26"
             ],
             [
              1,
              "#f0f921"
             ]
            ],
            "type": "contour"
           }
          ],
          "contourcarpet": [
           {
            "colorbar": {
             "outlinewidth": 0,
             "ticks": ""
            },
            "type": "contourcarpet"
           }
          ],
          "heatmap": [
           {
            "colorbar": {
             "outlinewidth": 0,
             "ticks": ""
            },
            "colorscale": [
             [
              0,
              "#0d0887"
             ],
             [
              0.1111111111111111,
              "#46039f"
             ],
             [
              0.2222222222222222,
              "#7201a8"
             ],
             [
              0.3333333333333333,
              "#9c179e"
             ],
             [
              0.4444444444444444,
              "#bd3786"
             ],
             [
              0.5555555555555556,
              "#d8576b"
             ],
             [
              0.6666666666666666,
              "#ed7953"
             ],
             [
              0.7777777777777778,
              "#fb9f3a"
             ],
             [
              0.8888888888888888,
              "#fdca26"
             ],
             [
              1,
              "#f0f921"
             ]
            ],
            "type": "heatmap"
           }
          ],
          "heatmapgl": [
           {
            "colorbar": {
             "outlinewidth": 0,
             "ticks": ""
            },
            "colorscale": [
             [
              0,
              "#0d0887"
             ],
             [
              0.1111111111111111,
              "#46039f"
             ],
             [
              0.2222222222222222,
              "#7201a8"
             ],
             [
              0.3333333333333333,
              "#9c179e"
             ],
             [
              0.4444444444444444,
              "#bd3786"
             ],
             [
              0.5555555555555556,
              "#d8576b"
             ],
             [
              0.6666666666666666,
              "#ed7953"
             ],
             [
              0.7777777777777778,
              "#fb9f3a"
             ],
             [
              0.8888888888888888,
              "#fdca26"
             ],
             [
              1,
              "#f0f921"
             ]
            ],
            "type": "heatmapgl"
           }
          ],
          "histogram": [
           {
            "marker": {
             "colorbar": {
              "outlinewidth": 0,
              "ticks": ""
             }
            },
            "type": "histogram"
           }
          ],
          "histogram2d": [
           {
            "colorbar": {
             "outlinewidth": 0,
             "ticks": ""
            },
            "colorscale": [
             [
              0,
              "#0d0887"
             ],
             [
              0.1111111111111111,
              "#46039f"
             ],
             [
              0.2222222222222222,
              "#7201a8"
             ],
             [
              0.3333333333333333,
              "#9c179e"
             ],
             [
              0.4444444444444444,
              "#bd3786"
             ],
             [
              0.5555555555555556,
              "#d8576b"
             ],
             [
              0.6666666666666666,
              "#ed7953"
             ],
             [
              0.7777777777777778,
              "#fb9f3a"
             ],
             [
              0.8888888888888888,
              "#fdca26"
             ],
             [
              1,
              "#f0f921"
             ]
            ],
            "type": "histogram2d"
           }
          ],
          "histogram2dcontour": [
           {
            "colorbar": {
             "outlinewidth": 0,
             "ticks": ""
            },
            "colorscale": [
             [
              0,
              "#0d0887"
             ],
             [
              0.1111111111111111,
              "#46039f"
             ],
             [
              0.2222222222222222,
              "#7201a8"
             ],
             [
              0.3333333333333333,
              "#9c179e"
             ],
             [
              0.4444444444444444,
              "#bd3786"
             ],
             [
              0.5555555555555556,
              "#d8576b"
             ],
             [
              0.6666666666666666,
              "#ed7953"
             ],
             [
              0.7777777777777778,
              "#fb9f3a"
             ],
             [
              0.8888888888888888,
              "#fdca26"
             ],
             [
              1,
              "#f0f921"
             ]
            ],
            "type": "histogram2dcontour"
           }
          ],
          "mesh3d": [
           {
            "colorbar": {
             "outlinewidth": 0,
             "ticks": ""
            },
            "type": "mesh3d"
           }
          ],
          "parcoords": [
           {
            "line": {
             "colorbar": {
              "outlinewidth": 0,
              "ticks": ""
             }
            },
            "type": "parcoords"
           }
          ],
          "pie": [
           {
            "automargin": true,
            "type": "pie"
           }
          ],
          "scatter": [
           {
            "marker": {
             "colorbar": {
              "outlinewidth": 0,
              "ticks": ""
             }
            },
            "type": "scatter"
           }
          ],
          "scatter3d": [
           {
            "line": {
             "colorbar": {
              "outlinewidth": 0,
              "ticks": ""
             }
            },
            "marker": {
             "colorbar": {
              "outlinewidth": 0,
              "ticks": ""
             }
            },
            "type": "scatter3d"
           }
          ],
          "scattercarpet": [
           {
            "marker": {
             "colorbar": {
              "outlinewidth": 0,
              "ticks": ""
             }
            },
            "type": "scattercarpet"
           }
          ],
          "scattergeo": [
           {
            "marker": {
             "colorbar": {
              "outlinewidth": 0,
              "ticks": ""
             }
            },
            "type": "scattergeo"
           }
          ],
          "scattergl": [
           {
            "marker": {
             "colorbar": {
              "outlinewidth": 0,
              "ticks": ""
             }
            },
            "type": "scattergl"
           }
          ],
          "scattermapbox": [
           {
            "marker": {
             "colorbar": {
              "outlinewidth": 0,
              "ticks": ""
             }
            },
            "type": "scattermapbox"
           }
          ],
          "scatterpolar": [
           {
            "marker": {
             "colorbar": {
              "outlinewidth": 0,
              "ticks": ""
             }
            },
            "type": "scatterpolar"
           }
          ],
          "scatterpolargl": [
           {
            "marker": {
             "colorbar": {
              "outlinewidth": 0,
              "ticks": ""
             }
            },
            "type": "scatterpolargl"
           }
          ],
          "scatterternary": [
           {
            "marker": {
             "colorbar": {
              "outlinewidth": 0,
              "ticks": ""
             }
            },
            "type": "scatterternary"
           }
          ],
          "surface": [
           {
            "colorbar": {
             "outlinewidth": 0,
             "ticks": ""
            },
            "colorscale": [
             [
              0,
              "#0d0887"
             ],
             [
              0.1111111111111111,
              "#46039f"
             ],
             [
              0.2222222222222222,
              "#7201a8"
             ],
             [
              0.3333333333333333,
              "#9c179e"
             ],
             [
              0.4444444444444444,
              "#bd3786"
             ],
             [
              0.5555555555555556,
              "#d8576b"
             ],
             [
              0.6666666666666666,
              "#ed7953"
             ],
             [
              0.7777777777777778,
              "#fb9f3a"
             ],
             [
              0.8888888888888888,
              "#fdca26"
             ],
             [
              1,
              "#f0f921"
             ]
            ],
            "type": "surface"
           }
          ],
          "table": [
           {
            "cells": {
             "fill": {
              "color": "#EBF0F8"
             },
             "line": {
              "color": "white"
             }
            },
            "header": {
             "fill": {
              "color": "#C8D4E3"
             },
             "line": {
              "color": "white"
             }
            },
            "type": "table"
           }
          ]
         },
         "layout": {
          "annotationdefaults": {
           "arrowcolor": "#2a3f5f",
           "arrowhead": 0,
           "arrowwidth": 1
          },
          "coloraxis": {
           "colorbar": {
            "outlinewidth": 0,
            "ticks": ""
           }
          },
          "colorscale": {
           "diverging": [
            [
             0,
             "#8e0152"
            ],
            [
             0.1,
             "#c51b7d"
            ],
            [
             0.2,
             "#de77ae"
            ],
            [
             0.3,
             "#f1b6da"
            ],
            [
             0.4,
             "#fde0ef"
            ],
            [
             0.5,
             "#f7f7f7"
            ],
            [
             0.6,
             "#e6f5d0"
            ],
            [
             0.7,
             "#b8e186"
            ],
            [
             0.8,
             "#7fbc41"
            ],
            [
             0.9,
             "#4d9221"
            ],
            [
             1,
             "#276419"
            ]
           ],
           "sequential": [
            [
             0,
             "#0d0887"
            ],
            [
             0.1111111111111111,
             "#46039f"
            ],
            [
             0.2222222222222222,
             "#7201a8"
            ],
            [
             0.3333333333333333,
             "#9c179e"
            ],
            [
             0.4444444444444444,
             "#bd3786"
            ],
            [
             0.5555555555555556,
             "#d8576b"
            ],
            [
             0.6666666666666666,
             "#ed7953"
            ],
            [
             0.7777777777777778,
             "#fb9f3a"
            ],
            [
             0.8888888888888888,
             "#fdca26"
            ],
            [
             1,
             "#f0f921"
            ]
           ],
           "sequentialminus": [
            [
             0,
             "#0d0887"
            ],
            [
             0.1111111111111111,
             "#46039f"
            ],
            [
             0.2222222222222222,
             "#7201a8"
            ],
            [
             0.3333333333333333,
             "#9c179e"
            ],
            [
             0.4444444444444444,
             "#bd3786"
            ],
            [
             0.5555555555555556,
             "#d8576b"
            ],
            [
             0.6666666666666666,
             "#ed7953"
            ],
            [
             0.7777777777777778,
             "#fb9f3a"
            ],
            [
             0.8888888888888888,
             "#fdca26"
            ],
            [
             1,
             "#f0f921"
            ]
           ]
          },
          "colorway": [
           "#636efa",
           "#EF553B",
           "#00cc96",
           "#ab63fa",
           "#FFA15A",
           "#19d3f3",
           "#FF6692",
           "#B6E880",
           "#FF97FF",
           "#FECB52"
          ],
          "font": {
           "color": "#2a3f5f"
          },
          "geo": {
           "bgcolor": "white",
           "lakecolor": "white",
           "landcolor": "#E5ECF6",
           "showlakes": true,
           "showland": true,
           "subunitcolor": "white"
          },
          "hoverlabel": {
           "align": "left"
          },
          "hovermode": "closest",
          "mapbox": {
           "style": "light"
          },
          "paper_bgcolor": "white",
          "plot_bgcolor": "#E5ECF6",
          "polar": {
           "angularaxis": {
            "gridcolor": "white",
            "linecolor": "white",
            "ticks": ""
           },
           "bgcolor": "#E5ECF6",
           "radialaxis": {
            "gridcolor": "white",
            "linecolor": "white",
            "ticks": ""
           }
          },
          "scene": {
           "xaxis": {
            "backgroundcolor": "#E5ECF6",
            "gridcolor": "white",
            "gridwidth": 2,
            "linecolor": "white",
            "showbackground": true,
            "ticks": "",
            "zerolinecolor": "white"
           },
           "yaxis": {
            "backgroundcolor": "#E5ECF6",
            "gridcolor": "white",
            "gridwidth": 2,
            "linecolor": "white",
            "showbackground": true,
            "ticks": "",
            "zerolinecolor": "white"
           },
           "zaxis": {
            "backgroundcolor": "#E5ECF6",
            "gridcolor": "white",
            "gridwidth": 2,
            "linecolor": "white",
            "showbackground": true,
            "ticks": "",
            "zerolinecolor": "white"
           }
          },
          "shapedefaults": {
           "line": {
            "color": "#2a3f5f"
           }
          },
          "ternary": {
           "aaxis": {
            "gridcolor": "white",
            "linecolor": "white",
            "ticks": ""
           },
           "baxis": {
            "gridcolor": "white",
            "linecolor": "white",
            "ticks": ""
           },
           "bgcolor": "#E5ECF6",
           "caxis": {
            "gridcolor": "white",
            "linecolor": "white",
            "ticks": ""
           }
          },
          "title": {
           "x": 0.05
          },
          "xaxis": {
           "automargin": true,
           "gridcolor": "white",
           "linecolor": "white",
           "ticks": "",
           "title": {
            "standoff": 15
           },
           "zerolinecolor": "white",
           "zerolinewidth": 2
          },
          "yaxis": {
           "automargin": true,
           "gridcolor": "white",
           "linecolor": "white",
           "ticks": "",
           "title": {
            "standoff": 15
           },
           "zerolinecolor": "white",
           "zerolinewidth": 2
          }
         }
        },
        "title": {
         "text": "Count of transaction variable"
        }
       }
      },
      "text/html": [
       "<div>\n",
       "        \n",
       "        \n",
       "            <div id=\"32f619bb-ced0-42d1-ba3c-4e1ba9347736\" class=\"plotly-graph-div\" style=\"height:525px; width:100%;\"></div>\n",
       "            <script type=\"text/javascript\">\n",
       "                require([\"plotly\"], function(Plotly) {\n",
       "                    window.PLOTLYENV=window.PLOTLYENV || {};\n",
       "                    \n",
       "                if (document.getElementById(\"32f619bb-ced0-42d1-ba3c-4e1ba9347736\")) {\n",
       "                    Plotly.newPlot(\n",
       "                        '32f619bb-ced0-42d1-ba3c-4e1ba9347736',\n",
       "                        [{\"marker\": {\"color\": [\"#DAF7A6\", \"#76D7C4\"], \"line\": {\"color\": \"#000000\", \"width\": 1.0}}, \"opacity\": 0.8, \"orientation\": \"v\", \"type\": \"bar\", \"x\": [\"Yes_transaction\", \"No_transaction\"], \"y\": [94, 411]}],\n",
       "                        {\"template\": {\"data\": {\"bar\": [{\"error_x\": {\"color\": \"#2a3f5f\"}, \"error_y\": {\"color\": \"#2a3f5f\"}, \"marker\": {\"line\": {\"color\": \"#E5ECF6\", \"width\": 0.5}}, \"type\": \"bar\"}], \"barpolar\": [{\"marker\": {\"line\": {\"color\": \"#E5ECF6\", \"width\": 0.5}}, \"type\": \"barpolar\"}], \"carpet\": [{\"aaxis\": {\"endlinecolor\": \"#2a3f5f\", \"gridcolor\": \"white\", \"linecolor\": \"white\", \"minorgridcolor\": \"white\", \"startlinecolor\": \"#2a3f5f\"}, \"baxis\": {\"endlinecolor\": \"#2a3f5f\", \"gridcolor\": \"white\", \"linecolor\": \"white\", \"minorgridcolor\": \"white\", \"startlinecolor\": \"#2a3f5f\"}, \"type\": \"carpet\"}], \"choropleth\": [{\"colorbar\": {\"outlinewidth\": 0, \"ticks\": \"\"}, \"type\": \"choropleth\"}], \"contour\": [{\"colorbar\": {\"outlinewidth\": 0, \"ticks\": \"\"}, \"colorscale\": [[0.0, \"#0d0887\"], [0.1111111111111111, \"#46039f\"], [0.2222222222222222, \"#7201a8\"], [0.3333333333333333, \"#9c179e\"], [0.4444444444444444, \"#bd3786\"], [0.5555555555555556, \"#d8576b\"], [0.6666666666666666, \"#ed7953\"], [0.7777777777777778, \"#fb9f3a\"], [0.8888888888888888, \"#fdca26\"], [1.0, \"#f0f921\"]], \"type\": \"contour\"}], \"contourcarpet\": [{\"colorbar\": {\"outlinewidth\": 0, \"ticks\": \"\"}, \"type\": \"contourcarpet\"}], \"heatmap\": [{\"colorbar\": {\"outlinewidth\": 0, \"ticks\": \"\"}, \"colorscale\": [[0.0, \"#0d0887\"], [0.1111111111111111, \"#46039f\"], [0.2222222222222222, \"#7201a8\"], [0.3333333333333333, \"#9c179e\"], [0.4444444444444444, \"#bd3786\"], [0.5555555555555556, \"#d8576b\"], [0.6666666666666666, \"#ed7953\"], [0.7777777777777778, \"#fb9f3a\"], [0.8888888888888888, \"#fdca26\"], [1.0, \"#f0f921\"]], \"type\": \"heatmap\"}], \"heatmapgl\": [{\"colorbar\": {\"outlinewidth\": 0, \"ticks\": \"\"}, \"colorscale\": [[0.0, \"#0d0887\"], [0.1111111111111111, \"#46039f\"], [0.2222222222222222, \"#7201a8\"], [0.3333333333333333, \"#9c179e\"], [0.4444444444444444, \"#bd3786\"], [0.5555555555555556, \"#d8576b\"], [0.6666666666666666, \"#ed7953\"], [0.7777777777777778, \"#fb9f3a\"], [0.8888888888888888, \"#fdca26\"], [1.0, \"#f0f921\"]], \"type\": \"heatmapgl\"}], \"histogram\": [{\"marker\": {\"colorbar\": {\"outlinewidth\": 0, \"ticks\": \"\"}}, \"type\": \"histogram\"}], \"histogram2d\": [{\"colorbar\": {\"outlinewidth\": 0, \"ticks\": \"\"}, \"colorscale\": [[0.0, \"#0d0887\"], [0.1111111111111111, \"#46039f\"], [0.2222222222222222, \"#7201a8\"], [0.3333333333333333, \"#9c179e\"], [0.4444444444444444, \"#bd3786\"], [0.5555555555555556, \"#d8576b\"], [0.6666666666666666, \"#ed7953\"], [0.7777777777777778, \"#fb9f3a\"], [0.8888888888888888, \"#fdca26\"], [1.0, \"#f0f921\"]], \"type\": \"histogram2d\"}], \"histogram2dcontour\": [{\"colorbar\": {\"outlinewidth\": 0, \"ticks\": \"\"}, \"colorscale\": [[0.0, \"#0d0887\"], [0.1111111111111111, \"#46039f\"], [0.2222222222222222, \"#7201a8\"], [0.3333333333333333, \"#9c179e\"], [0.4444444444444444, \"#bd3786\"], [0.5555555555555556, \"#d8576b\"], [0.6666666666666666, \"#ed7953\"], [0.7777777777777778, \"#fb9f3a\"], [0.8888888888888888, \"#fdca26\"], [1.0, \"#f0f921\"]], \"type\": \"histogram2dcontour\"}], \"mesh3d\": [{\"colorbar\": {\"outlinewidth\": 0, \"ticks\": \"\"}, \"type\": \"mesh3d\"}], \"parcoords\": [{\"line\": {\"colorbar\": {\"outlinewidth\": 0, \"ticks\": \"\"}}, \"type\": \"parcoords\"}], \"pie\": [{\"automargin\": true, \"type\": \"pie\"}], \"scatter\": [{\"marker\": {\"colorbar\": {\"outlinewidth\": 0, \"ticks\": \"\"}}, \"type\": \"scatter\"}], \"scatter3d\": [{\"line\": {\"colorbar\": {\"outlinewidth\": 0, \"ticks\": \"\"}}, \"marker\": {\"colorbar\": {\"outlinewidth\": 0, \"ticks\": \"\"}}, \"type\": \"scatter3d\"}], \"scattercarpet\": [{\"marker\": {\"colorbar\": {\"outlinewidth\": 0, \"ticks\": \"\"}}, \"type\": \"scattercarpet\"}], \"scattergeo\": [{\"marker\": {\"colorbar\": {\"outlinewidth\": 0, \"ticks\": \"\"}}, \"type\": \"scattergeo\"}], \"scattergl\": [{\"marker\": {\"colorbar\": {\"outlinewidth\": 0, \"ticks\": \"\"}}, \"type\": \"scattergl\"}], \"scattermapbox\": [{\"marker\": {\"colorbar\": {\"outlinewidth\": 0, \"ticks\": \"\"}}, \"type\": \"scattermapbox\"}], \"scatterpolar\": [{\"marker\": {\"colorbar\": {\"outlinewidth\": 0, \"ticks\": \"\"}}, \"type\": \"scatterpolar\"}], \"scatterpolargl\": [{\"marker\": {\"colorbar\": {\"outlinewidth\": 0, \"ticks\": \"\"}}, \"type\": \"scatterpolargl\"}], \"scatterternary\": [{\"marker\": {\"colorbar\": {\"outlinewidth\": 0, \"ticks\": \"\"}}, \"type\": \"scatterternary\"}], \"surface\": [{\"colorbar\": {\"outlinewidth\": 0, \"ticks\": \"\"}, \"colorscale\": [[0.0, \"#0d0887\"], [0.1111111111111111, \"#46039f\"], [0.2222222222222222, \"#7201a8\"], [0.3333333333333333, \"#9c179e\"], [0.4444444444444444, \"#bd3786\"], [0.5555555555555556, \"#d8576b\"], [0.6666666666666666, \"#ed7953\"], [0.7777777777777778, \"#fb9f3a\"], [0.8888888888888888, \"#fdca26\"], [1.0, \"#f0f921\"]], \"type\": \"surface\"}], \"table\": [{\"cells\": {\"fill\": {\"color\": \"#EBF0F8\"}, \"line\": {\"color\": \"white\"}}, \"header\": {\"fill\": {\"color\": \"#C8D4E3\"}, \"line\": {\"color\": \"white\"}}, \"type\": \"table\"}]}, \"layout\": {\"annotationdefaults\": {\"arrowcolor\": \"#2a3f5f\", \"arrowhead\": 0, \"arrowwidth\": 1}, \"coloraxis\": {\"colorbar\": {\"outlinewidth\": 0, \"ticks\": \"\"}}, \"colorscale\": {\"diverging\": [[0, \"#8e0152\"], [0.1, \"#c51b7d\"], [0.2, \"#de77ae\"], [0.3, \"#f1b6da\"], [0.4, \"#fde0ef\"], [0.5, \"#f7f7f7\"], [0.6, \"#e6f5d0\"], [0.7, \"#b8e186\"], [0.8, \"#7fbc41\"], [0.9, \"#4d9221\"], [1, \"#276419\"]], \"sequential\": [[0.0, \"#0d0887\"], [0.1111111111111111, \"#46039f\"], [0.2222222222222222, \"#7201a8\"], [0.3333333333333333, \"#9c179e\"], [0.4444444444444444, \"#bd3786\"], [0.5555555555555556, \"#d8576b\"], [0.6666666666666666, \"#ed7953\"], [0.7777777777777778, \"#fb9f3a\"], [0.8888888888888888, \"#fdca26\"], [1.0, \"#f0f921\"]], \"sequentialminus\": [[0.0, \"#0d0887\"], [0.1111111111111111, \"#46039f\"], [0.2222222222222222, \"#7201a8\"], [0.3333333333333333, \"#9c179e\"], [0.4444444444444444, \"#bd3786\"], [0.5555555555555556, \"#d8576b\"], [0.6666666666666666, \"#ed7953\"], [0.7777777777777778, \"#fb9f3a\"], [0.8888888888888888, \"#fdca26\"], [1.0, \"#f0f921\"]]}, \"colorway\": [\"#636efa\", \"#EF553B\", \"#00cc96\", \"#ab63fa\", \"#FFA15A\", \"#19d3f3\", \"#FF6692\", \"#B6E880\", \"#FF97FF\", \"#FECB52\"], \"font\": {\"color\": \"#2a3f5f\"}, \"geo\": {\"bgcolor\": \"white\", \"lakecolor\": \"white\", \"landcolor\": \"#E5ECF6\", \"showlakes\": true, \"showland\": true, \"subunitcolor\": \"white\"}, \"hoverlabel\": {\"align\": \"left\"}, \"hovermode\": \"closest\", \"mapbox\": {\"style\": \"light\"}, \"paper_bgcolor\": \"white\", \"plot_bgcolor\": \"#E5ECF6\", \"polar\": {\"angularaxis\": {\"gridcolor\": \"white\", \"linecolor\": \"white\", \"ticks\": \"\"}, \"bgcolor\": \"#E5ECF6\", \"radialaxis\": {\"gridcolor\": \"white\", \"linecolor\": \"white\", \"ticks\": \"\"}}, \"scene\": {\"xaxis\": {\"backgroundcolor\": \"#E5ECF6\", \"gridcolor\": \"white\", \"gridwidth\": 2, \"linecolor\": \"white\", \"showbackground\": true, \"ticks\": \"\", \"zerolinecolor\": \"white\"}, \"yaxis\": {\"backgroundcolor\": \"#E5ECF6\", \"gridcolor\": \"white\", \"gridwidth\": 2, \"linecolor\": \"white\", \"showbackground\": true, \"ticks\": \"\", \"zerolinecolor\": \"white\"}, \"zaxis\": {\"backgroundcolor\": \"#E5ECF6\", \"gridcolor\": \"white\", \"gridwidth\": 2, \"linecolor\": \"white\", \"showbackground\": true, \"ticks\": \"\", \"zerolinecolor\": \"white\"}}, \"shapedefaults\": {\"line\": {\"color\": \"#2a3f5f\"}}, \"ternary\": {\"aaxis\": {\"gridcolor\": \"white\", \"linecolor\": \"white\", \"ticks\": \"\"}, \"baxis\": {\"gridcolor\": \"white\", \"linecolor\": \"white\", \"ticks\": \"\"}, \"bgcolor\": \"#E5ECF6\", \"caxis\": {\"gridcolor\": \"white\", \"linecolor\": \"white\", \"ticks\": \"\"}}, \"title\": {\"x\": 0.05}, \"xaxis\": {\"automargin\": true, \"gridcolor\": \"white\", \"linecolor\": \"white\", \"ticks\": \"\", \"title\": {\"standoff\": 15}, \"zerolinecolor\": \"white\", \"zerolinewidth\": 2}, \"yaxis\": {\"automargin\": true, \"gridcolor\": \"white\", \"linecolor\": \"white\", \"ticks\": \"\", \"title\": {\"standoff\": 15}, \"zerolinecolor\": \"white\", \"zerolinewidth\": 2}}}, \"title\": {\"text\": \"Count of transaction variable\"}},\n",
       "                        {\"responsive\": true}\n",
       "                    ).then(function(){\n",
       "                            \n",
       "var gd = document.getElementById('32f619bb-ced0-42d1-ba3c-4e1ba9347736');\n",
       "var x = new MutationObserver(function (mutations, observer) {{\n",
       "        var display = window.getComputedStyle(gd).display;\n",
       "        if (!display || display === 'none') {{\n",
       "            console.log([gd, 'removed!']);\n",
       "            Plotly.purge(gd);\n",
       "            observer.disconnect();\n",
       "        }}\n",
       "}});\n",
       "\n",
       "// Listen for the removal of the full notebook cells\n",
       "var notebookContainer = gd.closest('#notebook-container');\n",
       "if (notebookContainer) {{\n",
       "    x.observe(notebookContainer, {childList: true});\n",
       "}}\n",
       "\n",
       "// Listen for the clearing of the current output cell\n",
       "var outputEl = gd.closest('.output');\n",
       "if (outputEl) {{\n",
       "    x.observe(outputEl, {childList: true});\n",
       "}}\n",
       "\n",
       "                        })\n",
       "                };\n",
       "                });\n",
       "            </script>\n",
       "        </div>"
      ]
     },
     "metadata": {},
     "output_type": "display_data"
    }
   ],
   "source": [
    "transaction = df[(df['transaction'] != 0)]\n",
    "no_transaction = df[(df['transaction'] == 0)]\n",
    "\n",
    "#count\n",
    "trace = go.Bar(x =  ['Yes_transaction', 'No_transaction'], y = (len(transaction), len(no_transaction)), orientation = 'v', opacity = 0.8, marker=dict(\n",
    "        color=['#DAF7A6', '#76D7C4'],\n",
    "        line=dict(color='#000000',width=1.0)))\n",
    "\n",
    "layout = dict(title =  'Bar plot of transaction')\n",
    "                    \n",
    "fig = dict(data = [trace], layout=layout)\n",
    "py.iplot(fig)"
   ]
  },
  {
   "cell_type": "markdown",
   "metadata": {},
   "source": [
    "=> <i>By observing bar plot it is clear, 18% transactions are made whereas around 80% were not made. </i>"
   ]
  },
  {
   "cell_type": "markdown",
   "metadata": {},
   "source": [
    "- <i>Density plot of salary</i>"
   ]
  },
  {
   "cell_type": "code",
   "execution_count": 107,
   "metadata": {},
   "outputs": [
    {
     "data": {
      "text/plain": [
       "Text(0.5, 1.0, 'Density plot of salary($)')"
      ]
     },
     "execution_count": 107,
     "metadata": {},
     "output_type": "execute_result"
    },
    {
     "data": {
      "image/png": "[encoded data removed]",
      "text/plain": [
       "<Figure size 1080x648 with 1 Axes>"
      ]
     },
     "metadata": {},
     "output_type": "display_data"
    }
   ],
   "source": [
    "sns.set_style('whitegrid')\n",
    "plt.figure(figsize=(15,9))\n",
    "sns.set(style='whitegrid')\n",
    "#sns.set(palette='Set2')\n",
    "\n",
    "plt.xlabel(\"salary($)\", labelpad = 15, fontsize=19)\n",
    "\n",
    "sns.kdeplot(df['salary_usd'], shade=True, bw=.5, color=\"olive\")\n",
    "\n",
    "#sns.scatterplot(x = 'salary_usd', y = 'df[salary_usd].value_counts()', data = df , s=60)\n",
    "#ax = sns.countplot(df['salary_usd'])\n",
    "plt.title(\"Density plot of salary($)\", fontsize=20)\n"
   ]
  },
  {
   "cell_type": "markdown",
   "metadata": {},
   "source": [
    "=> Maxixmum salaries are above 100k"
   ]
  },
  {
   "cell_type": "markdown",
   "metadata": {},
   "source": [
    "- <i>Distplot of salary vs transaction</i>"
   ]
  },
  {
   "cell_type": "code",
   "execution_count": 115,
   "metadata": {},
   "outputs": [
    {
     "data": {
      "text/plain": [
       "<matplotlib.legend.Legend at 0x13c439d90>"
      ]
     },
     "execution_count": 115,
     "metadata": {},
     "output_type": "execute_result"
    },
    {
     "data": {
      "image/png": "[encoded data removed]",
      "text/plain": [
       "<Figure size 1080x648 with 1 Axes>"
      ]
     },
     "metadata": {},
     "output_type": "display_data"
    }
   ],
   "source": [
    "data0 = df['salary_usd'].loc[df['transaction']==0]\n",
    "data1 = df['salary_usd'].loc[df['transaction']==1]\n",
    "\n",
    "sns.set_style('whitegrid')\n",
    "plt.figure(figsize=(15,9))\n",
    "sns.set(style='whitegrid')\n",
    "sns.set(palette='Paired')\n",
    "\n",
    "ax = sns.distplot(data0, hist=True)\n",
    "ax = sns.distplot(data1, hist=True)\n",
    "\n",
    "plt.title(\"Distplot to show effect of income on transaction for disney subscription \", fontsize=18)\n",
    "plt.xlabel(\"salary($)\", labelpad = 15, fontsize=18)\n",
    "\n",
    "plt.legend(['No Transaction','Yes Transaction'])"
   ]
  },
  {
   "cell_type": "markdown",
   "metadata": {},
   "source": [
    "=> By looking at the above dist plot, we observe that people who has salaries below $55,000 do not by the disney subscription and people who have more than $60,000 income tend to buy the subscription. \n",
    "=>The highest number of Disney subscritons are purchased by the people who come under the highest income group($120k)"
   ]
  },
  {
   "cell_type": "markdown",
   "metadata": {},
   "source": [
    "- <i><b>Creating logistic regression</b></i>"
   ]
  },
  {
   "cell_type": "markdown",
   "metadata": {},
   "source": [
    "- <i>Now, set the independent variables (represented as X) and the dependent variable (represented as y):</i>"
   ]
  },
  {
   "cell_type": "code",
   "execution_count": 178,
   "metadata": {},
   "outputs": [
    {
     "data": {
      "text/plain": [
       "(505, 12)"
      ]
     },
     "execution_count": 178,
     "metadata": {},
     "output_type": "execute_result"
    }
   ],
   "source": [
    "Imp_feat.shape"
   ]
  },
  {
   "cell_type": "code",
   "execution_count": 180,
   "metadata": {},
   "outputs": [
    {
     "name": "stdout",
     "output_type": "stream",
     "text": [
      "Shape of X: (505, 11)\n",
      "Shape of Y: (505, 1)\n"
     ]
    }
   ],
   "source": [
    "X = np.array(Imp_feat.loc[:, Imp_feat.columns != 'transaction'])\n",
    "y = np.array(Imp_feat.loc[:, Imp_feat.columns == 'transaction'])\n",
    "\n",
    "print('Shape of X: {}'.format(X.shape))\n",
    "print('Shape of Y: {}'.format(y.shape))"
   ]
  },
  {
   "cell_type": "markdown",
   "metadata": {},
   "source": [
    "- <i>Then, apply train_test_split. For example, you can set the test size to 0.3, and therefore the model testing will be based on 30% of the dataset, while the model training will be based on 70% of the dataset:</i>"
   ]
  },
  {
   "cell_type": "code",
   "execution_count": 181,
   "metadata": {},
   "outputs": [
    {
     "name": "stdout",
     "output_type": "stream",
     "text": [
      "Number transactions X_train dataset:  (353, 11)\n",
      "Number transactions y_train dataset:  (353, 1)\n",
      "Number transactions X_test dataset:  (152, 11)\n",
      "Number transactions y_test dataset:  (152, 1)\n"
     ]
    }
   ],
   "source": [
    "X_train, X_test, y_train, y_test = train_test_split(X, y, test_size=0.3, random_state=12)\n",
    "\n",
    "print(\"Number transactions X_train dataset: \", X_train.shape)\n",
    "print(\"Number transactions y_train dataset: \", y_train.shape)\n",
    "print(\"Number transactions X_test dataset: \", X_test.shape)\n",
    "print(\"Number transactions y_test dataset: \", y_test.shape)\n"
   ]
  },
  {
   "cell_type": "markdown",
   "metadata": {},
   "source": [
    "<h3>Synthetic Minority Oversampling Technique(SMOTE)</h3>\n",
    "<ul>\n",
    " <li>SMOTE uses a nearest neighbors algorithm to generate new and synthetic data to used for training the model.</li>\n",
    " <li>SMOTE synthesises new minority instances between existing (real) minority instances. </li>\n",
    " <li>As we have seen bar graph of attrition majority of the data belongs to no attrition so, to balance the data I have used SMOTE technique.</li>\n",
    "</ul>"
   ]
  },
  {
   "cell_type": "code",
   "execution_count": 182,
   "metadata": {},
   "outputs": [
    {
     "name": "stdout",
     "output_type": "stream",
     "text": [
      "Before OverSampling, counts of label '1': [73]\n",
      "Before OverSampling, counts of label '0': [280] \n",
      "\n",
      "After OverSampling, the shape of train_X: (560, 11)\n",
      "After OverSampling, the shape of train_y: (560,) \n",
      "\n",
      "After OverSampling, counts of label '1': 280\n",
      "After OverSampling, counts of label '0': 280\n"
     ]
    }
   ],
   "source": [
    "print(\"Before OverSampling, counts of label '1': {}\".format(sum(y_train==1)))\n",
    "print(\"Before OverSampling, counts of label '0': {} \\n\".format(sum(y_train==0)))\n",
    "\n",
    "smote = SMOTE(random_state=2)\n",
    "X_train_res, y_train_res = smote.fit_sample(X_train, y_train.ravel())\n",
    "\n",
    "print('After OverSampling, the shape of train_X: {}'.format(X_train_res.shape))\n",
    "print('After OverSampling, the shape of train_y: {} \\n'.format(y_train_res.shape))\n",
    "\n",
    "print(\"After OverSampling, counts of label '1': {}\".format(sum(y_train_res==1)))\n",
    "print(\"After OverSampling, counts of label '0': {}\".format(sum(y_train_res==0)))\n",
    "\n",
    "X_test_res, y_test_res = smote.fit_sample(X_test,y_test)\n"
   ]
  },
  {
   "cell_type": "markdown",
   "metadata": {},
   "source": [
    "- <i>Let us see how baseline logistic regression model performs on synthetic data points.</i>"
   ]
  },
  {
   "cell_type": "code",
   "execution_count": 183,
   "metadata": {},
   "outputs": [],
   "source": [
    "X_train, X_test, y_train, y_test = train_test_split(X, y, test_size=0.3, random_state=0)\n",
    "logreg = LogisticRegression()\n",
    "logreg.fit(X_train_res, y_train_res)\n",
    "y_pred = logreg.predict(X_test_res)"
   ]
  },
  {
   "cell_type": "markdown",
   "metadata": {},
   "source": [
    "<h4>Accuracy of model</h4>"
   ]
  },
  {
   "cell_type": "code",
   "execution_count": 184,
   "metadata": {},
   "outputs": [
    {
     "name": "stdout",
     "output_type": "stream",
     "text": [
      "Accuracy of logistic regression classifier on test set: 0.82\n"
     ]
    }
   ],
   "source": [
    "print('Accuracy of logistic regression classifier on test set: {:.2f}'.format(logreg.score(X_test_res, y_test_res)))"
   ]
  },
  {
   "cell_type": "code",
   "execution_count": 185,
   "metadata": {},
   "outputs": [
    {
     "name": "stdout",
     "output_type": "stream",
     "text": [
      "cross_val_score : 0.8094017094017094\n"
     ]
    }
   ],
   "source": [
    "#Cross validation prediction\n",
    "cv_pred = cross_val_predict(logreg,X_test_res,y_test_res,cv=5)\n",
    "#Cross validation score\n",
    "cv_score = cross_val_score(logreg,X_test_res,y_test_res,cv=5)\n",
    "print('cross_val_score :',np.average(cv_score))"
   ]
  },
  {
   "cell_type": "markdown",
   "metadata": {},
   "source": [
    "<h4> Classification Report</h4>"
   ]
  },
  {
   "cell_type": "code",
   "execution_count": 187,
   "metadata": {},
   "outputs": [
    {
     "name": "stdout",
     "output_type": "stream",
     "text": [
      "              precision    recall  f1-score   support\n",
      "\n",
      "           0       0.99      0.65      0.78       131\n",
      "           1       0.74      0.99      0.85       131\n",
      "\n",
      "    accuracy                           0.82       262\n",
      "   macro avg       0.86      0.82      0.82       262\n",
      "weighted avg       0.86      0.82      0.82       262\n",
      "\n"
     ]
    }
   ],
   "source": [
    "print(classification_report(y_test_res, y_pred))"
   ]
  },
  {
   "cell_type": "code",
   "execution_count": 188,
   "metadata": {},
   "outputs": [
    {
     "name": "stdout",
     "output_type": "stream",
     "text": [
      "Warning: Maximum number of iterations has been exceeded.\n",
      "         Current function value: 0.244783\n",
      "         Iterations: 35\n",
      "                         Results: Logit\n",
      "=================================================================\n",
      "Model:              Logit            Pseudo R-squared: 0.491     \n",
      "Dependent Variable: y                AIC:              269.2309  \n",
      "Date:               2020-05-03 11:37 BIC:              315.7011  \n",
      "No. Observations:   505              Log-Likelihood:   -123.62   \n",
      "Df Model:           10               LL-Null:          -242.69   \n",
      "Df Residuals:       494              LLR p-value:      1.6755e-45\n",
      "Converged:          0.0000           Scale:            1.0000    \n",
      "No. Iterations:     35.0000                                      \n",
      "------------------------------------------------------------------\n",
      "         Coef.    Std.Err.     z     P>|z|     [0.025      0.975] \n",
      "------------------------------------------------------------------\n",
      "x1       -0.0010    0.0008  -1.1912  0.2336     -0.0027     0.0006\n",
      "x2        0.0001    0.0000   8.2113  0.0000      0.0000     0.0001\n",
      "x3       -1.1157    0.4531  -2.4624  0.0138     -2.0037    -0.2277\n",
      "x4       -0.3258    0.3655  -0.8915  0.3727     -1.0422     0.3905\n",
      "x5       -0.1601    0.3800  -0.4213  0.6735     -0.9049     0.5847\n",
      "x6       -1.2689    0.7969  -1.5923  0.1113     -2.8309     0.2930\n",
      "x7      -12.0265  969.9427  -0.0124  0.9901  -1913.0793  1889.0262\n",
      "x8       -1.7660    0.4098  -4.3094  0.0000     -2.5692    -0.9628\n",
      "x9       -2.5393    0.4404  -5.7661  0.0000     -3.4024    -1.6762\n",
      "x10      -1.5711    0.4972  -3.1598  0.0016     -2.5456    -0.5966\n",
      "x11      -1.7056    0.5232  -3.2602  0.0011     -2.7310    -0.6802\n",
      "=================================================================\n",
      "\n"
     ]
    }
   ],
   "source": [
    "#logistic model with summary\n",
    "logit_model=sm.Logit(y,X)\n",
    "result=logit_model.fit()\n",
    "print(result.summary2())"
   ]
  },
  {
   "cell_type": "markdown",
   "metadata": {},
   "source": [
    "<h4>Confusion Matrix</h4>"
   ]
  },
  {
   "cell_type": "markdown",
   "metadata": {},
   "source": [
    "- <i>It helps to asses the performance of classifier</i>"
   ]
  },
  {
   "cell_type": "code",
   "execution_count": 189,
   "metadata": {},
   "outputs": [
    {
     "name": "stdout",
     "output_type": "stream",
     "text": [
      "[[ 85  46]\n",
      " [  1 130]]\n"
     ]
    }
   ],
   "source": [
    "confusion_matrix = confusion_matrix(y_test_res, y_pred)\n",
    "print(confusion_matrix)"
   ]
  },
  {
   "cell_type": "markdown",
   "metadata": {},
   "source": [
    "<P>=>True Positive(TP)= 85</P>\n",
    "<P>=>True Negative(TN)= 130</P>\n",
    "<P>=>False Positive(FP)= 46</P>\n",
    "<P>=>False Negative(NP)= 1</P>"
   ]
  },
  {
   "cell_type": "markdown",
   "metadata": {},
   "source": [
    "- <i>Heat map of confusion matrix</i>"
   ]
  },
  {
   "cell_type": "code",
   "execution_count": 191,
   "metadata": {},
   "outputs": [
    {
     "data": {
      "text/plain": [
       "Text(24.1, 0.5, 'Actual label')"
      ]
     },
     "execution_count": 191,
     "metadata": {},
     "output_type": "execute_result"
    },
    {
     "data": {
      "image/png": "[encoded data removed]",
      "text/plain": [
       "<Figure size 720x576 with 2 Axes>"
      ]
     },
     "metadata": {},
     "output_type": "display_data"
    }
   ],
   "source": [
    "#heatmap \n",
    "class_names=[0,1]\n",
    "plt.figure(figsize=(10,8))\n",
    "tick_marks = np.arange(len(class_names))\n",
    "plt.xticks(tick_marks, class_names)\n",
    "plt.yticks(tick_marks, class_names)\n",
    "sns.set(font_scale=2)\n",
    "\n",
    "sns.heatmap(pd.DataFrame(confusion_matrix),  cmap=\"BuPu\", annot=True,fmt=\"d\", linewidths=2, linecolor='black',annot_kws={\"size\":18})\n",
    "\n",
    "ax.xaxis.set_label_position(\"top\")\n",
    "plt.tight_layout()\n",
    "plt.title('Confusion matrix', y=1.5, fontsize=20)\n",
    "plt.xlabel('Predicted label', labelpad = 15, fontsize=17)\n",
    "plt.ylabel('Actual label', labelpad = 15, fontsize=17)"
   ]
  },
  {
   "cell_type": "markdown",
   "metadata": {},
   "source": [
    "<h3>Reciever operating characteristics (ROC)-Area under curve(AUC) score and curve</h3>"
   ]
  },
  {
   "cell_type": "code",
   "execution_count": 192,
   "metadata": {},
   "outputs": [
    {
     "name": "stdout",
     "output_type": "stream",
     "text": [
      "ROC score is: 0.8206106870229009\n"
     ]
    },
    {
     "data": {
      "image/png": "[encoded data removed]",
      "text/plain": [
       "<Figure size 720x576 with 1 Axes>"
      ]
     },
     "metadata": {},
     "output_type": "display_data"
    },
    {
     "name": "stdout",
     "output_type": "stream",
     "text": [
      "AUC: 0.8206106870229009\n"
     ]
    }
   ],
   "source": [
    "#ROC_AUC curve\n",
    "\n",
    "roc_score = roc_auc_score(y_test_res,y_pred)\n",
    "print('ROC score is:',roc_score)\n",
    "plt.figure(figsize=(10,8))\n",
    "false_positive_rate, recall, thresholds = roc_curve(y_test_res,y_pred)\n",
    "\n",
    "roc_auc = auc(false_positive_rate,recall)\n",
    "plt.plot(false_positive_rate,recall,'g',label='ROC(area=%0.3f)' %roc_auc)\n",
    "\n",
    "plt.legend()\n",
    "plt.plot([0,1],[0,1],'y--')\n",
    "\n",
    "plt.xlim([0.0,1.0])\n",
    "plt.ylim([0.0,1.0])\n",
    "\n",
    "plt.title('Reciver Operating Characteristics(ROC)', fontsize=18)\n",
    "plt.ylabel('Recall(True Positive Rate)', fontsize=18 )\n",
    "plt.xlabel('False Positive Rate',fontsize=18)\n",
    "plt.show()\n",
    "print('AUC:',roc_auc)"
   ]
  },
  {
   "cell_type": "markdown",
   "metadata": {},
   "source": [
    "<h2>Testing model using sample data</h2>"
   ]
  },
  {
   "cell_type": "code",
   "execution_count": 193,
   "metadata": {},
   "outputs": [
    {
     "data": {
      "text/plain": [
       "array([1, 0, 0, 0, 0, 1, 0, 0, 1, 1, 0, 1, 1, 0, 1, 0, 1, 0, 0, 1, 0, 1,\n",
       "       0, 1, 1, 1, 0, 1, 1, 0, 0, 0, 0, 0, 0, 0, 0, 0, 1, 1, 0, 0, 0, 1,\n",
       "       1, 0, 0, 0, 1, 1, 0, 1, 0, 0, 0, 0, 1, 0, 0, 1, 1, 0, 0, 0, 1, 1,\n",
       "       0, 0, 1, 0, 0, 1, 1, 1, 0, 1, 0, 1, 1, 0, 0, 0, 1, 0, 1, 0, 0, 0,\n",
       "       1, 0, 0, 0, 1, 0, 0, 1, 0, 0, 0, 1, 1, 0, 0, 0, 0, 1, 0, 1, 0, 1,\n",
       "       1, 0, 0, 0, 0, 0, 1, 1, 1, 1, 1, 1, 0, 1, 0, 0, 0, 1, 1, 1, 1, 0,\n",
       "       1, 1, 0, 0, 0, 0, 0, 0, 1, 0, 1, 1, 1, 1, 1, 1, 0, 0, 0, 1, 1, 1,\n",
       "       1, 1, 1, 1, 1, 1, 1, 1, 1, 1, 1, 1, 1, 1, 1, 1, 1, 1, 1, 1, 1, 1,\n",
       "       1, 1, 1, 1, 1, 1, 1, 1, 1, 1, 1, 1, 1, 1, 1, 1, 1, 1, 1, 1, 1, 1,\n",
       "       1, 1, 1, 1, 1, 1, 1, 1, 1, 1, 1, 1, 1, 1, 1, 1, 1, 1, 1, 1, 1, 1,\n",
       "       1, 1, 1, 1, 1, 1, 1, 1, 1, 1, 1, 1, 1, 1, 1, 1, 1, 1, 1, 1, 1, 1,\n",
       "       1, 1, 1, 1, 1, 1, 1, 1, 1, 1, 1, 1, 1, 1, 1, 1, 1, 1, 1, 1])"
      ]
     },
     "execution_count": 193,
     "metadata": {},
     "output_type": "execute_result"
    }
   ],
   "source": [
    "logreg.predict(X_test_res)"
   ]
  },
  {
   "cell_type": "code",
   "execution_count": 194,
   "metadata": {},
   "outputs": [
    {
     "data": {
      "text/plain": [
       "0.8206106870229007"
      ]
     },
     "execution_count": 194,
     "metadata": {},
     "output_type": "execute_result"
    }
   ],
   "source": [
    "logreg.score(X_test_res,y_test_res)"
   ]
  },
  {
   "cell_type": "code",
   "execution_count": 195,
   "metadata": {},
   "outputs": [
    {
     "data": {
      "text/plain": [
       "array([[0.22340983, 0.77659017],\n",
       "       [0.84987414, 0.15012586],\n",
       "       [0.90778367, 0.09221633],\n",
       "       [0.79711689, 0.20288311],\n",
       "       [0.78890221, 0.21109779],\n",
       "       [0.1333708 , 0.8666292 ],\n",
       "       [0.95834026, 0.04165974],\n",
       "       [0.65022754, 0.34977246],\n",
       "       [0.19490377, 0.80509623],\n",
       "       [0.46531823, 0.53468177],\n",
       "       [0.5705811 , 0.4294189 ],\n",
       "       [0.15376092, 0.84623908],\n",
       "       [0.04901616, 0.95098384],\n",
       "       [0.72220212, 0.27779788],\n",
       "       [0.09906215, 0.90093785],\n",
       "       [0.92408823, 0.07591177],\n",
       "       [0.39780527, 0.60219473],\n",
       "       [0.84774974, 0.15225026],\n",
       "       [0.84694322, 0.15305678],\n",
       "       [0.38921794, 0.61078206],\n",
       "       [0.94494302, 0.05505698],\n",
       "       [0.45209709, 0.54790291],\n",
       "       [0.8719074 , 0.1280926 ],\n",
       "       [0.34675138, 0.65324862],\n",
       "       [0.08818049, 0.91181951],\n",
       "       [0.13994924, 0.86005076],\n",
       "       [0.92452952, 0.07547048],\n",
       "       [0.09075287, 0.90924713],\n",
       "       [0.17220772, 0.82779228],\n",
       "       [0.67798292, 0.32201708],\n",
       "       [0.82189054, 0.17810946],\n",
       "       [0.88078977, 0.11921023],\n",
       "       [0.64319182, 0.35680818],\n",
       "       [0.69871222, 0.30128778],\n",
       "       [0.71106784, 0.28893216],\n",
       "       [0.70894431, 0.29105569],\n",
       "       [0.93465728, 0.06534272],\n",
       "       [0.93862914, 0.06137086],\n",
       "       [0.32062154, 0.67937846],\n",
       "       [0.42962727, 0.57037273],\n",
       "       [0.96065288, 0.03934712],\n",
       "       [0.85829685, 0.14170315],\n",
       "       [0.89014387, 0.10985613],\n",
       "       [0.33721076, 0.66278924],\n",
       "       [0.29456999, 0.70543001],\n",
       "       [0.51182216, 0.48817784],\n",
       "       [0.85277252, 0.14722748],\n",
       "       [0.91780578, 0.08219422],\n",
       "       [0.05103567, 0.94896433],\n",
       "       [0.43092713, 0.56907287],\n",
       "       [0.87102683, 0.12897317],\n",
       "       [0.11386035, 0.88613965],\n",
       "       [0.50998341, 0.49001659],\n",
       "       [0.53172344, 0.46827656],\n",
       "       [0.8661717 , 0.1338283 ],\n",
       "       [0.56898273, 0.43101727],\n",
       "       [0.38172162, 0.61827838],\n",
       "       [0.77951584, 0.22048416],\n",
       "       [0.78092617, 0.21907383],\n",
       "       [0.14597974, 0.85402026],\n",
       "       [0.43687362, 0.56312638],\n",
       "       [0.6698635 , 0.3301365 ],\n",
       "       [0.81921628, 0.18078372],\n",
       "       [0.89543951, 0.10456049],\n",
       "       [0.48746131, 0.51253869],\n",
       "       [0.25664218, 0.74335782],\n",
       "       [0.96064083, 0.03935917],\n",
       "       [0.57732841, 0.42267159],\n",
       "       [0.43744908, 0.56255092],\n",
       "       [0.62578903, 0.37421097],\n",
       "       [0.68234977, 0.31765023],\n",
       "       [0.47925978, 0.52074022],\n",
       "       [0.20885397, 0.79114603],\n",
       "       [0.37919069, 0.62080931],\n",
       "       [0.78409409, 0.21590591],\n",
       "       [0.42471803, 0.57528197],\n",
       "       [0.88528807, 0.11471193],\n",
       "       [0.02878244, 0.97121756],\n",
       "       [0.43632958, 0.56367042],\n",
       "       [0.65842596, 0.34157404],\n",
       "       [0.62458228, 0.37541772],\n",
       "       [0.64699615, 0.35300385],\n",
       "       [0.11226129, 0.88773871],\n",
       "       [0.57409844, 0.42590156],\n",
       "       [0.05343677, 0.94656323],\n",
       "       [0.85469348, 0.14530652],\n",
       "       [0.735563  , 0.264437  ],\n",
       "       [0.66891474, 0.33108526],\n",
       "       [0.08238584, 0.91761416],\n",
       "       [0.9017658 , 0.0982342 ],\n",
       "       [0.77913518, 0.22086482],\n",
       "       [0.58024308, 0.41975692],\n",
       "       [0.29086558, 0.70913442],\n",
       "       [0.67016672, 0.32983328],\n",
       "       [0.60315973, 0.39684027],\n",
       "       [0.13707478, 0.86292522],\n",
       "       [0.58683172, 0.41316828],\n",
       "       [0.62883804, 0.37116196],\n",
       "       [0.94810695, 0.05189305],\n",
       "       [0.33082284, 0.66917716],\n",
       "       [0.45613689, 0.54386311],\n",
       "       [0.76569255, 0.23430745],\n",
       "       [0.65982715, 0.34017285],\n",
       "       [0.69188716, 0.30811284],\n",
       "       [0.82398343, 0.17601657],\n",
       "       [0.38267866, 0.61732134],\n",
       "       [0.53053011, 0.46946989],\n",
       "       [0.18062667, 0.81937333],\n",
       "       [0.94110674, 0.05889326],\n",
       "       [0.36748913, 0.63251087],\n",
       "       [0.18723993, 0.81276007],\n",
       "       [0.7340253 , 0.2659747 ],\n",
       "       [0.84945901, 0.15054099],\n",
       "       [0.81061047, 0.18938953],\n",
       "       [0.69282078, 0.30717922],\n",
       "       [0.58360361, 0.41639639],\n",
       "       [0.19754985, 0.80245015],\n",
       "       [0.43314122, 0.56685878],\n",
       "       [0.10511755, 0.89488245],\n",
       "       [0.44467374, 0.55532626],\n",
       "       [0.12748529, 0.87251471],\n",
       "       [0.19152676, 0.80847324],\n",
       "       [0.52434634, 0.47565366],\n",
       "       [0.43105974, 0.56894026],\n",
       "       [0.67895897, 0.32104103],\n",
       "       [0.82883079, 0.17116921],\n",
       "       [0.832349  , 0.167651  ],\n",
       "       [0.03950415, 0.96049585],\n",
       "       [0.3760206 , 0.6239794 ],\n",
       "       [0.09299581, 0.90700419],\n",
       "       [0.45809293, 0.54190707],\n",
       "       [0.60130535, 0.39869465],\n",
       "       [0.05223657, 0.94776343],\n",
       "       [0.21287516, 0.78712484],\n",
       "       [0.60037373, 0.39962627],\n",
       "       [0.66385512, 0.33614488],\n",
       "       [0.9318157 , 0.0681843 ],\n",
       "       [0.64075014, 0.35924986],\n",
       "       [0.66493372, 0.33506628],\n",
       "       [0.50045337, 0.49954663],\n",
       "       [0.46170887, 0.53829113],\n",
       "       [0.88832804, 0.11167196],\n",
       "       [0.34427052, 0.65572948],\n",
       "       [0.16347504, 0.83652496],\n",
       "       [0.1556226 , 0.8443774 ],\n",
       "       [0.08943657, 0.91056343],\n",
       "       [0.10311285, 0.89688715],\n",
       "       [0.14092437, 0.85907563],\n",
       "       [0.62254293, 0.37745707],\n",
       "       [0.69849694, 0.30150306],\n",
       "       [0.53767856, 0.46232144],\n",
       "       [0.1672498 , 0.8327502 ],\n",
       "       [0.26008493, 0.73991507],\n",
       "       [0.36647346, 0.63352654],\n",
       "       [0.070603  , 0.929397  ],\n",
       "       [0.37524927, 0.62475073],\n",
       "       [0.24825348, 0.75174652],\n",
       "       [0.06095857, 0.93904143],\n",
       "       [0.33110274, 0.66889726],\n",
       "       [0.06576092, 0.93423908],\n",
       "       [0.04926493, 0.95073507],\n",
       "       [0.04929864, 0.95070136],\n",
       "       [0.25059159, 0.74940841],\n",
       "       [0.05024887, 0.94975113],\n",
       "       [0.29195739, 0.70804261],\n",
       "       [0.04539021, 0.95460979],\n",
       "       [0.16640775, 0.83359225],\n",
       "       [0.38533158, 0.61466842],\n",
       "       [0.05194001, 0.94805999],\n",
       "       [0.09164429, 0.90835571],\n",
       "       [0.3689721 , 0.6310279 ],\n",
       "       [0.08987144, 0.91012856],\n",
       "       [0.10345775, 0.89654225],\n",
       "       [0.0530014 , 0.9469986 ],\n",
       "       [0.09031192, 0.90968808],\n",
       "       [0.17477055, 0.82522945],\n",
       "       [0.22189224, 0.77810776],\n",
       "       [0.39091639, 0.60908361],\n",
       "       [0.06948458, 0.93051542],\n",
       "       [0.16941066, 0.83058934],\n",
       "       [0.04302765, 0.95697235],\n",
       "       [0.03525426, 0.96474574],\n",
       "       [0.05230311, 0.94769689],\n",
       "       [0.04996408, 0.95003592],\n",
       "       [0.04424011, 0.95575989],\n",
       "       [0.04090571, 0.95909429],\n",
       "       [0.30774753, 0.69225247],\n",
       "       [0.38830175, 0.61169825],\n",
       "       [0.05041528, 0.94958472],\n",
       "       [0.12040813, 0.87959187],\n",
       "       [0.05313573, 0.94686427],\n",
       "       [0.09006647, 0.90993353],\n",
       "       [0.09340868, 0.90659132],\n",
       "       [0.4126314 , 0.5873686 ],\n",
       "       [0.21513738, 0.78486262],\n",
       "       [0.36116379, 0.63883621],\n",
       "       [0.23576288, 0.76423712],\n",
       "       [0.09075359, 0.90924641],\n",
       "       [0.35366173, 0.64633827],\n",
       "       [0.16566396, 0.83433604],\n",
       "       [0.23479453, 0.76520547],\n",
       "       [0.06948514, 0.93051486],\n",
       "       [0.27024782, 0.72975218],\n",
       "       [0.06983277, 0.93016723],\n",
       "       [0.34895234, 0.65104766],\n",
       "       [0.37777207, 0.62222793],\n",
       "       [0.05510625, 0.94489375],\n",
       "       [0.37652086, 0.62347914],\n",
       "       [0.37777207, 0.62222793],\n",
       "       [0.0824956 , 0.9175044 ],\n",
       "       [0.05916031, 0.94083969],\n",
       "       [0.09164429, 0.90835571],\n",
       "       [0.34059837, 0.65940163],\n",
       "       [0.12438852, 0.87561148],\n",
       "       [0.04822017, 0.95177983],\n",
       "       [0.35402607, 0.64597393],\n",
       "       [0.05129984, 0.94870016],\n",
       "       [0.38162345, 0.61837655],\n",
       "       [0.06983277, 0.93016723],\n",
       "       [0.21970865, 0.78029135],\n",
       "       [0.09299581, 0.90700419],\n",
       "       [0.47908877, 0.52091123],\n",
       "       [0.05032623, 0.94967377],\n",
       "       [0.3988805 , 0.6011195 ],\n",
       "       [0.05482971, 0.94517029],\n",
       "       [0.09762836, 0.90237164],\n",
       "       [0.1325728 , 0.8674272 ],\n",
       "       [0.0311222 , 0.9688778 ],\n",
       "       [0.30693831, 0.69306169],\n",
       "       [0.14996423, 0.85003577],\n",
       "       [0.0292348 , 0.9707652 ],\n",
       "       [0.10450588, 0.89549412],\n",
       "       [0.3803015 , 0.6196985 ],\n",
       "       [0.05186745, 0.94813255],\n",
       "       [0.49116757, 0.50883243],\n",
       "       [0.09390533, 0.90609467],\n",
       "       [0.47846913, 0.52153087],\n",
       "       [0.09222411, 0.90777589],\n",
       "       [0.08987144, 0.91012856],\n",
       "       [0.05073719, 0.94926281],\n",
       "       [0.31004172, 0.68995828],\n",
       "       [0.10306423, 0.89693577],\n",
       "       [0.09209258, 0.90790742],\n",
       "       [0.08066109, 0.91933891],\n",
       "       [0.39561061, 0.60438939],\n",
       "       [0.14196689, 0.85803311],\n",
       "       [0.41533413, 0.58466587],\n",
       "       [0.09482471, 0.90517529],\n",
       "       [0.05448019, 0.94551981],\n",
       "       [0.06652585, 0.93347415],\n",
       "       [0.09209258, 0.90790742],\n",
       "       [0.06691265, 0.93308735],\n",
       "       [0.09528688, 0.90471312],\n",
       "       [0.04518663, 0.95481337],\n",
       "       [0.42813755, 0.57186245],\n",
       "       [0.02908346, 0.97091654],\n",
       "       [0.3370798 , 0.6629202 ],\n",
       "       [0.21436602, 0.78563398],\n",
       "       [0.05915695, 0.94084305],\n",
       "       [0.06282146, 0.93717854],\n",
       "       [0.13381353, 0.86618647],\n",
       "       [0.23507711, 0.76492289]])"
      ]
     },
     "execution_count": 195,
     "metadata": {},
     "output_type": "execute_result"
    }
   ],
   "source": [
    "logreg.predict_proba(X_test_res)"
   ]
  },
  {
   "cell_type": "markdown",
   "metadata": {},
   "source": [
    "- <i>Generated five sample predictions for input values of my choose</i>"
   ]
  },
  {
   "cell_type": "code",
   "execution_count": 198,
   "metadata": {},
   "outputs": [
    {
     "data": {
      "text/html": [
       "<div>\n",
       "<style scoped>\n",
       "    .dataframe tbody tr th:only-of-type {\n",
       "        vertical-align: middle;\n",
       "    }\n",
       "\n",
       "    .dataframe tbody tr th {\n",
       "        vertical-align: top;\n",
       "    }\n",
       "\n",
       "    .dataframe thead th {\n",
       "        text-align: right;\n",
       "    }\n",
       "</style>\n",
       "<table border=\"1\" class=\"dataframe\">\n",
       "  <thead>\n",
       "    <tr style=\"text-align: right;\">\n",
       "      <th></th>\n",
       "      <th>row</th>\n",
       "      <th>salary_usd</th>\n",
       "      <th>is_married</th>\n",
       "      <th>is_college</th>\n",
       "      <th>is_professional</th>\n",
       "      <th>is_senior</th>\n",
       "      <th>is_employed</th>\n",
       "      <th>is_single_income</th>\n",
       "      <th>is_renter</th>\n",
       "      <th>lives_in_house</th>\n",
       "      <th>is_english_primary_language</th>\n",
       "      <th>Prediction</th>\n",
       "    </tr>\n",
       "  </thead>\n",
       "  <tbody>\n",
       "    <tr>\n",
       "      <td>0</td>\n",
       "      <td>93</td>\n",
       "      <td>7000</td>\n",
       "      <td>0</td>\n",
       "      <td>0</td>\n",
       "      <td>0</td>\n",
       "      <td>0</td>\n",
       "      <td>1</td>\n",
       "      <td>1</td>\n",
       "      <td>1</td>\n",
       "      <td>0</td>\n",
       "      <td>1</td>\n",
       "      <td>0</td>\n",
       "    </tr>\n",
       "    <tr>\n",
       "      <td>1</td>\n",
       "      <td>672</td>\n",
       "      <td>124000</td>\n",
       "      <td>1</td>\n",
       "      <td>1</td>\n",
       "      <td>1</td>\n",
       "      <td>0</td>\n",
       "      <td>1</td>\n",
       "      <td>1</td>\n",
       "      <td>1</td>\n",
       "      <td>1</td>\n",
       "      <td>0</td>\n",
       "      <td>1</td>\n",
       "    </tr>\n",
       "    <tr>\n",
       "      <td>2</td>\n",
       "      <td>463</td>\n",
       "      <td>84000</td>\n",
       "      <td>0</td>\n",
       "      <td>0</td>\n",
       "      <td>1</td>\n",
       "      <td>1</td>\n",
       "      <td>0</td>\n",
       "      <td>0</td>\n",
       "      <td>0</td>\n",
       "      <td>1</td>\n",
       "      <td>0</td>\n",
       "      <td>0</td>\n",
       "    </tr>\n",
       "    <tr>\n",
       "      <td>3</td>\n",
       "      <td>546</td>\n",
       "      <td>25000</td>\n",
       "      <td>1</td>\n",
       "      <td>1</td>\n",
       "      <td>1</td>\n",
       "      <td>1</td>\n",
       "      <td>0</td>\n",
       "      <td>1</td>\n",
       "      <td>1</td>\n",
       "      <td>1</td>\n",
       "      <td>1</td>\n",
       "      <td>0</td>\n",
       "    </tr>\n",
       "    <tr>\n",
       "      <td>4</td>\n",
       "      <td>672</td>\n",
       "      <td>124000</td>\n",
       "      <td>0</td>\n",
       "      <td>1</td>\n",
       "      <td>1</td>\n",
       "      <td>0</td>\n",
       "      <td>1</td>\n",
       "      <td>1</td>\n",
       "      <td>1</td>\n",
       "      <td>1</td>\n",
       "      <td>1</td>\n",
       "      <td>1</td>\n",
       "    </tr>\n",
       "  </tbody>\n",
       "</table>\n",
       "</div>"
      ],
      "text/plain": [
       "   row  salary_usd  is_married  is_college  is_professional  is_senior  \\\n",
       "0   93        7000           0           0                0          0   \n",
       "1  672      124000           1           1                1          0   \n",
       "2  463       84000           0           0                1          1   \n",
       "3  546       25000           1           1                1          1   \n",
       "4  672      124000           0           1                1          0   \n",
       "\n",
       "   is_employed  is_single_income  is_renter  lives_in_house  \\\n",
       "0            1                 1          1               0   \n",
       "1            1                 1          1               1   \n",
       "2            0                 0          0               1   \n",
       "3            0                 1          1               1   \n",
       "4            1                 1          1               1   \n",
       "\n",
       "   is_english_primary_language  Prediction  \n",
       "0                            1           0  \n",
       "1                            0           1  \n",
       "2                            0           0  \n",
       "3                            1           0  \n",
       "4                            1           1  "
      ]
     },
     "execution_count": 198,
     "metadata": {},
     "output_type": "execute_result"
    }
   ],
   "source": [
    "#Now, let's use the model to predict funeral plot purchases for arbitray values\n",
    "arbitrary_values1 = pd.DataFrame(data = {'row':[93,672,463,546,672]})\n",
    "arbitrary_values2 = pd.DataFrame(data = {'salary_usd': [7000,124000,84000,25000,124000]})\n",
    "arbitrary_values3 = pd.DataFrame(data = {'is_married':[0,1,0,1,0]})\n",
    "arbitrary_values4 = pd.DataFrame(data = {'is_college':[0,1,0,1,1]})\n",
    "arbitrary_values5 = pd.DataFrame(data = {'is_professional': [0,1,1,1,1]})\n",
    "arbitrary_values6 = pd.DataFrame(data = {'is_senior':[0,0,1,1,0]})\n",
    "arbitrary_values7 = pd.DataFrame(data = {'is_employed':[1,1,0,0,1]})\n",
    "arbitrary_values8 = pd.DataFrame(data = {'is_single_income': [1,1,0,1,1]})\n",
    "arbitrary_values9 = pd.DataFrame(data = {'is_renter':[1,1,0,1,1]})\n",
    "arbitrary_values10 = pd.DataFrame(data = {'lives_in_house':[0,1,1,1,1]})\n",
    "arbitrary_values11 = pd.DataFrame(data = {'is_english_primary_language':[1,0,0,1,1]})\n",
    "\n",
    "\n",
    "arbitrary_values_merged = arbitrary_values1.join(arbitrary_values2).join(arbitrary_values3).join(arbitrary_values4).join(arbitrary_values5).join(arbitrary_values6).join(arbitrary_values7).join(arbitrary_values8).join(arbitrary_values9).join(arbitrary_values10).join(arbitrary_values11).set_index([pd.Index(arbitrary_values1.index)])\n",
    "arbitrary_values_merged\n",
    "\n",
    "final_df = arbitrary_values_merged.join(pd.DataFrame(logreg.predict(arbitrary_values_merged), columns = {'Prediction'}).set_index([pd.Index(arbitrary_values_merged.index)]))\n",
    "final_df"
   ]
  },
  {
   "cell_type": "markdown",
   "metadata": {},
   "source": [
    "<h1>Observation</h1>"
   ]
  },
  {
   "cell_type": "markdown",
   "metadata": {},
   "source": [
    "<p>=> Above table contains sample data and predicted transactiuon values for different features. </p>\n",
    "<p>=> It is apparent that prople with more salary with single income are also tend to buy Disney subscription</p>\n",
    "<p>=> On the other hand, people with lower income and who are renting are not buying Disney subscription . </p>"
   ]
  },
  {
   "cell_type": "markdown",
   "metadata": {},
   "source": [
    "<h4>Summary of model performance:</h4>"
   ]
  },
  {
   "cell_type": "markdown",
   "metadata": {},
   "source": [
    "<p>=> Accuracy of logistic regression classifier on test set: <b>0.82</b></p>\n",
    "<p>=> Cross validation score : <b>0.8094017094017094</b></p>\n",
    "<p>=> Macro avg:  \n",
    "\n",
    "<ul>  \n",
    "    <li>precision 0.86 </li> \n",
    "    <li>recall    0.82 </li>  \n",
    "    <li>f1-score   0.82 </li>\n",
    "    <li>support    262 </li>\n",
    "</ul>\n",
    "<p>=> Confussion Matrix : <b>{[ 85  46]</b>\n",
    " <b>[  1 130]}</b></p>\n",
    "<p>=> ROC score is: <b>0.8206</b></p>\n",
    "<p>=> AUC: <b>0.8206</b></p>"
   ]
  },
  {
   "cell_type": "markdown",
   "metadata": {},
   "source": [
    "<h1>Reference</h1>\n",
    "<p>[1]https://www.kaggle.com/lakshmi25npathi/santander-customer-transaction-prediction-python</p>"
   ]
  },
  {
   "cell_type": "code",
   "execution_count": null,
   "metadata": {},
   "outputs": [],
   "source": []
  }
 ],
 "metadata": {
  "kernelspec": {
   "display_name": "Python 3",
   "language": "python",
   "name": "python3"
  },
  "language_info": {
   "codemirror_mode": {
    "name": "ipython",
    "version": 3
   },
   "file_extension": ".py",
   "mimetype": "text/x-python",
   "name": "python",
   "nbconvert_exporter": "python",
   "pygments_lexer": "ipython3",
   "version": "3.7.4"
  }
 },
 "nbformat": 4,
 "nbformat_minor": 2
}
