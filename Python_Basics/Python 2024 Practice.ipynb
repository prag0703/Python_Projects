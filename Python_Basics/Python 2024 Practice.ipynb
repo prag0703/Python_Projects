{
 "cells": [
  {
   "cell_type": "code",
   "execution_count": 1,
   "id": "8b6787ba",
   "metadata": {},
   "outputs": [
    {
     "data": {
      "text/plain": [
       "10"
      ]
     },
     "execution_count": 1,
     "metadata": {},
     "output_type": "execute_result"
    }
   ],
   "source": [
    "5+5"
   ]
  },
  {
   "cell_type": "code",
   "execution_count": 2,
   "id": "8fe690e5",
   "metadata": {},
   "outputs": [
    {
     "data": {
      "text/plain": [
       "0"
      ]
     },
     "execution_count": 2,
     "metadata": {},
     "output_type": "execute_result"
    }
   ],
   "source": [
    "5-5\n"
   ]
  },
  {
   "cell_type": "code",
   "execution_count": 1,
   "id": "de3382dd",
   "metadata": {},
   "outputs": [],
   "source": [
    "sales = [150, 200, 170, 180, 190, 210, 160]"
   ]
  },
  {
   "cell_type": "code",
   "execution_count": 2,
   "id": "c8db4daa",
   "metadata": {},
   "outputs": [
    {
     "data": {
      "text/plain": [
       "[150, 200, 170, 180, 190, 210, 160]"
      ]
     },
     "execution_count": 2,
     "metadata": {},
     "output_type": "execute_result"
    }
   ],
   "source": [
    "sales"
   ]
  },
  {
   "cell_type": "code",
   "execution_count": 3,
   "id": "2624c061",
   "metadata": {},
   "outputs": [
    {
     "data": {
      "text/plain": [
       "list"
      ]
     },
     "execution_count": 3,
     "metadata": {},
     "output_type": "execute_result"
    }
   ],
   "source": [
    "type(sales)"
   ]
  },
  {
   "cell_type": "code",
   "execution_count": null,
   "id": "4acd5310-521c-402a-83bc-efc305d4fce3",
   "metadata": {},
   "outputs": [],
   "source": []
  },
  {
   "cell_type": "code",
   "execution_count": 6,
   "id": "21f9969c",
   "metadata": {},
   "outputs": [
    {
     "name": "stdout",
     "output_type": "stream",
     "text": [
      "180.0\n"
     ]
    }
   ],
   "source": [
    "def avg_sales(sales):\n",
    "    if len(sales)==0:\n",
    "        return 0\n",
    "    return round(sum(sales)/len(sales), 2)\n",
    "\n",
    "print(avg_sales(sales))"
   ]
  },
  {
   "cell_type": "code",
   "execution_count": 18,
   "id": "645675dd",
   "metadata": {},
   "outputs": [],
   "source": [
    "# get the floating value \n",
    "\n",
    "average = avg_sales(sales)"
   ]
  },
  {
   "cell_type": "code",
   "execution_count": 20,
   "id": "53c2b708",
   "metadata": {},
   "outputs": [
    {
     "name": "stdout",
     "output_type": "stream",
     "text": [
      "180.00\n"
     ]
    }
   ],
   "source": [
    "print(f\"{average:.2f}\")"
   ]
  },
  {
   "cell_type": "code",
   "execution_count": 15,
   "id": "9581bbd3",
   "metadata": {},
   "outputs": [],
   "source": [
    "fruits = ['apple','banana','orange','watermelon','mango']"
   ]
  },
  {
   "cell_type": "code",
   "execution_count": 17,
   "id": "d50be233",
   "metadata": {},
   "outputs": [
    {
     "name": "stdout",
     "output_type": "stream",
     "text": [
      "Fruits: ['apple', 'banana', 'orange', 'watermelon', 'mango']\n"
     ]
    }
   ],
   "source": [
    "print(\"Fruits:\",fruits)"
   ]
  },
  {
   "cell_type": "code",
   "execution_count": 18,
   "id": "5891155e",
   "metadata": {},
   "outputs": [
    {
     "name": "stdout",
     "output_type": "stream",
     "text": [
      "['apple']\n",
      "['banana']\n",
      "['orange']\n",
      "['watermelon']\n",
      "['mango']\n"
     ]
    }
   ],
   "source": [
    "for i in fruits:\n",
    "       print([i])"
   ]
  },
  {
   "cell_type": "code",
   "execution_count": 22,
   "id": "4988e19f",
   "metadata": {},
   "outputs": [
    {
     "name": "stdout",
     "output_type": "stream",
     "text": [
      "['apple']\n",
      "['banana']\n",
      "['orange']\n",
      "['watermelon']\n",
      "['mango']\n"
     ]
    }
   ],
   "source": [
    "for i in fruits:\n",
    "    i.upper()\n",
    "    print([i])"
   ]
  },
  {
   "cell_type": "code",
   "execution_count": 26,
   "id": "54504c78",
   "metadata": {},
   "outputs": [
    {
     "name": "stdout",
     "output_type": "stream",
     "text": [
      "APPLE\n",
      "BANANA\n",
      "ORANGE\n",
      "WATERMELON\n",
      "MANGO\n"
     ]
    }
   ],
   "source": [
    "for i in fruits:\n",
    "    print(i.upper())"
   ]
  },
  {
   "cell_type": "code",
   "execution_count": 27,
   "id": "a9af0ffb",
   "metadata": {},
   "outputs": [
    {
     "name": "stdout",
     "output_type": "stream",
     "text": [
      "apple\n",
      "banana\n",
      "orange\n",
      "watermelon\n",
      "mango\n"
     ]
    }
   ],
   "source": [
    "for item in fruits:\n",
    "    print(item.lower())"
   ]
  },
  {
   "cell_type": "code",
   "execution_count": 34,
   "id": "eec92933",
   "metadata": {},
   "outputs": [
    {
     "data": {
      "text/plain": [
       "'mango'"
      ]
     },
     "execution_count": 34,
     "metadata": {},
     "output_type": "execute_result"
    }
   ],
   "source": [
    "fruits[-1]"
   ]
  },
  {
   "cell_type": "code",
   "execution_count": 43,
   "id": "1f21ed77",
   "metadata": {},
   "outputs": [
    {
     "name": "stdout",
     "output_type": "stream",
     "text": [
      "word: apple, lastChar: e\n",
      "appleLove\n",
      "word: banana, lastChar: a\n",
      "bananaLove\n",
      "word: orange, lastChar: e\n",
      "orangeLove\n",
      "word: watermelon, lastChar: n\n",
      "watermelonLove\n",
      "word: mango, lastChar: o\n",
      "mangoLove\n"
     ]
    }
   ],
   "source": [
    "for item in fruits:\n",
    "    lastChar = item[-1]\n",
    "    print(\"word: {}, lastChar: {}\".format(item, lastChar))\n",
    "    print(item + 'Love')"
   ]
  },
  {
   "cell_type": "code",
   "execution_count": 50,
   "id": "871ce3ff",
   "metadata": {},
   "outputs": [
    {
     "name": "stdout",
     "output_type": "stream",
     "text": [
      "apple Love\n",
      "banana\n",
      "orange Love\n",
      "watermelon\n",
      "mango\n"
     ]
    }
   ],
   "source": [
    "for item in fruits:\n",
    "    lastchar = item[-1]\n",
    "    if  lastchar == 'e':\n",
    "        print(\"{} Love\".format(item))\n",
    "    else:\n",
    "        print(item)"
   ]
  },
  {
   "cell_type": "code",
   "execution_count": 32,
   "id": "bec077a2",
   "metadata": {},
   "outputs": [],
   "source": [
    "years = [\n",
    "    \"2018-2022\",#yes\n",
    "    \"2019-2022\",#yes\n",
    "    \"2021-2023\",#still in school\n",
    "    \"2018-2022\",#yes\n",
    "    \"2021-2023\",#still in school\n",
    "    \"2016-2021\",#yes\n",
    "    \"2017-2019\" #no\n",
    "    \n",
    "]"
   ]
  },
  {
   "cell_type": "code",
   "execution_count": 33,
   "id": "f2058f2b",
   "metadata": {},
   "outputs": [
    {
     "data": {
      "text/plain": [
       "['2018-2022',\n",
       " '2019-2022',\n",
       " '2021-2023',\n",
       " '2018-2022',\n",
       " '2021-2023',\n",
       " '2016-2021',\n",
       " '2017-2019']"
      ]
     },
     "execution_count": 33,
     "metadata": {},
     "output_type": "execute_result"
    }
   ],
   "source": [
    "years"
   ]
  },
  {
   "cell_type": "code",
   "execution_count": 43,
   "id": "0c869ee2-3ad4-40e2-ae75-9aab8288aedf",
   "metadata": {},
   "outputs": [
    {
     "name": "stdout",
     "output_type": "stream",
     "text": [
      "2018-2022 - Yes\n",
      "2019-2022 - Yes\n",
      "2021-2023 - No\n",
      "2018-2022 - Yes\n",
      "2021-2023 - No\n",
      "2016-2021 - Yes\n",
      "2017-2019 - Still in school\n"
     ]
    }
   ],
   "source": [
    "for item in years:\n",
    "    end_year = item[-4:9]\n",
    "    if end_year == '2022' or end_year == '2021':\n",
    "        print(\"{} - Yes\".format(item))\n",
    "    elif end_year <= '2021':\n",
    "        print(\"{} - Still in school\".format(item))\n",
    "    else:\n",
    "        print(\"{} - No\".format(item))"
   ]
  },
  {
   "cell_type": "code",
   "execution_count": null,
   "id": "cc2e464a-144f-4b84-88a8-cf0bf81b0184",
   "metadata": {},
   "outputs": [],
   "source": []
  },
  {
   "cell_type": "code",
   "execution_count": 55,
   "id": "2320fea0",
   "metadata": {},
   "outputs": [
    {
     "data": {
      "text/plain": [
       "list"
      ]
     },
     "execution_count": 55,
     "metadata": {},
     "output_type": "execute_result"
    }
   ],
   "source": [
    "type(years)"
   ]
  },
  {
   "cell_type": "code",
   "execution_count": 82,
   "id": "e55f76f5",
   "metadata": {},
   "outputs": [],
   "source": [
    "data = {\n",
    "    'Column1': [1, 2, None, 4, 5],\n",
    "    'Column2': [None, 6, 7, None, 9],\n",
    "    'Column3': [10, 11, 12, 13, 14]\n",
    "}"
   ]
  },
  {
   "cell_type": "code",
   "execution_count": 83,
   "id": "d40e751f",
   "metadata": {},
   "outputs": [
    {
     "data": {
      "text/plain": [
       "{'Column1': [1, 2, None, 4, 5],\n",
       " 'Column2': [None, 6, 7, None, 9],\n",
       " 'Column3': [10, 11, 12, 13, 14]}"
      ]
     },
     "execution_count": 83,
     "metadata": {},
     "output_type": "execute_result"
    }
   ],
   "source": [
    "data"
   ]
  },
  {
   "cell_type": "code",
   "execution_count": 126,
   "id": "10bc65e2",
   "metadata": {},
   "outputs": [
    {
     "name": "stdout",
     "output_type": "stream",
     "text": [
      "coming here\n",
      "type: 5, count: 1\n",
      "coming here\n",
      "coming here\n",
      "type: 9, count: 2\n"
     ]
    }
   ],
   "source": [
    "for key,value in data.items():\n",
    "    count = 0\n",
    "    for v in value:\n",
    "        if v is None:\n",
    "            print(\"coming here\")\n",
    "            count = count + 1\n",
    "    if count > 0:\n",
    "        print(\"type: {}, count: {}\".format(v, count))\n",
    "        \n",
    "   # print(key, value)"
   ]
  },
  {
   "cell_type": "code",
   "execution_count": 132,
   "id": "ff5dc1a3",
   "metadata": {},
   "outputs": [
    {
     "name": "stdout",
     "output_type": "stream",
     "text": [
      "Total empty value is 3\n"
     ]
    }
   ],
   "source": [
    "count = 0\n",
    "for key,value in data.items():\n",
    "    for empty in value:\n",
    "           if empty is None:\n",
    "            count = count + 1\n",
    "print(\"Total empty value is {}\".format(count))"
   ]
  },
  {
   "cell_type": "code",
   "execution_count": 133,
   "id": "dae3c018",
   "metadata": {},
   "outputs": [
    {
     "data": {
      "text/plain": [
       "{'Column1': [1, 2, None, 4, 5],\n",
       " 'Column2': [None, 6, 7, None, 9],\n",
       " 'Column3': [10, 11, 12, 13, 14]}"
      ]
     },
     "execution_count": 133,
     "metadata": {},
     "output_type": "execute_result"
    }
   ],
   "source": [
    "data"
   ]
  },
  {
   "cell_type": "code",
   "execution_count": 135,
   "id": "d71c7e8e",
   "metadata": {},
   "outputs": [
    {
     "name": "stdout",
     "output_type": "stream",
     "text": [
      "Column1 5\n",
      "Column2 5\n",
      "Column3 5\n"
     ]
    }
   ],
   "source": [
    "for key,value in data.items():\n",
    "    count = 0\n",
    "    for v in value:\n",
    "        count = count + 1\n",
    "    print(key,count)"
   ]
  },
  {
   "cell_type": "code",
   "execution_count": 80,
   "id": "9021ac33",
   "metadata": {},
   "outputs": [
    {
     "name": "stdout",
     "output_type": "stream",
     "text": [
      "2018-2022 Yes\n",
      "2019-2022 Yes\n",
      "2021-2023 Still in School\n",
      "2018-2022 Yes\n",
      "2021-2023 Still in School\n",
      "2016-2021 Yes\n",
      "2017-2019 No\n"
     ]
    }
   ],
   "source": [
    "for item in years:\n",
    "    year_end = item[-4:9]\n",
    "    if year_end == '2022' or year_end == '2021':\n",
    "        print(\"{} Yes\".format(item))\n",
    "    elif year_end >= '2023':\n",
    "        print(\"{} Still in School\".format(item))\n",
    "    else:\n",
    "        print(\"{} No\".format(item))"
   ]
  },
  {
   "cell_type": "code",
   "execution_count": 179,
   "id": "004a9956",
   "metadata": {},
   "outputs": [],
   "source": [
    "import pandas as pd\n",
    "\n",
    "cat = {\n",
    "    'Category': ['A', 'B', 'A', 'B', 'A', 'B'],\n",
    "    'Values': [10, 20, 30, 40, 50, 60]\n",
    "}\n",
    "\n",
    "data = pd.DataFrame(cat)\n",
    "\n",
    "grouped_data = data.groupby('Category')['Values'].sum()\n",
    "\n",
    "sorted_data = grouped_data.sort_values(ascending= False)"
   ]
  },
  {
   "cell_type": "code",
   "execution_count": 180,
   "id": "113c74b1",
   "metadata": {},
   "outputs": [
    {
     "data": {
      "text/plain": [
       "Category\n",
       "B    120\n",
       "A     90\n",
       "Name: Values, dtype: int64"
      ]
     },
     "execution_count": 180,
     "metadata": {},
     "output_type": "execute_result"
    }
   ],
   "source": [
    "sorted_data"
   ]
  },
  {
   "cell_type": "markdown",
   "id": "fdb280e6",
   "metadata": {},
   "source": [
    "Notes: \n",
    "\n",
    "The reason the result shows Category as the \"column name\" rather than the actual values next to it is because of how Pandas handles the output of groupby() and sum() operations. Specifically:\n",
    "\n",
    "Index vs. Column: When you perform a groupby() operation in Pandas, the grouped column (in this case, Category) becomes the index of the resulting Series or DataFrame, not a regular column. The Values are then aggregated based on this index.\n",
    "Here’s a breakdown of why this happens:\n",
    "\n",
    "The GroupBy Process:\n",
    "Grouping by Category:\n",
    "\n",
    "The Category column becomes the index of the resulting Series after performing the groupby() operation.\n",
    "Summing Values:\n",
    "\n",
    "The sum() function aggregates the Values for each Category. The result is a Series where the index is Category, and the aggregated values are displayed next to it.\n",
    "\n",
    "\n",
    "Category as Index: In the output, Category is not a column name \n",
    "but the index of the Series. The index labels each row, and the aggregated Values \n",
    "are displayed beside each index entry.\n",
    "\n",
    "\n",
    "If you want to explicitly see Category as a column rather than an index, you can reset the index of the Series:\n",
    "\n"
   ]
  },
  {
   "cell_type": "code",
   "execution_count": 181,
   "id": "219291b8",
   "metadata": {},
   "outputs": [],
   "source": [
    "sorted_data = sorted_data.reset_index()"
   ]
  },
  {
   "cell_type": "code",
   "execution_count": 182,
   "id": "9ce0ec37",
   "metadata": {},
   "outputs": [
    {
     "data": {
      "text/html": [
       "<div>\n",
       "<style scoped>\n",
       "    .dataframe tbody tr th:only-of-type {\n",
       "        vertical-align: middle;\n",
       "    }\n",
       "\n",
       "    .dataframe tbody tr th {\n",
       "        vertical-align: top;\n",
       "    }\n",
       "\n",
       "    .dataframe thead th {\n",
       "        text-align: right;\n",
       "    }\n",
       "</style>\n",
       "<table border=\"1\" class=\"dataframe\">\n",
       "  <thead>\n",
       "    <tr style=\"text-align: right;\">\n",
       "      <th></th>\n",
       "      <th>Category</th>\n",
       "      <th>Values</th>\n",
       "    </tr>\n",
       "  </thead>\n",
       "  <tbody>\n",
       "    <tr>\n",
       "      <th>0</th>\n",
       "      <td>B</td>\n",
       "      <td>120</td>\n",
       "    </tr>\n",
       "    <tr>\n",
       "      <th>1</th>\n",
       "      <td>A</td>\n",
       "      <td>90</td>\n",
       "    </tr>\n",
       "  </tbody>\n",
       "</table>\n",
       "</div>"
      ],
      "text/plain": [
       "  Category  Values\n",
       "0        B     120\n",
       "1        A      90"
      ]
     },
     "execution_count": 182,
     "metadata": {},
     "output_type": "execute_result"
    }
   ],
   "source": [
    "sorted_data"
   ]
  },
  {
   "cell_type": "markdown",
   "id": "a4d99be0",
   "metadata": {},
   "source": [
    "Interview prep "
   ]
  },
  {
   "cell_type": "code",
   "execution_count": 183,
   "id": "408a52b3",
   "metadata": {},
   "outputs": [],
   "source": [
    "lst = [2, 33, 222, 14, 25]"
   ]
  },
  {
   "cell_type": "code",
   "execution_count": 184,
   "id": "f0ac2255",
   "metadata": {},
   "outputs": [
    {
     "data": {
      "text/plain": [
       "[2, 33, 222, 14, 25]"
      ]
     },
     "execution_count": 184,
     "metadata": {},
     "output_type": "execute_result"
    }
   ],
   "source": [
    "lst"
   ]
  },
  {
   "cell_type": "code",
   "execution_count": 187,
   "id": "a4a49425",
   "metadata": {},
   "outputs": [
    {
     "name": "stdout",
     "output_type": "stream",
     "text": [
      "1\n",
      "32\n",
      "221\n",
      "13\n",
      "24\n"
     ]
    }
   ],
   "source": [
    "for item in lst:\n",
    "    X = item - 1\n",
    "    print(X)"
   ]
  },
  {
   "cell_type": "code",
   "execution_count": 193,
   "id": "c1f5b926",
   "metadata": {},
   "outputs": [
    {
     "name": "stdout",
     "output_type": "stream",
     "text": [
      "1 is odd\n",
      "3 is odd\n",
      "5 is odd\n",
      "7 is odd\n",
      "9 is odd\n",
      "11 is odd\n",
      "13 is odd\n",
      "15 is odd\n",
      "17 is odd\n",
      "19 is odd\n",
      "21 is odd\n",
      "23 is odd\n",
      "25 is odd\n",
      "27 is odd\n",
      "29 is odd\n",
      "31 is odd\n",
      "33 is odd\n",
      "35 is odd\n",
      "37 is odd\n",
      "39 is odd\n",
      "41 is odd\n",
      "43 is odd\n",
      "45 is odd\n",
      "47 is odd\n",
      "49 is odd\n",
      "51 is odd\n",
      "53 is odd\n",
      "55 is odd\n",
      "57 is odd\n",
      "59 is odd\n",
      "61 is odd\n",
      "63 is odd\n",
      "65 is odd\n",
      "67 is odd\n",
      "69 is odd\n",
      "71 is odd\n",
      "73 is odd\n",
      "75 is odd\n",
      "77 is odd\n",
      "79 is odd\n",
      "81 is odd\n",
      "83 is odd\n",
      "85 is odd\n",
      "87 is odd\n",
      "89 is odd\n",
      "91 is odd\n",
      "93 is odd\n",
      "95 is odd\n",
      "97 is odd\n",
      "99 is odd\n"
     ]
    }
   ],
   "source": [
    "for x in range (101):\n",
    "        if x % 2 != 0:\n",
    "            print(\"{} is odd\".format(x))"
   ]
  },
  {
   "cell_type": "code",
   "execution_count": 196,
   "id": "70e39b96",
   "metadata": {},
   "outputs": [],
   "source": [
    "# unique list \n",
    "lst = [ 1, 2, 3, 6 , 7, 3, 5, 2, 7] "
   ]
  },
  {
   "cell_type": "code",
   "execution_count": 200,
   "id": "410980b4",
   "metadata": {},
   "outputs": [
    {
     "data": {
      "text/plain": [
       "[1, 2, 3, 5, 6, 7]"
      ]
     },
     "execution_count": 200,
     "metadata": {},
     "output_type": "execute_result"
    }
   ],
   "source": [
    "unique_values = list(set(lst))\n",
    "unique_values"
   ]
  },
  {
   "cell_type": "code",
   "execution_count": null,
   "id": "d3e9c78f",
   "metadata": {},
   "outputs": [],
   "source": []
  }
 ],
 "metadata": {
  "kernelspec": {
   "display_name": "Python 3 (ipykernel)",
   "language": "python",
   "name": "python3"
  },
  "language_info": {
   "codemirror_mode": {
    "name": "ipython",
    "version": 3
   },
   "file_extension": ".py",
   "mimetype": "text/x-python",
   "name": "python",
   "nbconvert_exporter": "python",
   "pygments_lexer": "ipython3",
   "version": "3.10.14"
  }
 },
 "nbformat": 4,
 "nbformat_minor": 5
}
