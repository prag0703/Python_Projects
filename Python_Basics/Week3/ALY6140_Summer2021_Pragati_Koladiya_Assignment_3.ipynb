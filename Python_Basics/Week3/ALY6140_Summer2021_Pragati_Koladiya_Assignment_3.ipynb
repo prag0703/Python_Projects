{
  "nbformat": 4,
  "nbformat_minor": 0,
  "metadata": {
    "kernelspec": {
      "display_name": "Python 3",
      "language": "python",
      "name": "python3"
    },
    "language_info": {
      "codemirror_mode": {
        "name": "ipython",
        "version": 3
      },
      "file_extension": ".py",
      "mimetype": "text/x-python",
      "name": "python",
      "nbconvert_exporter": "python",
      "pygments_lexer": "ipython3",
      "version": "3.8.8"
    },
    "colab": {
      "name": "ALY6140_Summer2021_Pragati_Koladiya_Assignment_3.ipynb",
      "provenance": [],
      "collapsed_sections": []
    }
  },
  "cells": [
    {
      "cell_type": "markdown",
      "metadata": {
        "id": "DZPtYPFm9N8O"
      },
      "source": [
        "### <h2>ALY6140_Summer2021_Pragati_Koladiya_Assignment_3</h2>\n",
        "\n",
        "<p> <b>Week: </b>3</p>\n",
        "<p> <b>Tittle:</b> Assignment 3 </p>\n",
        "\n",
        "Copyright (c) 2021\n",
        "<p> <b>Written By:</b> Pragati Koladiya </p> "
      ]
    },
    {
      "cell_type": "markdown",
      "metadata": {
        "id": "0dtMp6wltHtP"
      },
      "source": [
        "## Import Libraries"
      ]
    },
    {
      "cell_type": "code",
      "metadata": {
        "collapsed": true,
        "id": "hcWGX3c29N8P"
      },
      "source": [
        "#Import necessary libraries\n",
        "import pandas as pd\n",
        "import numpy as np"
      ],
      "execution_count": 1,
      "outputs": []
    },
    {
      "cell_type": "code",
      "metadata": {
        "id": "5oI9dWx7NfCP"
      },
      "source": [
        "arr = np.arange(24).reshape(4, 6)"
      ],
      "execution_count": 2,
      "outputs": []
    },
    {
      "cell_type": "markdown",
      "metadata": {
        "id": "nl6EVkaCsjLS"
      },
      "source": [
        "## (a) Determine the shape, number of dimensions and type of elements in the numpy array arr"
      ]
    },
    {
      "cell_type": "code",
      "metadata": {
        "colab": {
          "base_uri": "https://localhost:8080/"
        },
        "id": "2KMNvbZXrmCf",
        "outputId": "d68ac024-7370-402b-af78-135502437ace"
      },
      "source": [
        "### GRADED\n",
        "\n",
        "print(\"\\nView Array data : \",arr)\n",
        "print(\"\\nDetermine the shape : \",arr.shape)\n",
        "print(\"\\nNumber of dimensions : \",arr.ndim)\n",
        "print(\"\\nType of elements : \",type(arr.size))"
      ],
      "execution_count": 3,
      "outputs": [
        {
          "output_type": "stream",
          "text": [
            "\n",
            "View Array data :  [[ 0  1  2  3  4  5]\n",
            " [ 6  7  8  9 10 11]\n",
            " [12 13 14 15 16 17]\n",
            " [18 19 20 21 22 23]]\n",
            "\n",
            "Determine the shape :  (4, 6)\n",
            "\n",
            "Number of dimensions :  2\n",
            "\n",
            "Type of elements :  <class 'int'>\n"
          ],
          "name": "stdout"
        }
      ]
    },
    {
      "cell_type": "markdown",
      "metadata": {
        "id": "jEEwhRNXtM9u"
      },
      "source": [
        "- The array shape is 4 x 6 determined by using shape \n",
        "- Dimention is 2D determined by using function ndim\n",
        "- Type is integer determined by type() function"
      ]
    },
    {
      "cell_type": "markdown",
      "metadata": {
        "id": "7nsHe91b4NUT"
      },
      "source": [
        "## (b) Determine the sum of elements in arr"
      ]
    },
    {
      "cell_type": "code",
      "metadata": {
        "colab": {
          "base_uri": "https://localhost:8080/"
        },
        "id": "iUYClCF64PP_",
        "outputId": "e2ff08d9-8df0-47dd-9c46-8965a2e6e28b"
      },
      "source": [
        "### GRADED\n",
        "\n",
        "def arr_sum(arr): \n",
        "\n",
        "    sum=0\n",
        "    for i in arr:\n",
        "        sum = sum + i\n",
        "          \n",
        "    return(sum) \n",
        "\n",
        "\n",
        "ans = arr_sum(arr)\n",
        "\n",
        "print(\"\\nThe Array Value\")\n",
        "print(arr) \n",
        "print('=====================') \n",
        "print(\"Sum\",ans)"
      ],
      "execution_count": 4,
      "outputs": [
        {
          "output_type": "stream",
          "text": [
            "\n",
            "The Array Value\n",
            "[[ 0  1  2  3  4  5]\n",
            " [ 6  7  8  9 10 11]\n",
            " [12 13 14 15 16 17]\n",
            " [18 19 20 21 22 23]]\n",
            "=====================\n",
            "Sum [36 40 44 48 52 56]\n"
          ],
          "name": "stdout"
        }
      ]
    },
    {
      "cell_type": "markdown",
      "metadata": {
        "id": "J600kUh8tpNL"
      },
      "source": [
        "- Created function to calculate the sum of each element using for loop.\n",
        "- The sum is stored in the ans variable. "
      ]
    },
    {
      "cell_type": "markdown",
      "metadata": {
        "id": "b34vslRjyj2b"
      },
      "source": [
        "## Exploring Try Catch Block"
      ]
    },
    {
      "cell_type": "code",
      "metadata": {
        "id": "OtwPOweLyjHB"
      },
      "source": [
        "def division(a, b):\n",
        "  #the try statement\n",
        "  try:\n",
        "      print(a/b)\n",
        "  #except block to handel if the error occurs,by throwing zero division exception\n",
        "  except ZeroDivisionError:\n",
        "      print(\"Cannot divide by Zero\")\n",
        "  else:\n",
        "      print(\"No Error occured\")\n",
        "  finally:\n",
        "      print('Value of a', a, 'and b', b)"
      ],
      "execution_count": 33,
      "outputs": []
    },
    {
      "cell_type": "code",
      "metadata": {
        "colab": {
          "base_uri": "https://localhost:8080/"
        },
        "id": "rwWYXgoez7Ue",
        "outputId": "724f215f-16a3-401e-b363-953fb071196c"
      },
      "source": [
        "division(10,0)"
      ],
      "execution_count": 34,
      "outputs": [
        {
          "output_type": "stream",
          "text": [
            "Cannot divide by Zero\n",
            "Value of a 10 and b 0\n"
          ],
          "name": "stdout"
        }
      ]
    },
    {
      "cell_type": "code",
      "metadata": {
        "colab": {
          "base_uri": "https://localhost:8080/"
        },
        "id": "QpkDzvre0rfx",
        "outputId": "a6728d3d-ca43-4ec4-ea97-b9166ed17784"
      },
      "source": [
        "division(0,0)"
      ],
      "execution_count": 35,
      "outputs": [
        {
          "output_type": "stream",
          "text": [
            "Cannot divide by Zero\n",
            "Value of a 0 and b 0\n"
          ],
          "name": "stdout"
        }
      ]
    },
    {
      "cell_type": "code",
      "metadata": {
        "colab": {
          "base_uri": "https://localhost:8080/"
        },
        "id": "rQsxHLBh0uGd",
        "outputId": "ede28cc8-1ab8-46ab-f413-c9c15dee753e"
      },
      "source": [
        "division(0,5)"
      ],
      "execution_count": 36,
      "outputs": [
        {
          "output_type": "stream",
          "text": [
            "0.0\n",
            "No Error occured\n",
            "Value of a 0 and b 5\n"
          ],
          "name": "stdout"
        }
      ]
    },
    {
      "cell_type": "code",
      "metadata": {
        "colab": {
          "base_uri": "https://localhost:8080/"
        },
        "id": "WluVhFDr0xep",
        "outputId": "ba16bb2f-b91e-4619-93cb-c37931944bed"
      },
      "source": [
        "division(10,2)"
      ],
      "execution_count": 37,
      "outputs": [
        {
          "output_type": "stream",
          "text": [
            "5.0\n",
            "No Error occured\n",
            "Value of a 10 and b 2\n"
          ],
          "name": "stdout"
        }
      ]
    },
    {
      "cell_type": "code",
      "metadata": {
        "id": "lFQwiWWiz0_4"
      },
      "source": [
        "a = np.array([-1, 0, 1, 2, 3], dtype=float)\n",
        "b = np.array([ 0, 0, 0, 2, 2], dtype=float)"
      ],
      "execution_count": 38,
      "outputs": []
    },
    {
      "cell_type": "markdown",
      "metadata": {
        "id": "2YfFUAwb0cas"
      },
      "source": [
        "-> Trying to divide each array value1 with each associated array value2."
      ]
    },
    {
      "cell_type": "code",
      "metadata": {
        "colab": {
          "base_uri": "https://localhost:8080/"
        },
        "id": "F1NpEXll0Jep",
        "outputId": "e4939dd1-0b9e-4955-a0b2-015565e3cda7"
      },
      "source": [
        "c = np.divide(a, b, out=np.zeros_like(a), where=b!=0)\n",
        "print(c)"
      ],
      "execution_count": 39,
      "outputs": [
        {
          "output_type": "stream",
          "text": [
            "[0.  0.  0.  1.  1.5]\n"
          ],
          "name": "stdout"
        }
      ]
    },
    {
      "cell_type": "markdown",
      "metadata": {
        "id": "oMkCCrAu0Xq-"
      },
      "source": [
        "- it does the divide calculation anywhere 'where' b does not equal zero. When b does equal zero, then it remains unchanged from whatever value you originally gave it in the 'out' argument."
      ]
    },
    {
      "cell_type": "markdown",
      "metadata": {
        "id": "j2BWbs6q6wjp"
      },
      "source": [
        "## (c) Determine the mean of elements in arr"
      ]
    },
    {
      "cell_type": "code",
      "metadata": {
        "colab": {
          "base_uri": "https://localhost:8080/"
        },
        "id": "gDXQi6n86wy8",
        "outputId": "10230cf3-9b71-4222-a471-77d2b7de4b5f"
      },
      "source": [
        "### GRADED\n",
        "\n",
        "print(\"\\nThe Array Value\")\n",
        "print(arr) \n",
        "\n",
        "# mean of the flattened array \n",
        "print(\"\\nMean of Array, axis = None : \", np.mean(arr)) \n",
        "    \n",
        "# mean along the axis = 0 \n",
        "print(\"\\nMean of Array, axis = 0 : \", np.mean(arr, axis = 0)) \n",
        "   \n",
        "# mean along the axis = 1 \n",
        "print(\"\\nMean of Array, axis = 1 : \", np.mean(arr, axis = 1))\n"
      ],
      "execution_count": 5,
      "outputs": [
        {
          "output_type": "stream",
          "text": [
            "\n",
            "The Array Value\n",
            "[[ 0  1  2  3  4  5]\n",
            " [ 6  7  8  9 10 11]\n",
            " [12 13 14 15 16 17]\n",
            " [18 19 20 21 22 23]]\n",
            "\n",
            "Mean of Array, axis = None :  11.5\n",
            "\n",
            "Mean of Array, axis = 0 :  [ 9. 10. 11. 12. 13. 14.]\n",
            "\n",
            "Mean of Array, axis = 1 :  [ 2.5  8.5 14.5 20.5]\n"
          ],
          "name": "stdout"
        }
      ]
    },
    {
      "cell_type": "markdown",
      "metadata": {
        "id": "Jzo6bW_Ft3UT"
      },
      "source": [
        "- Above print staement shows the mean() along with the different axis values."
      ]
    },
    {
      "cell_type": "markdown",
      "metadata": {
        "id": "PHvH5NlG8l-0"
      },
      "source": [
        "## (d) Create an array of the same shape as arr but filled with zeros\n"
      ]
    },
    {
      "cell_type": "code",
      "metadata": {
        "colab": {
          "base_uri": "https://localhost:8080/"
        },
        "id": "jCRbmvrW8lae",
        "outputId": "c72e2f91-8edc-4e21-ab5a-c892e1a7aa18"
      },
      "source": [
        "### GRADED\n",
        "\n",
        "arr_zero = np.zeros( (4 ,6) , dtype=np.int64)\n",
        "print(arr_zero)"
      ],
      "execution_count": 6,
      "outputs": [
        {
          "output_type": "stream",
          "text": [
            "[[0 0 0 0 0 0]\n",
            " [0 0 0 0 0 0]\n",
            " [0 0 0 0 0 0]\n",
            " [0 0 0 0 0 0]]\n"
          ],
          "name": "stdout"
        }
      ]
    },
    {
      "cell_type": "markdown",
      "metadata": {
        "id": "SbB33LbVuJte"
      },
      "source": [
        "- To create empty or zero array, np.zeros() function is being used."
      ]
    },
    {
      "cell_type": "markdown",
      "metadata": {
        "id": "MXZQAFB38qzO"
      },
      "source": [
        "## (e) Create an array of the same shape as arr but filled with ones"
      ]
    },
    {
      "cell_type": "code",
      "metadata": {
        "colab": {
          "base_uri": "https://localhost:8080/"
        },
        "id": "Degd8Puu9fK3",
        "outputId": "382673e4-c689-4b7e-ebfb-f3141f27d7c0"
      },
      "source": [
        "### GRADED\n",
        "\n",
        "arr_one = np.ones( (4 ,6) , dtype=np.int64)\n",
        "print(arr_one)"
      ],
      "execution_count": 7,
      "outputs": [
        {
          "output_type": "stream",
          "text": [
            "[[1 1 1 1 1 1]\n",
            " [1 1 1 1 1 1]\n",
            " [1 1 1 1 1 1]\n",
            " [1 1 1 1 1 1]]\n"
          ],
          "name": "stdout"
        }
      ]
    },
    {
      "cell_type": "markdown",
      "metadata": {
        "id": "zxAVYSwmuV7c"
      },
      "source": [
        "- Created sample array filled with one by using np.ones()."
      ]
    },
    {
      "cell_type": "markdown",
      "metadata": {
        "id": "Y3bBWBHl8q_f"
      },
      "source": [
        "## (f) Create an array of the same shape as arr but where all elements are squared values"
      ]
    },
    {
      "cell_type": "code",
      "metadata": {
        "colab": {
          "base_uri": "https://localhost:8080/"
        },
        "id": "bZgU5xNi-Mkq",
        "outputId": "f0b9e273-a431-4918-eaa8-0a4ceaed819a"
      },
      "source": [
        "### GRADED\n",
        "\n",
        "arr_one *= 2\n",
        "print (\"Doubled each element of original array:\", arr_one)"
      ],
      "execution_count": 8,
      "outputs": [
        {
          "output_type": "stream",
          "text": [
            "Doubled each element of original array: [[2 2 2 2 2 2]\n",
            " [2 2 2 2 2 2]\n",
            " [2 2 2 2 2 2]\n",
            " [2 2 2 2 2 2]]\n"
          ],
          "name": "stdout"
        }
      ]
    },
    {
      "cell_type": "markdown",
      "metadata": {
        "id": "-RgQHWxWvqw6"
      },
      "source": [
        "- To double the array whole array needs to be raised by 2 or powered 2. As we can see 1 is being replced with 2. "
      ]
    },
    {
      "cell_type": "code",
      "metadata": {
        "colab": {
          "base_uri": "https://localhost:8080/"
        },
        "id": "dUleT0r1-Mn8",
        "outputId": "7d2de763-d70c-4196-8f79-d4a51d8cf9d8"
      },
      "source": [
        "### GRADED\n",
        "\n",
        "arr *= 2\n",
        "print (\"Doubled each element of original array:\", arr)"
      ],
      "execution_count": 9,
      "outputs": [
        {
          "output_type": "stream",
          "text": [
            "Doubled each element of original array: [[ 0  2  4  6  8 10]\n",
            " [12 14 16 18 20 22]\n",
            " [24 26 28 30 32 34]\n",
            " [36 38 40 42 44 46]]\n"
          ],
          "name": "stdout"
        }
      ]
    },
    {
      "cell_type": "markdown",
      "metadata": {
        "id": "61Q3-p3Jv8yV"
      },
      "source": [
        "- Here whole original array is being doubled."
      ]
    },
    {
      "cell_type": "markdown",
      "metadata": {
        "id": "h3JbUUWo8rM_"
      },
      "source": [
        "## (g) Create an array result of shape 4 by 4 resulting from multiplication of arr with transpose(arr). Hint: use np.dot\n"
      ]
    },
    {
      "cell_type": "code",
      "metadata": {
        "colab": {
          "base_uri": "https://localhost:8080/"
        },
        "id": "G0iqLHhP-vMT",
        "outputId": "e9e90d79-c6b6-4721-b024-6cfe2d0fd3a1"
      },
      "source": [
        "### GRADED\n",
        "\n",
        "print (\"\\nOriginal array:\\n\", arr)\n",
        "arr_trans = arr.T\n",
        "print (\"\\nTranspose of array:\\n\", arr_trans)"
      ],
      "execution_count": 10,
      "outputs": [
        {
          "output_type": "stream",
          "text": [
            "\n",
            "Original array:\n",
            " [[ 0  2  4  6  8 10]\n",
            " [12 14 16 18 20 22]\n",
            " [24 26 28 30 32 34]\n",
            " [36 38 40 42 44 46]]\n",
            "\n",
            "Transpose of array:\n",
            " [[ 0 12 24 36]\n",
            " [ 2 14 26 38]\n",
            " [ 4 16 28 40]\n",
            " [ 6 18 30 42]\n",
            " [ 8 20 32 44]\n",
            " [10 22 34 46]]\n"
          ],
          "name": "stdout"
        }
      ]
    },
    {
      "cell_type": "markdown",
      "metadata": {
        "id": "Ec7rGf2UwJsL"
      },
      "source": [
        "- To transpose the array arrayname.T is being used."
      ]
    },
    {
      "cell_type": "code",
      "metadata": {
        "colab": {
          "base_uri": "https://localhost:8080/"
        },
        "id": "slKDyQ_F_GrD",
        "outputId": "dfba3579-dbc2-4a0c-bfd0-3967c47affc3"
      },
      "source": [
        "### GRADED\n",
        "\n",
        "# matrix multiplication\n",
        "print (\"Matrix Multiplication \\n {Original Array(arr) X Transpose Array(arr_trans)}:\\n\\n\", arr.dot(arr_trans))"
      ],
      "execution_count": 11,
      "outputs": [
        {
          "output_type": "stream",
          "text": [
            "Matrix Multiplication \n",
            " {Original Array(arr) X Transpose Array(arr_trans)}:\n",
            "\n",
            " [[  220   580   940  1300]\n",
            " [  580  1804  3028  4252]\n",
            " [  940  3028  5116  7204]\n",
            " [ 1300  4252  7204 10156]]\n"
          ],
          "name": "stdout"
        }
      ]
    },
    {
      "cell_type": "markdown",
      "metadata": {
        "id": "35vy1Td2wQfR"
      },
      "source": [
        "- Once the array is transposed we need to use the function .dot() to do array matrix multiplication. "
      ]
    },
    {
      "cell_type": "markdown",
      "metadata": {
        "id": "5OmHFgn6ww_6"
      },
      "source": [
        "## Working with Pandas Dataframe."
      ]
    },
    {
      "cell_type": "code",
      "metadata": {
        "colab": {
          "base_uri": "https://localhost:8080/",
          "height": 359
        },
        "id": "NTloUg3b9N8Q",
        "outputId": "2e583d16-73ca-4bb5-a4d7-4e6ef02b3669"
      },
      "source": [
        "### GRADED\n",
        "# The following piece of code creates a DataFrame \n",
        "import pandas as pd\n",
        "df = pd.read_csv('https://raw.githubusercontent.com/mwaskom/seaborn-data/master/iris.csv')\n",
        "df.head(10) #prints the first 10 rows"
      ],
      "execution_count": 17,
      "outputs": [
        {
          "output_type": "execute_result",
          "data": {
            "text/html": [
              "<div>\n",
              "<style scoped>\n",
              "    .dataframe tbody tr th:only-of-type {\n",
              "        vertical-align: middle;\n",
              "    }\n",
              "\n",
              "    .dataframe tbody tr th {\n",
              "        vertical-align: top;\n",
              "    }\n",
              "\n",
              "    .dataframe thead th {\n",
              "        text-align: right;\n",
              "    }\n",
              "</style>\n",
              "<table border=\"1\" class=\"dataframe\">\n",
              "  <thead>\n",
              "    <tr style=\"text-align: right;\">\n",
              "      <th></th>\n",
              "      <th>sepal_length</th>\n",
              "      <th>sepal_width</th>\n",
              "      <th>petal_length</th>\n",
              "      <th>petal_width</th>\n",
              "      <th>species</th>\n",
              "    </tr>\n",
              "  </thead>\n",
              "  <tbody>\n",
              "    <tr>\n",
              "      <th>0</th>\n",
              "      <td>5.1</td>\n",
              "      <td>3.5</td>\n",
              "      <td>1.4</td>\n",
              "      <td>0.2</td>\n",
              "      <td>setosa</td>\n",
              "    </tr>\n",
              "    <tr>\n",
              "      <th>1</th>\n",
              "      <td>4.9</td>\n",
              "      <td>3.0</td>\n",
              "      <td>1.4</td>\n",
              "      <td>0.2</td>\n",
              "      <td>setosa</td>\n",
              "    </tr>\n",
              "    <tr>\n",
              "      <th>2</th>\n",
              "      <td>4.7</td>\n",
              "      <td>3.2</td>\n",
              "      <td>1.3</td>\n",
              "      <td>0.2</td>\n",
              "      <td>setosa</td>\n",
              "    </tr>\n",
              "    <tr>\n",
              "      <th>3</th>\n",
              "      <td>4.6</td>\n",
              "      <td>3.1</td>\n",
              "      <td>1.5</td>\n",
              "      <td>0.2</td>\n",
              "      <td>setosa</td>\n",
              "    </tr>\n",
              "    <tr>\n",
              "      <th>4</th>\n",
              "      <td>5.0</td>\n",
              "      <td>3.6</td>\n",
              "      <td>1.4</td>\n",
              "      <td>0.2</td>\n",
              "      <td>setosa</td>\n",
              "    </tr>\n",
              "    <tr>\n",
              "      <th>5</th>\n",
              "      <td>5.4</td>\n",
              "      <td>3.9</td>\n",
              "      <td>1.7</td>\n",
              "      <td>0.4</td>\n",
              "      <td>setosa</td>\n",
              "    </tr>\n",
              "    <tr>\n",
              "      <th>6</th>\n",
              "      <td>4.6</td>\n",
              "      <td>3.4</td>\n",
              "      <td>1.4</td>\n",
              "      <td>0.3</td>\n",
              "      <td>setosa</td>\n",
              "    </tr>\n",
              "    <tr>\n",
              "      <th>7</th>\n",
              "      <td>5.0</td>\n",
              "      <td>3.4</td>\n",
              "      <td>1.5</td>\n",
              "      <td>0.2</td>\n",
              "      <td>setosa</td>\n",
              "    </tr>\n",
              "    <tr>\n",
              "      <th>8</th>\n",
              "      <td>4.4</td>\n",
              "      <td>2.9</td>\n",
              "      <td>1.4</td>\n",
              "      <td>0.2</td>\n",
              "      <td>setosa</td>\n",
              "    </tr>\n",
              "    <tr>\n",
              "      <th>9</th>\n",
              "      <td>4.9</td>\n",
              "      <td>3.1</td>\n",
              "      <td>1.5</td>\n",
              "      <td>0.1</td>\n",
              "      <td>setosa</td>\n",
              "    </tr>\n",
              "  </tbody>\n",
              "</table>\n",
              "</div>"
            ],
            "text/plain": [
              "   sepal_length  sepal_width  petal_length  petal_width species\n",
              "0           5.1          3.5           1.4          0.2  setosa\n",
              "1           4.9          3.0           1.4          0.2  setosa\n",
              "2           4.7          3.2           1.3          0.2  setosa\n",
              "3           4.6          3.1           1.5          0.2  setosa\n",
              "4           5.0          3.6           1.4          0.2  setosa\n",
              "5           5.4          3.9           1.7          0.4  setosa\n",
              "6           4.6          3.4           1.4          0.3  setosa\n",
              "7           5.0          3.4           1.5          0.2  setosa\n",
              "8           4.4          2.9           1.4          0.2  setosa\n",
              "9           4.9          3.1           1.5          0.1  setosa"
            ]
          },
          "metadata": {
            "tags": []
          },
          "execution_count": 17
        }
      ]
    },
    {
      "cell_type": "markdown",
      "metadata": {
        "id": "OtpyxXxIAhx6"
      },
      "source": [
        "## (a) Determine the shape of the dataframe"
      ]
    },
    {
      "cell_type": "code",
      "metadata": {
        "colab": {
          "base_uri": "https://localhost:8080/"
        },
        "id": "pHX3AAzcA3mh",
        "outputId": "1c80440f-c88e-46cf-e5d0-968f8150969a"
      },
      "source": [
        "### GRADED\n",
        "\n",
        "df.shape"
      ],
      "execution_count": 3,
      "outputs": [
        {
          "output_type": "execute_result",
          "data": {
            "text/plain": [
              "(150, 5)"
            ]
          },
          "metadata": {
            "tags": []
          },
          "execution_count": 3
        }
      ]
    },
    {
      "cell_type": "markdown",
      "metadata": {
        "id": "tIRHEsG5Ah05"
      },
      "source": [
        "# (b) Print out all the columns of the dataframe"
      ]
    },
    {
      "cell_type": "code",
      "metadata": {
        "colab": {
          "base_uri": "https://localhost:8080/"
        },
        "id": "ccJ6XiemA4iF",
        "outputId": "e117ddca-7ecd-4c39-cae7-695e0143f945"
      },
      "source": [
        "### GRADED\n",
        "\n",
        "df.columns"
      ],
      "execution_count": 14,
      "outputs": [
        {
          "output_type": "execute_result",
          "data": {
            "text/plain": [
              "Index(['sepal_length', 'sepal_width', 'petal_length', 'petal_width',\n",
              "       'species'],\n",
              "      dtype='object')"
            ]
          },
          "metadata": {
            "tags": []
          },
          "execution_count": 14
        }
      ]
    },
    {
      "cell_type": "markdown",
      "metadata": {
        "id": "zZjh1qnIAh4C"
      },
      "source": [
        "# (c) Print the 3rd element of the dataframe"
      ]
    },
    {
      "cell_type": "code",
      "metadata": {
        "colab": {
          "base_uri": "https://localhost:8080/",
          "height": 80
        },
        "id": "ydwJeqJiA5Li",
        "outputId": "8242cf4f-1965-42e2-e51e-7fc8d744f6f9"
      },
      "source": [
        " ### GRADED\n",
        " \n",
        "df.iloc[[3]]"
      ],
      "execution_count": 15,
      "outputs": [
        {
          "output_type": "execute_result",
          "data": {
            "text/html": [
              "<div>\n",
              "<style scoped>\n",
              "    .dataframe tbody tr th:only-of-type {\n",
              "        vertical-align: middle;\n",
              "    }\n",
              "\n",
              "    .dataframe tbody tr th {\n",
              "        vertical-align: top;\n",
              "    }\n",
              "\n",
              "    .dataframe thead th {\n",
              "        text-align: right;\n",
              "    }\n",
              "</style>\n",
              "<table border=\"1\" class=\"dataframe\">\n",
              "  <thead>\n",
              "    <tr style=\"text-align: right;\">\n",
              "      <th></th>\n",
              "      <th>sepal_length</th>\n",
              "      <th>sepal_width</th>\n",
              "      <th>petal_length</th>\n",
              "      <th>petal_width</th>\n",
              "      <th>species</th>\n",
              "    </tr>\n",
              "  </thead>\n",
              "  <tbody>\n",
              "    <tr>\n",
              "      <th>3</th>\n",
              "      <td>4.6</td>\n",
              "      <td>3.1</td>\n",
              "      <td>1.5</td>\n",
              "      <td>0.2</td>\n",
              "      <td>setosa</td>\n",
              "    </tr>\n",
              "  </tbody>\n",
              "</table>\n",
              "</div>"
            ],
            "text/plain": [
              "   sepal_length  sepal_width  petal_length  petal_width species\n",
              "3           4.6          3.1           1.5          0.2  setosa"
            ]
          },
          "metadata": {
            "tags": []
          },
          "execution_count": 15
        }
      ]
    },
    {
      "cell_type": "markdown",
      "metadata": {
        "id": "PJ3bD8DRAh7B"
      },
      "source": [
        "# (d) Find the average of 'petal_width' where species is 'virginica'"
      ]
    },
    {
      "cell_type": "code",
      "metadata": {
        "id": "U-IhYc9uA5tq"
      },
      "source": [
        "### GRADED\n",
        "\n",
        "df_species = pd.DataFrame(df.groupby(df['species'] == 'virginica').mean())"
      ],
      "execution_count": 18,
      "outputs": []
    },
    {
      "cell_type": "code",
      "metadata": {
        "colab": {
          "base_uri": "https://localhost:8080/",
          "height": 142
        },
        "id": "jXJsPQvA2n7I",
        "outputId": "5bc127b8-8289-4884-ffe5-348cd83c32e8"
      },
      "source": [
        "df_species"
      ],
      "execution_count": 19,
      "outputs": [
        {
          "output_type": "execute_result",
          "data": {
            "text/html": [
              "<div>\n",
              "<style scoped>\n",
              "    .dataframe tbody tr th:only-of-type {\n",
              "        vertical-align: middle;\n",
              "    }\n",
              "\n",
              "    .dataframe tbody tr th {\n",
              "        vertical-align: top;\n",
              "    }\n",
              "\n",
              "    .dataframe thead th {\n",
              "        text-align: right;\n",
              "    }\n",
              "</style>\n",
              "<table border=\"1\" class=\"dataframe\">\n",
              "  <thead>\n",
              "    <tr style=\"text-align: right;\">\n",
              "      <th></th>\n",
              "      <th>sepal_length</th>\n",
              "      <th>sepal_width</th>\n",
              "      <th>petal_length</th>\n",
              "      <th>petal_width</th>\n",
              "    </tr>\n",
              "    <tr>\n",
              "      <th>species</th>\n",
              "      <th></th>\n",
              "      <th></th>\n",
              "      <th></th>\n",
              "      <th></th>\n",
              "    </tr>\n",
              "  </thead>\n",
              "  <tbody>\n",
              "    <tr>\n",
              "      <th>False</th>\n",
              "      <td>5.471</td>\n",
              "      <td>3.099</td>\n",
              "      <td>2.861</td>\n",
              "      <td>0.786</td>\n",
              "    </tr>\n",
              "    <tr>\n",
              "      <th>True</th>\n",
              "      <td>6.588</td>\n",
              "      <td>2.974</td>\n",
              "      <td>5.552</td>\n",
              "      <td>2.026</td>\n",
              "    </tr>\n",
              "  </tbody>\n",
              "</table>\n",
              "</div>"
            ],
            "text/plain": [
              "         sepal_length  sepal_width  petal_length  petal_width\n",
              "species                                                      \n",
              "False           5.471        3.099         2.861        0.786\n",
              "True            6.588        2.974         5.552        2.026"
            ]
          },
          "metadata": {
            "tags": []
          },
          "execution_count": 19
        }
      ]
    },
    {
      "cell_type": "code",
      "metadata": {
        "colab": {
          "base_uri": "https://localhost:8080/"
        },
        "id": "lE8BGzkh1VIJ",
        "outputId": "159e6d1d-d87e-4ab3-9d44-a7de9a7d35a4"
      },
      "source": [
        "df_species['petal_width'].loc[True]"
      ],
      "execution_count": 20,
      "outputs": [
        {
          "output_type": "execute_result",
          "data": {
            "text/plain": [
              "2.026"
            ]
          },
          "metadata": {
            "tags": []
          },
          "execution_count": 20
        }
      ]
    },
    {
      "cell_type": "markdown",
      "metadata": {
        "id": "OZPgVp9cw8yW"
      },
      "source": [
        "- First, we have filtered the data frame using group by and using loc[] we have fetched only the mean value of virginica species’ petal width average as 2.026"
      ]
    },
    {
      "cell_type": "markdown",
      "metadata": {
        "id": "5_xNCwGCAh90"
      },
      "source": [
        "# (e) Find the maximum of 'sepal_width' where species is 'setosa'"
      ]
    },
    {
      "cell_type": "code",
      "metadata": {
        "id": "MPHaAmKCA6V5"
      },
      "source": [
        "### GRADED\n",
        "\n",
        "df_species_setosa = df.groupby(df['species'] == 'setosa').max()"
      ],
      "execution_count": 21,
      "outputs": []
    },
    {
      "cell_type": "code",
      "metadata": {
        "colab": {
          "base_uri": "https://localhost:8080/",
          "height": 142
        },
        "id": "IiDZDxH4U2hR",
        "outputId": "f901c76e-7ae0-4edb-b89f-ef850a4b2554"
      },
      "source": [
        "df_species_setosa"
      ],
      "execution_count": 23,
      "outputs": [
        {
          "output_type": "execute_result",
          "data": {
            "text/html": [
              "<div>\n",
              "<style scoped>\n",
              "    .dataframe tbody tr th:only-of-type {\n",
              "        vertical-align: middle;\n",
              "    }\n",
              "\n",
              "    .dataframe tbody tr th {\n",
              "        vertical-align: top;\n",
              "    }\n",
              "\n",
              "    .dataframe thead th {\n",
              "        text-align: right;\n",
              "    }\n",
              "</style>\n",
              "<table border=\"1\" class=\"dataframe\">\n",
              "  <thead>\n",
              "    <tr style=\"text-align: right;\">\n",
              "      <th></th>\n",
              "      <th>sepal_length</th>\n",
              "      <th>sepal_width</th>\n",
              "      <th>petal_length</th>\n",
              "      <th>petal_width</th>\n",
              "      <th>species</th>\n",
              "    </tr>\n",
              "    <tr>\n",
              "      <th>species</th>\n",
              "      <th></th>\n",
              "      <th></th>\n",
              "      <th></th>\n",
              "      <th></th>\n",
              "      <th></th>\n",
              "    </tr>\n",
              "  </thead>\n",
              "  <tbody>\n",
              "    <tr>\n",
              "      <th>False</th>\n",
              "      <td>7.9</td>\n",
              "      <td>3.8</td>\n",
              "      <td>6.9</td>\n",
              "      <td>2.5</td>\n",
              "      <td>virginica</td>\n",
              "    </tr>\n",
              "    <tr>\n",
              "      <th>True</th>\n",
              "      <td>5.8</td>\n",
              "      <td>4.4</td>\n",
              "      <td>1.9</td>\n",
              "      <td>0.6</td>\n",
              "      <td>setosa</td>\n",
              "    </tr>\n",
              "  </tbody>\n",
              "</table>\n",
              "</div>"
            ],
            "text/plain": [
              "         sepal_length  sepal_width  petal_length  petal_width    species\n",
              "species                                                                 \n",
              "False             7.9          3.8           6.9          2.5  virginica\n",
              "True              5.8          4.4           1.9          0.6     setosa"
            ]
          },
          "metadata": {
            "tags": []
          },
          "execution_count": 23
        }
      ]
    },
    {
      "cell_type": "code",
      "metadata": {
        "colab": {
          "base_uri": "https://localhost:8080/"
        },
        "id": "NaVKdJNvUmpe",
        "outputId": "16f92095-b6ea-4a31-bbb3-d855f5625eb1"
      },
      "source": [
        "df_species_setosa['sepal_width'].loc[True]"
      ],
      "execution_count": 22,
      "outputs": [
        {
          "output_type": "execute_result",
          "data": {
            "text/plain": [
              "4.4"
            ]
          },
          "metadata": {
            "tags": []
          },
          "execution_count": 22
        }
      ]
    },
    {
      "cell_type": "markdown",
      "metadata": {
        "id": "2QJUzs2dxUHZ"
      },
      "source": [
        "- First, we have filtered the data frame using group by and using loc[] we have fetched only the max value of setosa species’ sepal width maximum value as 4.4"
      ]
    },
    {
      "cell_type": "markdown",
      "metadata": {
        "id": "0issEMLmAsVS"
      },
      "source": [
        "# (f) What is the average value of sepal_length\n",
        "\n"
      ]
    },
    {
      "cell_type": "code",
      "metadata": {
        "colab": {
          "base_uri": "https://localhost:8080/"
        },
        "id": "ronNs2hIA6-h",
        "outputId": "12a84d33-e2b1-4cb0-f2a0-6e1dfdd3ec32"
      },
      "source": [
        "### GRADED\n",
        "\n",
        "df['sepal_length'].mean()"
      ],
      "execution_count": null,
      "outputs": [
        {
          "output_type": "execute_result",
          "data": {
            "text/plain": [
              "5.843333333333335"
            ]
          },
          "metadata": {
            "tags": []
          },
          "execution_count": 20
        }
      ]
    },
    {
      "cell_type": "markdown",
      "metadata": {
        "id": "KbhNVFhdAyXp"
      },
      "source": [
        "# (g) What is the maximum value of sepal_width"
      ]
    },
    {
      "cell_type": "code",
      "metadata": {
        "colab": {
          "base_uri": "https://localhost:8080/"
        },
        "id": "jDWaHxiQEsJ6",
        "outputId": "109d5ccd-5f29-48b6-b24e-97324527a681"
      },
      "source": [
        "### GRADED\n",
        "\n",
        "df['sepal_width'].max()"
      ],
      "execution_count": null,
      "outputs": [
        {
          "output_type": "execute_result",
          "data": {
            "text/plain": [
              "4.4"
            ]
          },
          "metadata": {
            "tags": []
          },
          "execution_count": 21
        }
      ]
    },
    {
      "cell_type": "markdown",
      "metadata": {
        "id": "Qzzptf26AsYY"
      },
      "source": [
        "# (h) What is the minimum value of petal_width"
      ]
    },
    {
      "cell_type": "code",
      "metadata": {
        "colab": {
          "base_uri": "https://localhost:8080/"
        },
        "id": "LuJsWDjkAgPV",
        "outputId": "ba80f376-d394-459a-a772-71049d23001d"
      },
      "source": [
        "### GRADED\n",
        "\n",
        "df['petal_width'].min()"
      ],
      "execution_count": null,
      "outputs": [
        {
          "output_type": "execute_result",
          "data": {
            "text/plain": [
              "0.1"
            ]
          },
          "metadata": {
            "tags": []
          },
          "execution_count": 22
        }
      ]
    },
    {
      "cell_type": "markdown",
      "metadata": {
        "id": "mFVoFDJJ4Uby"
      },
      "source": [
        "## Reference:\n",
        "\n",
        "https://note.nkmk.me/en/python-numpy-ndarray-ndim-shape-size/\n",
        "\n",
        "https://numpy.org/doc/stable/reference/generated/numpy.mean.html\n",
        "\n",
        "https://stackoverflow.com/questions/54293368/python-pandas-access-to-true-and-false-values-after-groupby-and-size-are-applied"
      ]
    },
    {
      "cell_type": "markdown",
      "metadata": {
        "collapsed": true,
        "id": "VlJC620g9N8R"
      },
      "source": [
        "### GRADED: \n",
        "Getting started on the capstone project\n",
        "You should start working on your Capstone Project this week. \n",
        "For this week, the task consists of finalizing your selection of a dataset of interest.\n",
        " - You can use the links in the supplementary materials to help you find the dataset\n",
        " - This dataset should be publicly accessible and available for download\n",
        " - Should be of interest to the class\n",
        " - The goal is to be asking and answering important questions about the data\n",
        "\n",
        "#### Open datasets\n",
        "          \n",
        "* Resources for open data\n",
        "  * https://data.boston.gov/\n",
        "  * https://www.data.gov/\n",
        "  * https://www.bls.gov/data/\n",
        "  * http://www.fao.org/statistics/databases/en/\n",
        "  * http://ec.europa.eu/eurostat/web/main\n",
        "  * http://census.gov\n",
        "    \n"
      ]
    },
    {
      "cell_type": "markdown",
      "metadata": {
        "id": "fasGvBM_QQfp"
      },
      "source": [
        "# Questions (GRADED)"
      ]
    },
    {
      "cell_type": "markdown",
      "metadata": {
        "id": "kQx3UZE8Ae7n"
      },
      "source": [
        "# **Question 1 : Shortlist 3 (three) datasets of interest**\n",
        "\n",
        "**A:** Shortlisted three datasets are as follows,\n",
        "\n",
        "1) UCI Machine Learning Repository\n",
        "\n",
        "https://archive.ics.uci.edu/ml/datasets/census+income\n",
        "\n",
        "2) Heart Disease Data Set\n",
        "\n",
        "https://archive.ics.uci.edu/ml/datasets/Heart+Disease\n",
        "\n",
        "3) Student Performance Data Set\n",
        "\n",
        "https://archive.ics.uci.edu/ml/datasets/Student+Performance"
      ]
    },
    {
      "cell_type": "markdown",
      "metadata": {
        "id": "k5ilUaUBCucA"
      },
      "source": [
        "# **Question 2 : For each dataset suggest describe the data (a few sentences) and questions that can be answered using that data (a few sentences)**\n",
        "\n",
        "A: Dataset Exploration - \n",
        "\n",
        "## **1) Cencus Income data set**\n",
        "\n",
        "https://archive.ics.uci.edu/ml/datasets/census+income\n",
        "\n",
        "**Dataset Info:** Dataset was collected by Barry Becker from the 1994 Census database. \n",
        "\n",
        "The data contains 32k observations and 13 attributes or variables related to the changed census.\n",
        "\n",
        "***Question:*** Prediction task is to determine whether a person makes over 50K a year.\n",
        "\n",
        "**Note:** I am intrested in this dataset as the new Covid episode has seen a tremendous measure of individuals who who signed up for the stimulus checks of 1200 USD in America in the wake of losing their jobs. One of the necessities for the beneficiaries is to have their yearly earnings under $75,000, which is all available through their yearly assessment report.\n",
        "\n",
        "Understanding the likely yearly pay of unfiled taxes people can assist to help the government with making key strides in dealing with them and guaranteeing the size of their bank hold. Consequently, the government would profit immensely from an Machine Learning model that can assist with anticipating a person's pay base on their demographic features.\n",
        "\n",
        "According to the Inflationcalcualtor.com, 50,000USD in 1994 equals to $87,000 in 2019. So by using the UCI data I would like to built the modle and provide the best perorming model. In future, this model can be used to apply for the current year’s dataset.\n",
        "\n",
        "\n",
        "## **2) Heart Disease Data Set** \n",
        "\n",
        "https://archive.ics.uci.edu/ml/datasets/Heart+Disease\n",
        "\n",
        "**Dataset Info:** This database contains 76 attributes, but all published experiments refer to using a subset of 14 of them. In particular, the Cleveland database is the only one that has been used by ML researchers to this date. \n",
        "\n",
        "***Question:*** Predict the diagnosis of heart disease (angiographic disease status) based on the provided features.\n",
        "\n",
        "-- Value 0: < 50% diameter narrowing\n",
        "\n",
        "-- Value 1: > 50% diameter narrowing\n",
        "\n",
        "## **3) Student Performance Data Set**\n",
        "\n",
        "https://archive.ics.uci.edu/ml/datasets/Student+Performance\n",
        "\n",
        "**Dataset Info:** This data approach student achievement in secondary education of two Portuguese schools. The data attributes include student grades, demographic, social and school related features) and it was collected by using school reports and questionnaires. Two datasets are provided regarding the performance in two distinct subjects: Mathematics (mat) and Portuguese language (por).\n",
        "\n",
        "***Question:*** Predict the students final gread G3 range between 0 to 20. \n",
        "\n",
        "-- Value 0: fail \n",
        "\n",
        "-- Value 1 to 20: Anything other then 0 is pass"
      ]
    }
  ]
}