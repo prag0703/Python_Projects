{
 "cells": [
  {
   "cell_type": "markdown",
   "metadata": {},
   "source": [
    "### ALY6140_Summer_2021_Assignment_1_Pragati_Koladiya\n",
    "<b> AIM:</b> Understand the basic structure of <i>functions</i> and <i>If-else</i> use and basic data structures like <i>list and dictionary</i>, and <i>for loop</i>. "
   ]
  },
  {
   "cell_type": "markdown",
   "metadata": {},
   "source": [
    "### Import Packages"
   ]
  },
  {
   "cell_type": "code",
   "execution_count": 1,
   "metadata": {},
   "outputs": [],
   "source": [
    "#Importing necessary libraries\n",
    "import pandas as pd\n",
    "import numpy as np"
   ]
  },
  {
   "cell_type": "markdown",
   "metadata": {},
   "source": [
    "### Create functions & cal functions by passing arguments"
   ]
  },
  {
   "cell_type": "code",
   "execution_count": 2,
   "metadata": {},
   "outputs": [
    {
     "name": "stdout",
     "output_type": "stream",
     "text": [
      "9\n"
     ]
    }
   ],
   "source": [
    "# GRADED\n",
    "# Provided below are functions that are completely defined (add_numbers),\n",
    "# partially defined (sub_numbers) and not defined (mult_numbers)\n",
    "\n",
    "def add_numbers(a, b):\n",
    "    result = a + b\n",
    "    return result\n",
    "\n",
    "# (a) Complete sub_numbers so that it return difference of two numbers\n",
    "def sub_numbers(a, b):\n",
    "    # Write code to return sum of a and b\n",
    "    result =  a - b \n",
    "    return result\n",
    "\n",
    "# (b) Write a function called mult_numbers to multiply two numbers\n",
    "def mult_numbers(a, b):\n",
    "    result =  a * b \n",
    "    return result\n",
    "\n",
    "# Uncomment the following when you have done the exercise\n",
    "# a^2-b^2 = (a+b)*(a-b)\n",
    "# e.g 5^2 - 4^2 = (5+4)(5-4) = 9\n",
    "print(mult_numbers(add_numbers(5,4), sub_numbers(5,4)))\n",
    "# Should print 9"
   ]
  },
  {
   "cell_type": "markdown",
   "metadata": {},
   "source": [
    "- The function is a piece of code written to carry out a specified task. To carry out that specific task, the function might or might not need multiple inputs. Here, we are providing input by passing the argument to the function's parameters.\n",
    "\n",
    "- As we can observe from the above code, there are three functions ADD, SUB, and MUL. The task is to first add 5 and 4 at the same time also subtract 5 and 4. Finally, multiply both the results and print out the final output, which is happening in the final line.  "
   ]
  },
  {
   "cell_type": "markdown",
   "metadata": {},
   "source": [
    "### Basic Calculatior\n",
    "- Applied the concepts covered during the class"
   ]
  },
  {
   "cell_type": "code",
   "execution_count": 3,
   "metadata": {},
   "outputs": [
    {
     "name": "stdout",
     "output_type": "stream",
     "text": [
      "Select operation.\n",
      "1.Add\n",
      "2.Subtract\n",
      "3.Multiply\n",
      "4.Divide\n",
      "-------------------------\n",
      "Enter choice: 1\n",
      "Enter first number: 23\n",
      "Enter second number: 21\n",
      "You have selected ADD\n",
      "23.0 + 21.0 = 44.0\n"
     ]
    }
   ],
   "source": [
    "def add_numbers(a, b):\n",
    "    result = a + b\n",
    "    return result\n",
    "\n",
    "def sub_numbers(a, b):\n",
    "    result =  a - b \n",
    "    return result\n",
    "\n",
    "def mult_numbers(a, b):\n",
    "    result =  a * b \n",
    "    return result\n",
    "\n",
    "def div_numbers(a, b):\n",
    "    result =  a / b \n",
    "    return result\n",
    "\n",
    "print(\"Select operation.\")\n",
    "add = print(\"1.Add\")\n",
    "sub = print(\"2.Subtract\")\n",
    "mul = print(\"3.Multiply\")\n",
    "div = print(\"4.Divide\")\n",
    "\n",
    "print(\"-------------------------\")\n",
    "while True:\n",
    "    # Take input from the user\n",
    "    choice = input(\"Enter choice: \")\n",
    "    # Checking if choice is one of the four options\n",
    "    if choice in ('1', '2', '3', '4'):\n",
    "        num1 = float(input(\"Enter first number: \"))\n",
    "        num2 = float(input(\"Enter second number: \"))\n",
    "\n",
    "        if choice == '1':\n",
    "            print(\"You have selected ADD\")\n",
    "            print(num1, \"+\", num2, \"=\", add_numbers(num1, num2))\n",
    "\n",
    "        elif choice == '2':\n",
    "            print(\"You have selected SUB\")\n",
    "            print(num1, \"-\", num2, \"=\", sub_numbers(num1, num2))\n",
    "\n",
    "        elif choice == '3':\n",
    "            print(\"You have selected MUL\")\n",
    "            print(num1, \"*\", num2, \"=\", mult_numbers(num1, num2))\n",
    "\n",
    "        elif choice == '4':\n",
    "            print(\"You have selected DIV\")\n",
    "            print(num1, \"/\", num2, \"=\", div_numbers(num1, num2))\n",
    "        break\n",
    "    else:\n",
    "        print(\"Invalid Input. Please select operation between 1 and 4\")\n"
   ]
  },
  {
   "cell_type": "markdown",
   "metadata": {},
   "source": [
    "### Create function to print the name as required"
   ]
  },
  {
   "cell_type": "code",
   "execution_count": 4,
   "metadata": {},
   "outputs": [
    {
     "name": "stdout",
     "output_type": "stream",
     "text": [
      "Your name is Josephine\n"
     ]
    }
   ],
   "source": [
    "# GRADED\n",
    "# Write a function that takes a name and returns\n",
    "# \"Your name is <given_name>\"\n",
    "# Example:\n",
    "# print_name(\"Josephine\") should return \"Your name is Josephine\"\n",
    "# Hint: You string formatting functionality. https://pyformat.info/\n",
    "def print_name(name):\n",
    "    formatted_result = print (\"Your name is {}\".format(name)) \n",
    "    return formatted_result\n",
    "\n",
    "print_name(\"Josephine\")"
   ]
  },
  {
   "cell_type": "markdown",
   "metadata": {},
   "source": [
    "- Formatters work by putting in one or more replacement fields and placeholders defined by a pair of curly braces { } into a string and calling the str.format(). \n",
    "\n",
    "- The value we wish to put into the placeholders and concatenate with the string passed as parameters into the format function. \n",
    "\n",
    "- We have passed the name Josephine to the function to print the name with the fixed statement."
   ]
  },
  {
   "cell_type": "markdown",
   "metadata": {},
   "source": [
    "### User user input to print the person's name"
   ]
  },
  {
   "cell_type": "code",
   "execution_count": 5,
   "metadata": {},
   "outputs": [
    {
     "name": "stdout",
     "output_type": "stream",
     "text": [
      "Enter name : Pragati\n",
      "Your name is Pragati\n"
     ]
    }
   ],
   "source": [
    "name = input(\"Enter name : \")\n",
    "def print_name(name):\n",
    "    formatted_result = print (\"Your name is {}\".format(name)) \n",
    "    return formatted_result\n",
    "\n",
    "print_name(name)"
   ]
  },
  {
   "cell_type": "markdown",
   "metadata": {
    "collapsed": true
   },
   "source": [
    "### Use the for loop and If-else conditions to filter the list and disctionary"
   ]
  },
  {
   "cell_type": "code",
   "execution_count": 6,
   "metadata": {},
   "outputs": [
    {
     "name": "stdout",
     "output_type": "stream",
     "text": [
      "2\n",
      "4\n",
      "CEO: Microsoft, Name: Satya Nadella\n",
      "CEO: Amazon, Name: Jeff Bezos\n",
      "CEO: Apple, Name: Tim Cook\n"
     ]
    }
   ],
   "source": [
    "# GRADED\n",
    "\n",
    "# (a) Using a for loop, iterate through the list x\n",
    "# and print an item if its divisible by 2 and less than 6\n",
    "\n",
    "x = [1, 2, 3, 4, 5, 6, 7, 8, 9, 10]\n",
    "\n",
    "for num in x: \n",
    "    if num%2 == 0 and num < 6: \n",
    "        print(num)         \n",
    "        \n",
    "# (b) Using a for loop, iterate through the dictionary y\n",
    "# and print a single string of the form \"company, ceo\"\n",
    "# e.g. \"CEO: Apple, Name: Tim Cook\" will be the third entry\n",
    "       \n",
    "y = {\n",
    "    'Satya Nadella': 'Microsoft',\n",
    "    'Jeff Bezos': 'Amazon',\n",
    "    'Tim Cook': 'Apple'\n",
    "}\n",
    "for comp_name in y:\n",
    "        print(\"CEO: \"+ y[comp_name] + \", Name: \" + comp_name)"
   ]
  },
  {
   "cell_type": "markdown",
   "metadata": {},
   "source": [
    "- To iterate the list, first created the for loop, which holds each number in num variable. Each number will pass through the condition to check whether the number is divisible by 2 and less than 6 or not. If it satisfies, then num will be printed.\n",
    "\n",
    "- To print the formatted results from the dictionary. First, created the for loop and passed the key and values to the print function. \n",
    " - y[comp_name] will print the value, and comp_name will print the key. \n",
    " - Dictionary is stored in 'Key': 'Value' pair format. "
   ]
  },
  {
   "cell_type": "markdown",
   "metadata": {},
   "source": [
    "## Reference:\n",
    "- https://www.w3schools.com/python/python_for_loops.asp\n",
    "- https://www.geeksforgeeks.org/python-if-else/"
   ]
  }
 ],
 "metadata": {
  "kernelspec": {
   "display_name": "Python 3",
   "language": "python",
   "name": "python3"
  },
  "language_info": {
   "codemirror_mode": {
    "name": "ipython",
    "version": 3
   },
   "file_extension": ".py",
   "mimetype": "text/x-python",
   "name": "python",
   "nbconvert_exporter": "python",
   "pygments_lexer": "ipython3",
   "version": "3.8.8"
  }
 },
 "nbformat": 4,
 "nbformat_minor": 2
}
