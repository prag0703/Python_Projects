{
 "cells": [
  {
   "cell_type": "markdown",
   "id": "a298621c",
   "metadata": {},
   "source": [
    "### Total Cost of European Items\n",
    "\n",
    "Below is the code to recreate our European item dictionary.\n",
    "\n",
    "Run the cells below, then follow the instructions below."
   ]
  },
  {
   "cell_type": "code",
   "execution_count": null,
   "id": "45f1ca40",
   "metadata": {},
   "outputs": [],
   "source": [
    "# Data for dictionary - run this cell and the followwing to create it\n",
    "\n",
    "item_ids = [\n",
    "    10001, 10002, 10003, 10004, 10005, \n",
    "    10006, 10007, 10008, 10009\n",
    "]\n",
    "\n",
    "item_names = [\n",
    "    \"Coffee\", \"Beanie\", \"Gloves\", \"Sweatshirt\", \"Helmet\",\n",
    "    \"Snow Pants\", \"Coat\", \"Ski Poles\", \"Ski Boots\"\n",
    "]\n",
    "\n",
    "euro_prices = [\n",
    "    5.27, 8.79, 17.59, 21.99, 87.99, \n",
    "    70.39, 105.59, 87.99, 175.99\n",
    "]\n",
    "\n",
    "item_category = [\n",
    "    \"beverage\", \"clothing\", \"clothing\", \"clothing\", \"safety\",\n",
    "    \"clothing\", \"clothing\", \"hardware\", \"hardware\",\n",
    "]\n",
    "\n",
    "sizes = [\n",
    "    [\"250mL\"],\n",
    "    [\"Child\", \"Adult\"],\n",
    "    [\"Child\", \"Adult\"],\n",
    "    [\"XS\", \"S\", \"M\", \"L\", \"XL\", \"XXL\"],\n",
    "    [\"Child\", \"Adult\"],\n",
    "    [\"XS\", \"S\", \"M\", \"L\", \"XL\", \"XXL\"],\n",
    "    [\"S\", \"M\", \"L\"],\n",
    "    [\"S\", \"M\", \"L\"],\n",
    "    [5, 6, 7, 8, 9, 10, 11],\n",
    "    [\"S\", \"M\", \"L\"],\n",
    "    [5, 6, 7, 8, 9, 10, 11],\n",
    "    [\"NA\"],\n",
    "    [\"S\", \"M\", \"L\", \"Powder\"],\n",
    "]"
   ]
  },
  {
   "cell_type": "code",
   "execution_count": null,
   "id": "1598d494",
   "metadata": {},
   "outputs": [],
   "source": [
    "# This is a dictionary comprehension\n",
    "# We'll see an example after this assignment!\n",
    "\n",
    "euro_data = {\n",
    "    item_id: [name, price, category, sizes]\n",
    "    for item_id, name, price, category, sizes in zip(\n",
    "        item_ids, item_names, euro_prices, item_category, sizes\n",
    "    )\n",
    "}\n",
    "\n",
    "euro_data"
   ]
  },
  {
   "cell_type": "markdown",
   "id": "134eed00",
   "metadata": {},
   "source": [
    "### Calculate the Total Cost of Items\n",
    "\n",
    "Calculate the amount it would cost to purchase all the items in euro_data.\n",
    "\n",
    "Use a list comprehension to collect them into a list. "
   ]
  },
  {
   "cell_type": "code",
   "execution_count": null,
   "id": "9d248bd0",
   "metadata": {},
   "outputs": [],
   "source": []
  }
 ],
 "metadata": {
  "kernelspec": {
   "display_name": "Python 3 (ipykernel)",
   "language": "python",
   "name": "python3"
  },
  "language_info": {
   "codemirror_mode": {
    "name": "ipython",
    "version": 3
   },
   "file_extension": ".py",
   "mimetype": "text/x-python",
   "name": "python",
   "nbconvert_exporter": "python",
   "pygments_lexer": "ipython3",
   "version": "3.9.7"
  }
 },
 "nbformat": 4,
 "nbformat_minor": 5
}
