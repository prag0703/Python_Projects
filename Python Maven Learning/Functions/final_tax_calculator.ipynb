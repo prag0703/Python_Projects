{
 "cells": [
  {
   "cell_type": "markdown",
   "id": "15a7a09a",
   "metadata": {},
   "source": [
    "### Transaction Dictionary Creator\n",
    "\n",
    "Hi there, we need to make some final updates to our tax calculator function.\n",
    "\n",
    "We need a function takes a list of customer_ids, a list of subtotals, and a tax rate, that calls the tax_calculator on a list of subtotals, then returns a dictionary with customer_IDs as keys, and the lists returned from tax_calculator as the values.\n",
    "\n",
    "A dictionary comprehension would be very helpful here.\n",
    "\n",
    "Your function will need the following arguments:\n",
    "\n",
    "* customer_ids - a list of strings\n",
    "* subtotals - a list of numbers\n",
    "* tax_rate - the tax rate which will be passed to tax_calculator\n",
    "\n",
    "The output will be a dictionary with:\n",
    "\n",
    "* Customer IDs as keys\n",
    "* [subtotal, tax, total] as values\n",
    "\n"
   ]
  },
  {
   "cell_type": "code",
   "execution_count": 1,
   "id": "cd849cc8",
   "metadata": {},
   "outputs": [],
   "source": [
    "from tax_calculator import tax_calculator\n",
    "\n",
    "customer_ids = ['C00004', 'C00007', 'C00015', 'C00016', 'C00020', 'C00010']\n",
    "\n",
    "subtotals = [15.98, 899.97, 799.97, 117.96, 5.99, 599.99]"
   ]
  },
  {
   "cell_type": "code",
   "execution_count": 13,
   "id": "0b087eb8",
   "metadata": {},
   "outputs": [],
   "source": []
  },
  {
   "cell_type": "code",
   "execution_count": 9,
   "id": "a2820944",
   "metadata": {},
   "outputs": [
    {
     "data": {
      "text/plain": [
       "{'C00004': [15.98, 1.6, 17.58],\n",
       " 'C00007': [899.97, 90.0, 989.97],\n",
       " 'C00015': [799.97, 80.0, 879.97],\n",
       " 'C00016': [117.96, 11.8, 129.76],\n",
       " 'C00020': [5.99, 0.6, 6.59],\n",
       " 'C00010': [599.99, 60.0, 659.99],\n",
       " 'C00006': [24.99, 2.5, 27.49]}"
      ]
     },
     "execution_count": 9,
     "metadata": {},
     "output_type": "execute_result"
    }
   ],
   "source": []
  },
  {
   "cell_type": "code",
   "execution_count": null,
   "id": "94c17fbd",
   "metadata": {},
   "outputs": [],
   "source": []
  }
 ],
 "metadata": {
  "kernelspec": {
   "display_name": "Python 3 (ipykernel)",
   "language": "python",
   "name": "python3"
  },
  "language_info": {
   "codemirror_mode": {
    "name": "ipython",
    "version": 3
   },
   "file_extension": ".py",
   "mimetype": "text/x-python",
   "name": "python",
   "nbconvert_exporter": "python",
   "pygments_lexer": "ipython3",
   "version": "3.9.7"
  }
 },
 "nbformat": 4,
 "nbformat_minor": 5
}
