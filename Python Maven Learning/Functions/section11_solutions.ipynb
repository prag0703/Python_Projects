{
 "cells": [
  {
   "cell_type": "markdown",
   "id": "f4917c33",
   "metadata": {},
   "source": [
    "#### Assignment: Defining A Function"
   ]
  },
  {
   "cell_type": "code",
   "execution_count": 1,
   "id": "7fc931d5",
   "metadata": {},
   "outputs": [],
   "source": [
    "# define a function that takes in a subtotal and tax rate,\n",
    "# and returns the total amount\n",
    "def tax_calculator(subtotal, sales_tax):\n",
    "    \"\"\"takes in a subtotal and tax rate and returns total owed\n",
    "    \n",
    "    Args:\n",
    "        subtotal (float): cost of items in transaction\n",
    "        tax_rate (float): tax rate at store location\n",
    "        \n",
    "    Returns:\n",
    "        float: total amount owed on transaction\n",
    "    \"\"\"\n",
    "    total = subtotal + (subtotal * sales_tax)\n",
    "\n",
    "    return total"
   ]
  },
  {
   "cell_type": "code",
   "execution_count": 2,
   "id": "b880c6cb",
   "metadata": {},
   "outputs": [
    {
     "data": {
      "text/plain": [
       "106.0"
      ]
     },
     "execution_count": 2,
     "metadata": {},
     "output_type": "execute_result"
    }
   ],
   "source": [
    "tax_calculator(100, 0.06)"
   ]
  },
  {
   "cell_type": "markdown",
   "id": "9b504cc1",
   "metadata": {},
   "source": [
    "#### Assignment: Creating A Module"
   ]
  },
  {
   "cell_type": "code",
   "execution_count": 3,
   "id": "f6bb9d6e",
   "metadata": {},
   "outputs": [],
   "source": [
    "# Modify above function to have a default of .06 for tax rate\n",
    "# (just use = while defining to assign default value)\n",
    "# Then return a list by wrapping comma separated values in brackets"
   ]
  },
  {
   "cell_type": "code",
   "execution_count": 4,
   "id": "890e73be",
   "metadata": {},
   "outputs": [],
   "source": [
    "# uncomment line below to write file\n",
    "# %%writefile tax_calculator.py\n",
    "\n",
    "def tax_calculator(subtotal, sales_tax=.06):\n",
    "    \"\"\"takes in a subtotal and tax rate and returns total owed\n",
    "    \n",
    "    Args:\n",
    "        subtotal (float): cost of items in transaction\n",
    "        tax_rate (float, optional): tax rate at store location. Defaults to .06.\n",
    "        \n",
    "    Returns:\n",
    "        list: list containing subtotal, total, and tax\n",
    "    \"\"\"\n",
    "    tax = round(subtotal * sales_tax, 2)\n",
    "    total = round(subtotal + tax, 2)\n",
    "\n",
    "    return [subtotal, tax, total]"
   ]
  },
  {
   "cell_type": "markdown",
   "id": "088a2188",
   "metadata": {},
   "source": [
    "#### Assignment: Importing A Module"
   ]
  },
  {
   "cell_type": "code",
   "execution_count": 5,
   "id": "251e19a3",
   "metadata": {},
   "outputs": [],
   "source": [
    "from tax_calculator import tax_calculator"
   ]
  },
  {
   "cell_type": "code",
   "execution_count": 6,
   "id": "befacddb",
   "metadata": {},
   "outputs": [
    {
     "data": {
      "text/plain": [
       "[[15.98, 0.96, 16.94],\n",
       " [899.97, 54.0, 953.97],\n",
       " [799.97, 48.0, 847.97],\n",
       " [117.96, 7.08, 125.04],\n",
       " [5.99, 0.36, 6.35],\n",
       " [599.99, 36.0, 635.99]]"
      ]
     },
     "execution_count": 6,
     "metadata": {},
     "output_type": "execute_result"
    }
   ],
   "source": [
    "subtotals = [15.98, 899.97, 799.97, 117.96, 5.99, 599.99]\n",
    "\n",
    "full_transactions = []\n",
    "\n",
    "for subtotal in subtotals:\n",
    "    full_transactions.append(tax_calculator(subtotal))\n",
    "\n",
    "full_transactions"
   ]
  },
  {
   "cell_type": "code",
   "execution_count": 7,
   "id": "a294f1b5",
   "metadata": {},
   "outputs": [
    {
     "data": {
      "text/plain": [
       "{'C00004': [15.98, 0.96, 16.94],\n",
       " 'C00007': [899.97, 54.0, 953.97],\n",
       " 'C00015': [799.97, 48.0, 847.97],\n",
       " 'C00016': [117.96, 7.08, 125.04],\n",
       " 'C00020': [5.99, 0.36, 6.35],\n",
       " 'C00010': [599.99, 36.0, 635.99]}"
      ]
     },
     "execution_count": 7,
     "metadata": {},
     "output_type": "execute_result"
    }
   ],
   "source": [
    "customer_ids = ['C00004', 'C00007', 'C00015', 'C00016', 'C00020', 'C00010']\n",
    "\n",
    "customer_dict = dict(zip(customer_ids, full_transactions))\n",
    "\n",
    "customer_dict"
   ]
  },
  {
   "cell_type": "markdown",
   "id": "96f0d860",
   "metadata": {},
   "source": [
    "#### Assignment: Map()"
   ]
  },
  {
   "cell_type": "code",
   "execution_count": 8,
   "id": "d2c3dbc8",
   "metadata": {},
   "outputs": [
    {
     "data": {
      "text/plain": [
       "[[1799.94, 108.0, 1907.94],\n",
       " [99.99, 6.0, 105.99],\n",
       " [254.95, 15.3, 270.25],\n",
       " [29.98, 1.8, 31.78],\n",
       " [99.99, 6.0, 105.99]]"
      ]
     },
     "execution_count": 8,
     "metadata": {},
     "output_type": "execute_result"
    }
   ],
   "source": [
    "from tax_calculator import tax_calculator\n",
    "\n",
    "subtotals = [1799.94, 99.99, 254.95, 29.98, 99.99]\n",
    "\n",
    "list(map(tax_calculator, subtotals))"
   ]
  },
  {
   "cell_type": "markdown",
   "id": "cdc3253d",
   "metadata": {},
   "source": [
    "#### Assignment: Lambda Functions"
   ]
  },
  {
   "cell_type": "code",
   "execution_count": 9,
   "id": "167cfe24",
   "metadata": {},
   "outputs": [
    {
     "data": {
      "text/plain": [
       "[15.98, 809.97, 719.97, 117.96, 5.99, 539.99]"
      ]
     },
     "execution_count": 9,
     "metadata": {},
     "output_type": "execute_result"
    }
   ],
   "source": [
    "subtotals = [15.98, 899.97, 799.97, 117.96, 5.99, 599.99]\n",
    "\n",
    "discounted_subtotals = list(\n",
    "    map(\n",
    "        lambda subtotal: round(subtotal * 0.9, 2) if subtotal > 500 else subtotal,\n",
    "        subtotals,\n",
    "    )\n",
    ")\n",
    "\n",
    "discounted_subtotals"
   ]
  },
  {
   "cell_type": "markdown",
   "id": "b02cb78e",
   "metadata": {},
   "source": [
    "#### Assignment: List Comprehension"
   ]
  },
  {
   "cell_type": "code",
   "execution_count": 10,
   "id": "45cee63e",
   "metadata": {},
   "outputs": [],
   "source": [
    "# Data for dictionary - run this cell and the following to create it\n",
    "item_ids = [\n",
    "    10001, 10002, 10003, 10004, 10005, \n",
    "    10006, 10007, 10008, 10009\n",
    "]\n",
    "\n",
    "item_names = [\n",
    "    \"Coffee\", \"Beanie\", \"Gloves\", \"Sweatshirt\", \"Helmet\",\n",
    "    \"Snow Pants\", \"Coat\", \"Ski Poles\", \"Ski Boots\"\n",
    "]\n",
    "\n",
    "euro_prices = [\n",
    "    5.27, 8.79, 17.59, 21.99, 87.99, \n",
    "    70.39, 105.59, 87.99, 175.99\n",
    "]\n",
    "\n",
    "item_category = [\n",
    "    \"beverage\", \"clothing\", \"clothing\", \"clothing\", \"safety\",\n",
    "    \"clothing\", \"clothing\", \"hardware\", \"hardware\",\n",
    "]\n",
    "\n",
    "sizes = [\n",
    "    [\"250mL\"],\n",
    "    [\"Child\", \"Adult\"],\n",
    "    [\"Child\", \"Adult\"],\n",
    "    [\"XS\", \"S\", \"M\", \"L\", \"XL\", \"XXL\"],\n",
    "    [\"Child\", \"Adult\"],\n",
    "    [\"XS\", \"S\", \"M\", \"L\", \"XL\", \"XXL\"],\n",
    "    [\"S\", \"M\", \"L\"],\n",
    "    [\"S\", \"M\", \"L\"],\n",
    "    [5, 6, 7, 8, 9, 10, 11],\n",
    "    [\"S\", \"M\", \"L\"],\n",
    "    [5, 6, 7, 8, 9, 10, 11],\n",
    "    [\"NA\"],\n",
    "    [\"S\", \"M\", \"L\", \"Powder\"],\n",
    "]"
   ]
  },
  {
   "cell_type": "code",
   "execution_count": 11,
   "id": "7275f142",
   "metadata": {},
   "outputs": [
    {
     "data": {
      "text/plain": [
       "{10001: ['Coffee', 5.27, 'beverage', ['250mL']],\n",
       " 10002: ['Beanie', 8.79, 'clothing', ['Child', 'Adult']],\n",
       " 10003: ['Gloves', 17.59, 'clothing', ['Child', 'Adult']],\n",
       " 10004: ['Sweatshirt', 21.99, 'clothing', ['XS', 'S', 'M', 'L', 'XL', 'XXL']],\n",
       " 10005: ['Helmet', 87.99, 'safety', ['Child', 'Adult']],\n",
       " 10006: ['Snow Pants', 70.39, 'clothing', ['XS', 'S', 'M', 'L', 'XL', 'XXL']],\n",
       " 10007: ['Coat', 105.59, 'clothing', ['S', 'M', 'L']],\n",
       " 10008: ['Ski Poles', 87.99, 'hardware', ['S', 'M', 'L']],\n",
       " 10009: ['Ski Boots', 175.99, 'hardware', [5, 6, 7, 8, 9, 10, 11]]}"
      ]
     },
     "execution_count": 11,
     "metadata": {},
     "output_type": "execute_result"
    }
   ],
   "source": [
    "# This is a dictionary comprehension\n",
    "# We'll see an example after this assignment!\n",
    "\n",
    "euro_data = {\n",
    "    item_id: [name, price, category, sizes]\n",
    "    for item_id, name, price, category, sizes in zip(\n",
    "        item_ids, item_names, euro_prices, item_category, sizes\n",
    "    )\n",
    "}\n",
    "\n",
    "euro_data"
   ]
  },
  {
   "cell_type": "code",
   "execution_count": 12,
   "id": "ca8b9539",
   "metadata": {},
   "outputs": [
    {
     "data": {
      "text/plain": [
       "581.59"
      ]
     },
     "execution_count": 12,
     "metadata": {},
     "output_type": "execute_result"
    }
   ],
   "source": [
    "# Use a list comprehension to Extract the second\n",
    "# element in each dictionary entries values then sum\n",
    "\n",
    "sum([value[1] for value in euro_data.values()])"
   ]
  },
  {
   "cell_type": "markdown",
   "id": "c1e3c9a7",
   "metadata": {},
   "source": [
    "#### Assignment: Dictionary Comprehension"
   ]
  },
  {
   "cell_type": "code",
   "execution_count": 13,
   "id": "02af4f73",
   "metadata": {},
   "outputs": [],
   "source": [
    "from tax_calculator import tax_calculator\n",
    "\n",
    "customer_ids = ['C00004', 'C00007\", \"C00015', 'C00016', 'C00020', 'C00010']\n",
    "\n",
    "subtotals = [15.98, 899.97, 799.97, 117.96, 5.99, 599.99]"
   ]
  },
  {
   "cell_type": "code",
   "execution_count": 14,
   "id": "404772e2",
   "metadata": {},
   "outputs": [],
   "source": [
    "def transaction_dict_creator(customer_ids, subtotals, tax_rate):\n",
    "    \"\"\"\n",
    "    this function builds a dictionary with customer IDs and transaction info\n",
    "    \n",
    "    Args:\n",
    "        customer_ids (list): list of customer_ids\n",
    "        subtotals (list): list of subtotals\n",
    "        tax_rate (float): tax rate at store location.\n",
    "        \n",
    "    Returns:\n",
    "        dict: dictionary with customer_ids as keys, transaction info as values\n",
    "    \n",
    "    \"\"\"\n",
    "    customer_dict = {\n",
    "        customer_id: tax_calculator(subtotal, tax_rate)\n",
    "        for customer_id, subtotal in zip(customer_ids, subtotals)\n",
    "    }\n",
    "\n",
    "    return customer_dict"
   ]
  },
  {
   "cell_type": "code",
   "execution_count": 15,
   "id": "3291801a",
   "metadata": {},
   "outputs": [
    {
     "data": {
      "text/plain": [
       "{'C00004': [15.98, 1.28, 17.26],\n",
       " 'C00007': [899.97, 72.0, 971.97],\n",
       " 'C00015': [799.97, 64.0, 863.97],\n",
       " 'C00016': [117.96, 9.44, 127.4],\n",
       " 'C00020': [5.99, 0.48, 6.47],\n",
       " 'C00010': [599.99, 48.0, 647.99]}"
      ]
     },
     "execution_count": 15,
     "metadata": {},
     "output_type": "execute_result"
    }
   ],
   "source": [
    "transaction_dict_creator(customer_ids, subtotals, .08)"
   ]
  },
  {
   "cell_type": "code",
   "execution_count": 16,
   "id": "507c0322",
   "metadata": {},
   "outputs": [
    {
     "data": {
      "text/plain": [
       "{'C00004': [15.98, 1.28, 17.26],\n",
       " 'C00007': [899.97, 72.0, 971.97],\n",
       " 'C00015': [799.97, 64.0, 863.97],\n",
       " 'C00016': [117.96, 9.44, 127.4],\n",
       " 'C00020': [5.99, 0.48, 6.47],\n",
       " 'C00010': [599.99, 48.0, 647.99]}"
      ]
     },
     "execution_count": 16,
     "metadata": {},
     "output_type": "execute_result"
    }
   ],
   "source": [
    "# alternative comprehension with enumerate - not quite as clean,\n",
    "# because we're referring to an index but still works!\n",
    "\n",
    "customer_dict = {\n",
    "    customer_ids[i]: tax_calculator(subtotal, 0.08)\n",
    "    for i, subtotal in enumerate(subtotals)\n",
    "}\n",
    "\n",
    "customer_dict"
   ]
  },
  {
   "cell_type": "code",
   "execution_count": null,
   "id": "280acbf6",
   "metadata": {},
   "outputs": [],
   "source": []
  }
 ],
 "metadata": {
  "kernelspec": {
   "display_name": "Python 3 (ipykernel)",
   "language": "python",
   "name": "python3"
  },
  "language_info": {
   "codemirror_mode": {
    "name": "ipython",
    "version": 3
   },
   "file_extension": ".py",
   "mimetype": "text/x-python",
   "name": "python",
   "nbconvert_exporter": "python",
   "pygments_lexer": "ipython3",
   "version": "3.9.7"
  }
 },
 "nbformat": 4,
 "nbformat_minor": 5
}
